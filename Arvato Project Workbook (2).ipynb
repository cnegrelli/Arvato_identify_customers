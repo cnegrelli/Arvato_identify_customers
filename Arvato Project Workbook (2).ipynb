{
 "cells": [
  {
   "cell_type": "markdown",
   "metadata": {},
   "source": [
    "# Capstone Project: Create a Customer Segmentation Report for Arvato Financial Services\n",
    "\n",
    "In this project, you will analyze demographics data for customers of a mail-order sales company in Germany, comparing it against demographics information for the general population. You'll use unsupervised learning techniques to perform customer segmentation, identifying the parts of the population that best describe the core customer base of the company. Then, you'll apply what you've learned on a third dataset with demographics information for targets of a marketing campaign for the company, and use a model to predict which individuals are most likely to convert into becoming customers for the company. The data that you will use has been provided by our partners at Bertelsmann Arvato Analytics, and represents a real-life data science task.\n",
    "\n",
    "If you completed the first term of this program, you will be familiar with the first part of this project, from the unsupervised learning project. The versions of those two datasets used in this project will include many more features and has not been pre-cleaned. You are also free to choose whatever approach you'd like to analyzing the data rather than follow pre-determined steps. In your work on this project, make sure that you carefully document your steps and decisions, since your main deliverable for this project will be a blog post reporting your findings."
   ]
  },
  {
   "cell_type": "code",
   "execution_count": 3,
   "metadata": {},
   "outputs": [],
   "source": [
    "# import libraries here; add more as necessary\n",
    "import numpy as np\n",
    "import pandas as pd\n",
    "import matplotlib.pyplot as plt\n",
    "import seaborn as sns\n",
    "import datetime\n",
    "import time\n",
    "\n",
    "from clean_df4 import clean_df4\n",
    "\n",
    "from sklearn.preprocessing import Imputer, StandardScaler\n",
    "from sklearn.decomposition import PCA\n",
    "from sklearn.cluster import KMeans\n",
    "from sklearn.linear_model import LogisticRegression\n",
    "from sklearn.svm import SVC\n",
    "from sklearn.ensemble import GradientBoostingClassifier, RandomForestClassifier\n",
    "from sklearn.neural_network import MLPClassifier\n",
    "from sklearn.metrics import roc_curve\n",
    "from sklearn.model_selection import GridSearchCV\n",
    "\n",
    "sns.set()\n",
    "\n",
    "# magic word for producing visualizations in notebook\n",
    "%matplotlib inline"
   ]
  },
  {
   "cell_type": "markdown",
   "metadata": {},
   "source": [
    "## Part 0: Get to Know the Data\n",
    "\n",
    "There are four data files associated with this project:\n",
    "\n",
    "- `Udacity_AZDIAS_052018.csv`: Demographics data for the general population of Germany; 891 211 persons (rows) x 366 features (columns).\n",
    "- `Udacity_CUSTOMERS_052018.csv`: Demographics data for customers of a mail-order company; 191 652 persons (rows) x 369 features (columns).\n",
    "- `Udacity_MAILOUT_052018_TRAIN.csv`: Demographics data for individuals who were targets of a marketing campaign; 42 982 persons (rows) x 367 (columns).\n",
    "- `Udacity_MAILOUT_052018_TEST.csv`: Demographics data for individuals who were targets of a marketing campaign; 42 833 persons (rows) x 366 (columns).\n",
    "\n",
    "Each row of the demographics files represents a single person, but also includes information outside of individuals, including information about their household, building, and neighborhood. Use the information from the first two files to figure out how customers (\"CUSTOMERS\") are similar to or differ from the general population at large (\"AZDIAS\"), then use your analysis to make predictions on the other two files (\"MAILOUT\"), predicting which recipients are most likely to become a customer for the mail-order company.\n",
    "\n",
    "The \"CUSTOMERS\" file contains three extra columns ('CUSTOMER_GROUP', 'ONLINE_PURCHASE', and 'PRODUCT_GROUP'), which provide broad information about the customers depicted in the file. The original \"MAILOUT\" file included one additional column, \"RESPONSE\", which indicated whether or not each recipient became a customer of the company. For the \"TRAIN\" subset, this column has been retained, but in the \"TEST\" subset it has been removed; it is against that withheld column that your final predictions will be assessed in the Kaggle competition.\n",
    "\n",
    "Otherwise, all of the remaining columns are the same between the three data files. For more information about the columns depicted in the files, you can refer to two Excel spreadsheets provided in the workspace. [One of them](./DIAS Information Levels - Attributes 2017.xlsx) is a top-level list of attributes and descriptions, organized by informational category. [The other](./DIAS Attributes - Values 2017.xlsx) is a detailed mapping of data values for each feature in alphabetical order.\n",
    "\n",
    "In the below cell, we've provided some initial code to load in the first two datasets. Note for all of the `.csv` data files in this project that they're semicolon (`;`) delimited, so an additional argument in the [`read_csv()`](https://pandas.pydata.org/pandas-docs/stable/generated/pandas.read_csv.html) call has been included to read in the data properly. Also, considering the size of the datasets, it may take some time for them to load completely.\n",
    "\n",
    "You'll notice when the data is loaded in that a warning message will immediately pop up. Before you really start digging into the modeling and analysis, you're going to need to perform some cleaning. Take some time to browse the structure of the data and look over the informational spreadsheets to understand the data values. Make some decisions on which features to keep, which features to drop, and if any revisions need to be made on data formats. It'll be a good idea to create a function with pre-processing steps, since you'll need to clean all of the datasets before you work with them."
   ]
  },
  {
   "cell_type": "code",
   "execution_count": 2,
   "metadata": {},
   "outputs": [
    {
     "name": "stderr",
     "output_type": "stream",
     "text": [
      "/opt/conda/lib/python3.6/site-packages/IPython/core/interactiveshell.py:2785: DtypeWarning: Columns (18,19) have mixed types. Specify dtype option on import or set low_memory=False.\n",
      "  interactivity=interactivity, compiler=compiler, result=result)\n"
     ]
    }
   ],
   "source": [
    "# load in the data\n",
    "azdias = pd.read_csv('../../data/Term2/capstone/arvato_data/Udacity_AZDIAS_052018.csv', sep=';')\n",
    "customers = pd.read_csv('../../data/Term2/capstone/arvato_data/Udacity_CUSTOMERS_052018.csv', sep=';')"
   ]
  },
  {
   "cell_type": "markdown",
   "metadata": {},
   "source": [
    "### Data exploration"
   ]
  },
  {
   "cell_type": "code",
   "execution_count": 3,
   "metadata": {},
   "outputs": [
    {
     "data": {
      "text/html": [
       "<div>\n",
       "<style scoped>\n",
       "    .dataframe tbody tr th:only-of-type {\n",
       "        vertical-align: middle;\n",
       "    }\n",
       "\n",
       "    .dataframe tbody tr th {\n",
       "        vertical-align: top;\n",
       "    }\n",
       "\n",
       "    .dataframe thead th {\n",
       "        text-align: right;\n",
       "    }\n",
       "</style>\n",
       "<table border=\"1\" class=\"dataframe\">\n",
       "  <thead>\n",
       "    <tr style=\"text-align: right;\">\n",
       "      <th></th>\n",
       "      <th>LNR</th>\n",
       "      <th>AGER_TYP</th>\n",
       "      <th>AKT_DAT_KL</th>\n",
       "      <th>ALTER_HH</th>\n",
       "      <th>ALTER_KIND1</th>\n",
       "      <th>ALTER_KIND2</th>\n",
       "      <th>ALTER_KIND3</th>\n",
       "      <th>ALTER_KIND4</th>\n",
       "      <th>ALTERSKATEGORIE_FEIN</th>\n",
       "      <th>ANZ_HAUSHALTE_AKTIV</th>\n",
       "      <th>...</th>\n",
       "      <th>VHN</th>\n",
       "      <th>VK_DHT4A</th>\n",
       "      <th>VK_DISTANZ</th>\n",
       "      <th>VK_ZG11</th>\n",
       "      <th>W_KEIT_KIND_HH</th>\n",
       "      <th>WOHNDAUER_2008</th>\n",
       "      <th>WOHNLAGE</th>\n",
       "      <th>ZABEOTYP</th>\n",
       "      <th>ANREDE_KZ</th>\n",
       "      <th>ALTERSKATEGORIE_GROB</th>\n",
       "    </tr>\n",
       "  </thead>\n",
       "  <tbody>\n",
       "    <tr>\n",
       "      <th>0</th>\n",
       "      <td>910215</td>\n",
       "      <td>-1</td>\n",
       "      <td>NaN</td>\n",
       "      <td>NaN</td>\n",
       "      <td>NaN</td>\n",
       "      <td>NaN</td>\n",
       "      <td>NaN</td>\n",
       "      <td>NaN</td>\n",
       "      <td>NaN</td>\n",
       "      <td>NaN</td>\n",
       "      <td>...</td>\n",
       "      <td>NaN</td>\n",
       "      <td>NaN</td>\n",
       "      <td>NaN</td>\n",
       "      <td>NaN</td>\n",
       "      <td>NaN</td>\n",
       "      <td>NaN</td>\n",
       "      <td>NaN</td>\n",
       "      <td>3</td>\n",
       "      <td>1</td>\n",
       "      <td>2</td>\n",
       "    </tr>\n",
       "    <tr>\n",
       "      <th>1</th>\n",
       "      <td>910220</td>\n",
       "      <td>-1</td>\n",
       "      <td>9.0</td>\n",
       "      <td>0.0</td>\n",
       "      <td>NaN</td>\n",
       "      <td>NaN</td>\n",
       "      <td>NaN</td>\n",
       "      <td>NaN</td>\n",
       "      <td>21.0</td>\n",
       "      <td>11.0</td>\n",
       "      <td>...</td>\n",
       "      <td>4.0</td>\n",
       "      <td>8.0</td>\n",
       "      <td>11.0</td>\n",
       "      <td>10.0</td>\n",
       "      <td>3.0</td>\n",
       "      <td>9.0</td>\n",
       "      <td>4.0</td>\n",
       "      <td>5</td>\n",
       "      <td>2</td>\n",
       "      <td>1</td>\n",
       "    </tr>\n",
       "    <tr>\n",
       "      <th>2</th>\n",
       "      <td>910225</td>\n",
       "      <td>-1</td>\n",
       "      <td>9.0</td>\n",
       "      <td>17.0</td>\n",
       "      <td>NaN</td>\n",
       "      <td>NaN</td>\n",
       "      <td>NaN</td>\n",
       "      <td>NaN</td>\n",
       "      <td>17.0</td>\n",
       "      <td>10.0</td>\n",
       "      <td>...</td>\n",
       "      <td>2.0</td>\n",
       "      <td>9.0</td>\n",
       "      <td>9.0</td>\n",
       "      <td>6.0</td>\n",
       "      <td>3.0</td>\n",
       "      <td>9.0</td>\n",
       "      <td>2.0</td>\n",
       "      <td>5</td>\n",
       "      <td>2</td>\n",
       "      <td>3</td>\n",
       "    </tr>\n",
       "  </tbody>\n",
       "</table>\n",
       "<p>3 rows × 366 columns</p>\n",
       "</div>"
      ],
      "text/plain": [
       "      LNR  AGER_TYP  AKT_DAT_KL  ALTER_HH  ALTER_KIND1  ALTER_KIND2  \\\n",
       "0  910215        -1         NaN       NaN          NaN          NaN   \n",
       "1  910220        -1         9.0       0.0          NaN          NaN   \n",
       "2  910225        -1         9.0      17.0          NaN          NaN   \n",
       "\n",
       "   ALTER_KIND3  ALTER_KIND4  ALTERSKATEGORIE_FEIN  ANZ_HAUSHALTE_AKTIV  \\\n",
       "0          NaN          NaN                   NaN                  NaN   \n",
       "1          NaN          NaN                  21.0                 11.0   \n",
       "2          NaN          NaN                  17.0                 10.0   \n",
       "\n",
       "          ...           VHN  VK_DHT4A  VK_DISTANZ  VK_ZG11  W_KEIT_KIND_HH  \\\n",
       "0         ...           NaN       NaN         NaN      NaN             NaN   \n",
       "1         ...           4.0       8.0        11.0     10.0             3.0   \n",
       "2         ...           2.0       9.0         9.0      6.0             3.0   \n",
       "\n",
       "   WOHNDAUER_2008  WOHNLAGE ZABEOTYP ANREDE_KZ ALTERSKATEGORIE_GROB  \n",
       "0             NaN       NaN        3         1                    2  \n",
       "1             9.0       4.0        5         2                    1  \n",
       "2             9.0       2.0        5         2                    3  \n",
       "\n",
       "[3 rows x 366 columns]"
      ]
     },
     "execution_count": 3,
     "metadata": {},
     "output_type": "execute_result"
    }
   ],
   "source": [
    "azdias.head(3)"
   ]
  },
  {
   "cell_type": "code",
   "execution_count": 4,
   "metadata": {},
   "outputs": [
    {
     "data": {
      "text/plain": [
       "(891221, 366)"
      ]
     },
     "execution_count": 4,
     "metadata": {},
     "output_type": "execute_result"
    }
   ],
   "source": [
    "azdias.shape"
   ]
  },
  {
   "cell_type": "code",
   "execution_count": 5,
   "metadata": {},
   "outputs": [
    {
     "name": "stdout",
     "output_type": "stream",
     "text": [
      "<class 'pandas.core.frame.DataFrame'>\n",
      "RangeIndex: 891221 entries, 0 to 891220\n",
      "Data columns (total 366 columns):\n",
      "LNR                            int64\n",
      "AGER_TYP                       int64\n",
      "AKT_DAT_KL                     float64\n",
      "ALTER_HH                       float64\n",
      "ALTER_KIND1                    float64\n",
      "ALTER_KIND2                    float64\n",
      "ALTER_KIND3                    float64\n",
      "ALTER_KIND4                    float64\n",
      "ALTERSKATEGORIE_FEIN           float64\n",
      "ANZ_HAUSHALTE_AKTIV            float64\n",
      "ANZ_HH_TITEL                   float64\n",
      "ANZ_KINDER                     float64\n",
      "ANZ_PERSONEN                   float64\n",
      "ANZ_STATISTISCHE_HAUSHALTE     float64\n",
      "ANZ_TITEL                      float64\n",
      "ARBEIT                         float64\n",
      "BALLRAUM                       float64\n",
      "CAMEO_DEU_2015                 object\n",
      "CAMEO_DEUG_2015                object\n",
      "CAMEO_INTL_2015                object\n",
      "CJT_GESAMTTYP                  float64\n",
      "CJT_KATALOGNUTZER              float64\n",
      "CJT_TYP_1                      float64\n",
      "CJT_TYP_2                      float64\n",
      "CJT_TYP_3                      float64\n",
      "CJT_TYP_4                      float64\n",
      "CJT_TYP_5                      float64\n",
      "CJT_TYP_6                      float64\n",
      "D19_BANKEN_ANZ_12              int64\n",
      "D19_BANKEN_ANZ_24              int64\n",
      "D19_BANKEN_DATUM               int64\n",
      "D19_BANKEN_DIREKT              int64\n",
      "D19_BANKEN_GROSS               int64\n",
      "D19_BANKEN_LOKAL               int64\n",
      "D19_BANKEN_OFFLINE_DATUM       int64\n",
      "D19_BANKEN_ONLINE_DATUM        int64\n",
      "D19_BANKEN_ONLINE_QUOTE_12     float64\n",
      "D19_BANKEN_REST                int64\n",
      "D19_BEKLEIDUNG_GEH             int64\n",
      "D19_BEKLEIDUNG_REST            int64\n",
      "D19_BILDUNG                    int64\n",
      "D19_BIO_OEKO                   int64\n",
      "D19_BUCH_CD                    int64\n",
      "D19_DIGIT_SERV                 int64\n",
      "D19_DROGERIEARTIKEL            int64\n",
      "D19_ENERGIE                    int64\n",
      "D19_FREIZEIT                   int64\n",
      "D19_GARTEN                     int64\n",
      "D19_GESAMT_ANZ_12              int64\n",
      "D19_GESAMT_ANZ_24              int64\n",
      "D19_GESAMT_DATUM               int64\n",
      "D19_GESAMT_OFFLINE_DATUM       int64\n",
      "D19_GESAMT_ONLINE_DATUM        int64\n",
      "D19_GESAMT_ONLINE_QUOTE_12     float64\n",
      "D19_HANDWERK                   int64\n",
      "D19_HAUS_DEKO                  int64\n",
      "D19_KINDERARTIKEL              int64\n",
      "D19_KONSUMTYP                  float64\n",
      "D19_KONSUMTYP_MAX              int64\n",
      "D19_KOSMETIK                   int64\n",
      "D19_LEBENSMITTEL               int64\n",
      "D19_LETZTER_KAUF_BRANCHE       object\n",
      "D19_LOTTO                      float64\n",
      "D19_NAHRUNGSERGAENZUNG         int64\n",
      "D19_RATGEBER                   int64\n",
      "D19_REISEN                     int64\n",
      "D19_SAMMELARTIKEL              int64\n",
      "D19_SCHUHE                     int64\n",
      "D19_SONSTIGE                   int64\n",
      "D19_SOZIALES                   float64\n",
      "D19_TECHNIK                    int64\n",
      "D19_TELKO_ANZ_12               int64\n",
      "D19_TELKO_ANZ_24               int64\n",
      "D19_TELKO_DATUM                int64\n",
      "D19_TELKO_MOBILE               int64\n",
      "D19_TELKO_OFFLINE_DATUM        int64\n",
      "D19_TELKO_ONLINE_DATUM         int64\n",
      "D19_TELKO_ONLINE_QUOTE_12      float64\n",
      "D19_TELKO_REST                 int64\n",
      "D19_TIERARTIKEL                int64\n",
      "D19_VERSAND_ANZ_12             int64\n",
      "D19_VERSAND_ANZ_24             int64\n",
      "D19_VERSAND_DATUM              int64\n",
      "D19_VERSAND_OFFLINE_DATUM      int64\n",
      "D19_VERSAND_ONLINE_DATUM       int64\n",
      "D19_VERSAND_ONLINE_QUOTE_12    float64\n",
      "D19_VERSAND_REST               int64\n",
      "D19_VERSI_ANZ_12               int64\n",
      "D19_VERSI_ANZ_24               int64\n",
      "D19_VERSI_DATUM                int64\n",
      "D19_VERSI_OFFLINE_DATUM        int64\n",
      "D19_VERSI_ONLINE_DATUM         int64\n",
      "D19_VERSI_ONLINE_QUOTE_12      float64\n",
      "D19_VERSICHERUNGEN             int64\n",
      "D19_VOLLSORTIMENT              int64\n",
      "D19_WEIN_FEINKOST              int64\n",
      "DSL_FLAG                       float64\n",
      "EINGEFUEGT_AM                  object\n",
      "EINGEZOGENAM_HH_JAHR           float64\n",
      "EWDICHTE                       float64\n",
      "EXTSEL992                      float64\n",
      "FINANZ_ANLEGER                 int64\n",
      "FINANZ_HAUSBAUER               int64\n",
      "FINANZ_MINIMALIST              int64\n",
      "FINANZ_SPARER                  int64\n",
      "FINANZ_UNAUFFAELLIGER          int64\n",
      "FINANZ_VORSORGER               int64\n",
      "FINANZTYP                      int64\n",
      "FIRMENDICHTE                   float64\n",
      "GEBAEUDETYP                    float64\n",
      "GEBAEUDETYP_RASTER             float64\n",
      "GEBURTSJAHR                    int64\n",
      "GEMEINDETYP                    float64\n",
      "GFK_URLAUBERTYP                float64\n",
      "GREEN_AVANTGARDE               int64\n",
      "HEALTH_TYP                     int64\n",
      "HH_DELTA_FLAG                  float64\n",
      "HH_EINKOMMEN_SCORE             float64\n",
      "INNENSTADT                     float64\n",
      "KBA05_ALTER1                   float64\n",
      "KBA05_ALTER2                   float64\n",
      "KBA05_ALTER3                   float64\n",
      "KBA05_ALTER4                   float64\n",
      "KBA05_ANHANG                   float64\n",
      "KBA05_ANTG1                    float64\n",
      "KBA05_ANTG2                    float64\n",
      "KBA05_ANTG3                    float64\n",
      "KBA05_ANTG4                    float64\n",
      "KBA05_AUTOQUOT                 float64\n",
      "KBA05_BAUMAX                   float64\n",
      "KBA05_CCM1                     float64\n",
      "KBA05_CCM2                     float64\n",
      "KBA05_CCM3                     float64\n",
      "KBA05_CCM4                     float64\n",
      "KBA05_DIESEL                   float64\n",
      "KBA05_FRAU                     float64\n",
      "KBA05_GBZ                      float64\n",
      "KBA05_HERST1                   float64\n",
      "KBA05_HERST2                   float64\n",
      "KBA05_HERST3                   float64\n",
      "KBA05_HERST4                   float64\n",
      "KBA05_HERST5                   float64\n",
      "KBA05_HERSTTEMP                float64\n",
      "KBA05_KRSAQUOT                 float64\n",
      "KBA05_KRSHERST1                float64\n",
      "KBA05_KRSHERST2                float64\n",
      "KBA05_KRSHERST3                float64\n",
      "KBA05_KRSKLEIN                 float64\n",
      "KBA05_KRSOBER                  float64\n",
      "KBA05_KRSVAN                   float64\n",
      "KBA05_KRSZUL                   float64\n",
      "KBA05_KW1                      float64\n",
      "KBA05_KW2                      float64\n",
      "KBA05_KW3                      float64\n",
      "KBA05_MAXAH                    float64\n",
      "KBA05_MAXBJ                    float64\n",
      "KBA05_MAXHERST                 float64\n",
      "KBA05_MAXSEG                   float64\n",
      "KBA05_MAXVORB                  float64\n",
      "KBA05_MOD1                     float64\n",
      "KBA05_MOD2                     float64\n",
      "KBA05_MOD3                     float64\n",
      "KBA05_MOD4                     float64\n",
      "KBA05_MOD8                     float64\n",
      "KBA05_MODTEMP                  float64\n",
      "KBA05_MOTOR                    float64\n",
      "KBA05_MOTRAD                   float64\n",
      "KBA05_SEG1                     float64\n",
      "KBA05_SEG10                    float64\n",
      "KBA05_SEG2                     float64\n",
      "KBA05_SEG3                     float64\n",
      "KBA05_SEG4                     float64\n",
      "KBA05_SEG5                     float64\n",
      "KBA05_SEG6                     float64\n",
      "KBA05_SEG7                     float64\n",
      "KBA05_SEG8                     float64\n",
      "KBA05_SEG9                     float64\n",
      "KBA05_VORB0                    float64\n",
      "KBA05_VORB1                    float64\n",
      "KBA05_VORB2                    float64\n",
      "KBA05_ZUL1                     float64\n",
      "KBA05_ZUL2                     float64\n",
      "KBA05_ZUL3                     float64\n",
      "KBA05_ZUL4                     float64\n",
      "KBA13_ALTERHALTER_30           float64\n",
      "KBA13_ALTERHALTER_45           float64\n",
      "KBA13_ALTERHALTER_60           float64\n",
      "KBA13_ALTERHALTER_61           float64\n",
      "KBA13_ANTG1                    float64\n",
      "KBA13_ANTG2                    float64\n",
      "KBA13_ANTG3                    float64\n",
      "KBA13_ANTG4                    float64\n",
      "KBA13_ANZAHL_PKW               float64\n",
      "KBA13_AUDI                     float64\n",
      "KBA13_AUTOQUOTE                float64\n",
      "KBA13_BAUMAX                   float64\n",
      "KBA13_BJ_1999                  float64\n",
      "KBA13_BJ_2000                  float64\n",
      "KBA13_BJ_2004                  float64\n",
      "KBA13_BJ_2006                  float64\n",
      "KBA13_BJ_2008                  float64\n",
      "KBA13_BJ_2009                  float64\n",
      "KBA13_BMW                      float64\n",
      "KBA13_CCM_0_1400               float64\n",
      "KBA13_CCM_1000                 float64\n",
      "KBA13_CCM_1200                 float64\n",
      "KBA13_CCM_1400                 float64\n",
      "KBA13_CCM_1401_2500            float64\n",
      "KBA13_CCM_1500                 float64\n",
      "KBA13_CCM_1600                 float64\n",
      "KBA13_CCM_1800                 float64\n",
      "KBA13_CCM_2000                 float64\n",
      "KBA13_CCM_2500                 float64\n",
      "KBA13_CCM_2501                 float64\n",
      "KBA13_CCM_3000                 float64\n",
      "KBA13_CCM_3001                 float64\n",
      "KBA13_FAB_ASIEN                float64\n",
      "KBA13_FAB_SONSTIGE             float64\n",
      "KBA13_FIAT                     float64\n",
      "KBA13_FORD                     float64\n",
      "KBA13_GBZ                      float64\n",
      "KBA13_HALTER_20                float64\n",
      "KBA13_HALTER_25                float64\n",
      "KBA13_HALTER_30                float64\n",
      "KBA13_HALTER_35                float64\n",
      "KBA13_HALTER_40                float64\n",
      "KBA13_HALTER_45                float64\n",
      "KBA13_HALTER_50                float64\n",
      "KBA13_HALTER_55                float64\n",
      "KBA13_HALTER_60                float64\n",
      "KBA13_HALTER_65                float64\n",
      "KBA13_HALTER_66                float64\n",
      "KBA13_HERST_ASIEN              float64\n",
      "KBA13_HERST_AUDI_VW            float64\n",
      "KBA13_HERST_BMW_BENZ           float64\n",
      "KBA13_HERST_EUROPA             float64\n",
      "KBA13_HERST_FORD_OPEL          float64\n",
      "KBA13_HERST_SONST              float64\n",
      "KBA13_HHZ                      float64\n",
      "KBA13_KMH_0_140                float64\n",
      "KBA13_KMH_110                  float64\n",
      "KBA13_KMH_140                  float64\n",
      "KBA13_KMH_140_210              float64\n",
      "KBA13_KMH_180                  float64\n",
      "KBA13_KMH_210                  float64\n",
      "KBA13_KMH_211                  float64\n",
      "KBA13_KMH_250                  float64\n",
      "KBA13_KMH_251                  float64\n",
      "KBA13_KRSAQUOT                 float64\n",
      "KBA13_KRSHERST_AUDI_VW         float64\n",
      "KBA13_KRSHERST_BMW_BENZ        float64\n",
      "KBA13_KRSHERST_FORD_OPEL       float64\n",
      "KBA13_KRSSEG_KLEIN             float64\n",
      "KBA13_KRSSEG_OBER              float64\n",
      "KBA13_KRSSEG_VAN               float64\n",
      "KBA13_KRSZUL_NEU               float64\n",
      "KBA13_KW_0_60                  float64\n",
      "KBA13_KW_110                   float64\n",
      "KBA13_KW_120                   float64\n",
      "KBA13_KW_121                   float64\n",
      "KBA13_KW_30                    float64\n",
      "KBA13_KW_40                    float64\n",
      "KBA13_KW_50                    float64\n",
      "KBA13_KW_60                    float64\n",
      "KBA13_KW_61_120                float64\n",
      "KBA13_KW_70                    float64\n",
      "KBA13_KW_80                    float64\n",
      "KBA13_KW_90                    float64\n",
      "KBA13_MAZDA                    float64\n",
      "KBA13_MERCEDES                 float64\n",
      "KBA13_MOTOR                    float64\n",
      "KBA13_NISSAN                   float64\n",
      "KBA13_OPEL                     float64\n",
      "KBA13_PEUGEOT                  float64\n",
      "KBA13_RENAULT                  float64\n",
      "KBA13_SEG_GELAENDEWAGEN        float64\n",
      "KBA13_SEG_GROSSRAUMVANS        float64\n",
      "KBA13_SEG_KLEINST              float64\n",
      "KBA13_SEG_KLEINWAGEN           float64\n",
      "KBA13_SEG_KOMPAKTKLASSE        float64\n",
      "KBA13_SEG_MINIVANS             float64\n",
      "KBA13_SEG_MINIWAGEN            float64\n",
      "KBA13_SEG_MITTELKLASSE         float64\n",
      "KBA13_SEG_OBEREMITTELKLASSE    float64\n",
      "KBA13_SEG_OBERKLASSE           float64\n",
      "KBA13_SEG_SONSTIGE             float64\n",
      "KBA13_SEG_SPORTWAGEN           float64\n",
      "KBA13_SEG_UTILITIES            float64\n",
      "KBA13_SEG_VAN                  float64\n",
      "KBA13_SEG_WOHNMOBILE           float64\n",
      "KBA13_SITZE_4                  float64\n",
      "KBA13_SITZE_5                  float64\n",
      "KBA13_SITZE_6                  float64\n",
      "KBA13_TOYOTA                   float64\n",
      "KBA13_VORB_0                   float64\n",
      "KBA13_VORB_1                   float64\n",
      "KBA13_VORB_1_2                 float64\n",
      "KBA13_VORB_2                   float64\n",
      "KBA13_VORB_3                   float64\n",
      "KBA13_VW                       float64\n",
      "KK_KUNDENTYP                   float64\n",
      "KKK                            float64\n",
      "KOMBIALTER                     int64\n",
      "KONSUMNAEHE                    float64\n",
      "KONSUMZELLE                    float64\n",
      "LP_FAMILIE_FEIN                float64\n",
      "LP_FAMILIE_GROB                float64\n",
      "LP_LEBENSPHASE_FEIN            float64\n",
      "LP_LEBENSPHASE_GROB            float64\n",
      "LP_STATUS_FEIN                 float64\n",
      "LP_STATUS_GROB                 float64\n",
      "MIN_GEBAEUDEJAHR               float64\n",
      "MOBI_RASTER                    float64\n",
      "MOBI_REGIO                     float64\n",
      "NATIONALITAET_KZ               int64\n",
      "ONLINE_AFFINITAET              float64\n",
      "ORTSGR_KLS9                    float64\n",
      "OST_WEST_KZ                    object\n",
      "PLZ8_ANTG1                     float64\n",
      "PLZ8_ANTG2                     float64\n",
      "PLZ8_ANTG3                     float64\n",
      "PLZ8_ANTG4                     float64\n",
      "PLZ8_BAUMAX                    float64\n",
      "PLZ8_GBZ                       float64\n",
      "PLZ8_HHZ                       float64\n",
      "PRAEGENDE_JUGENDJAHRE          int64\n",
      "REGIOTYP                       float64\n",
      "RELAT_AB                       float64\n",
      "RETOURTYP_BK_S                 float64\n",
      "RT_KEIN_ANREIZ                 float64\n",
      "RT_SCHNAEPPCHEN                float64\n",
      "RT_UEBERGROESSE                float64\n",
      "SEMIO_DOM                      int64\n",
      "SEMIO_ERL                      int64\n",
      "SEMIO_FAM                      int64\n",
      "SEMIO_KAEM                     int64\n",
      "SEMIO_KRIT                     int64\n",
      "SEMIO_KULT                     int64\n",
      "SEMIO_LUST                     int64\n",
      "SEMIO_MAT                      int64\n",
      "SEMIO_PFLICHT                  int64\n",
      "SEMIO_RAT                      int64\n",
      "SEMIO_REL                      int64\n",
      "SEMIO_SOZ                      int64\n",
      "SEMIO_TRADV                    int64\n",
      "SEMIO_VERT                     int64\n",
      "SHOPPER_TYP                    int64\n",
      "SOHO_KZ                        float64\n",
      "STRUKTURTYP                    float64\n",
      "TITEL_KZ                       float64\n",
      "UMFELD_ALT                     float64\n",
      "UMFELD_JUNG                    float64\n",
      "UNGLEICHENN_FLAG               float64\n",
      "VERDICHTUNGSRAUM               float64\n",
      "VERS_TYP                       int64\n",
      "VHA                            float64\n",
      "VHN                            float64\n",
      "VK_DHT4A                       float64\n",
      "VK_DISTANZ                     float64\n",
      "VK_ZG11                        float64\n",
      "W_KEIT_KIND_HH                 float64\n",
      "WOHNDAUER_2008                 float64\n",
      "WOHNLAGE                       float64\n",
      "ZABEOTYP                       int64\n",
      "ANREDE_KZ                      int64\n",
      "ALTERSKATEGORIE_GROB           int64\n",
      "dtypes: float64(267), int64(93), object(6)\n",
      "memory usage: 2.4+ GB\n"
     ]
    }
   ],
   "source": [
    "azdias.info(verbose=True)"
   ]
  },
  {
   "cell_type": "code",
   "execution_count": 6,
   "metadata": {},
   "outputs": [
    {
     "data": {
      "text/plain": [
       "(191652, 369)"
      ]
     },
     "execution_count": 6,
     "metadata": {},
     "output_type": "execute_result"
    }
   ],
   "source": [
    "customers.shape"
   ]
  },
  {
   "cell_type": "markdown",
   "metadata": {},
   "source": [
    "**Duplicated values**"
   ]
  },
  {
   "cell_type": "code",
   "execution_count": 7,
   "metadata": {},
   "outputs": [
    {
     "data": {
      "text/plain": [
       "0"
      ]
     },
     "execution_count": 7,
     "metadata": {},
     "output_type": "execute_result"
    }
   ],
   "source": [
    "azdias.duplicated().sum()"
   ]
  },
  {
   "cell_type": "code",
   "execution_count": 8,
   "metadata": {},
   "outputs": [
    {
     "data": {
      "text/plain": [
       "0"
      ]
     },
     "execution_count": 8,
     "metadata": {},
     "output_type": "execute_result"
    }
   ],
   "source": [
    "customers.duplicated().sum()"
   ]
  },
  {
   "cell_type": "markdown",
   "metadata": {},
   "source": [
    "There are no duplicated values "
   ]
  },
  {
   "cell_type": "code",
   "execution_count": 18,
   "metadata": {},
   "outputs": [
    {
     "data": {
      "text/html": [
       "<div>\n",
       "<style scoped>\n",
       "    .dataframe tbody tr th:only-of-type {\n",
       "        vertical-align: middle;\n",
       "    }\n",
       "\n",
       "    .dataframe tbody tr th {\n",
       "        vertical-align: top;\n",
       "    }\n",
       "\n",
       "    .dataframe thead th {\n",
       "        text-align: right;\n",
       "    }\n",
       "</style>\n",
       "<table border=\"1\" class=\"dataframe\">\n",
       "  <thead>\n",
       "    <tr style=\"text-align: right;\">\n",
       "      <th></th>\n",
       "      <th>count</th>\n",
       "      <th>mean</th>\n",
       "      <th>std</th>\n",
       "      <th>min</th>\n",
       "      <th>25%</th>\n",
       "      <th>50%</th>\n",
       "      <th>75%</th>\n",
       "      <th>max</th>\n",
       "    </tr>\n",
       "  </thead>\n",
       "  <tbody>\n",
       "    <tr>\n",
       "      <th>LNR</th>\n",
       "      <td>891221.0</td>\n",
       "      <td>637263.000000</td>\n",
       "      <td>257273.486466</td>\n",
       "      <td>191653.0</td>\n",
       "      <td>414458.0</td>\n",
       "      <td>637263.0</td>\n",
       "      <td>860068.0</td>\n",
       "      <td>1082873.0</td>\n",
       "    </tr>\n",
       "    <tr>\n",
       "      <th>AGER_TYP</th>\n",
       "      <td>891221.0</td>\n",
       "      <td>-0.358435</td>\n",
       "      <td>1.198724</td>\n",
       "      <td>-1.0</td>\n",
       "      <td>-1.0</td>\n",
       "      <td>-1.0</td>\n",
       "      <td>-1.0</td>\n",
       "      <td>3.0</td>\n",
       "    </tr>\n",
       "    <tr>\n",
       "      <th>AKT_DAT_KL</th>\n",
       "      <td>817722.0</td>\n",
       "      <td>4.421928</td>\n",
       "      <td>3.638805</td>\n",
       "      <td>1.0</td>\n",
       "      <td>1.0</td>\n",
       "      <td>3.0</td>\n",
       "      <td>9.0</td>\n",
       "      <td>9.0</td>\n",
       "    </tr>\n",
       "    <tr>\n",
       "      <th>ALTER_HH</th>\n",
       "      <td>817722.0</td>\n",
       "      <td>10.864126</td>\n",
       "      <td>7.639683</td>\n",
       "      <td>0.0</td>\n",
       "      <td>0.0</td>\n",
       "      <td>13.0</td>\n",
       "      <td>17.0</td>\n",
       "      <td>21.0</td>\n",
       "    </tr>\n",
       "    <tr>\n",
       "      <th>ALTER_KIND1</th>\n",
       "      <td>81058.0</td>\n",
       "      <td>11.745392</td>\n",
       "      <td>4.097660</td>\n",
       "      <td>2.0</td>\n",
       "      <td>8.0</td>\n",
       "      <td>12.0</td>\n",
       "      <td>15.0</td>\n",
       "      <td>18.0</td>\n",
       "    </tr>\n",
       "    <tr>\n",
       "      <th>ALTER_KIND2</th>\n",
       "      <td>29499.0</td>\n",
       "      <td>13.402658</td>\n",
       "      <td>3.243300</td>\n",
       "      <td>2.0</td>\n",
       "      <td>11.0</td>\n",
       "      <td>14.0</td>\n",
       "      <td>16.0</td>\n",
       "      <td>18.0</td>\n",
       "    </tr>\n",
       "    <tr>\n",
       "      <th>ALTER_KIND3</th>\n",
       "      <td>6170.0</td>\n",
       "      <td>14.476013</td>\n",
       "      <td>2.712427</td>\n",
       "      <td>4.0</td>\n",
       "      <td>13.0</td>\n",
       "      <td>15.0</td>\n",
       "      <td>17.0</td>\n",
       "      <td>18.0</td>\n",
       "    </tr>\n",
       "    <tr>\n",
       "      <th>ALTER_KIND4</th>\n",
       "      <td>1205.0</td>\n",
       "      <td>15.089627</td>\n",
       "      <td>2.452932</td>\n",
       "      <td>7.0</td>\n",
       "      <td>14.0</td>\n",
       "      <td>15.0</td>\n",
       "      <td>17.0</td>\n",
       "      <td>18.0</td>\n",
       "    </tr>\n",
       "    <tr>\n",
       "      <th>ALTERSKATEGORIE_FEIN</th>\n",
       "      <td>628274.0</td>\n",
       "      <td>13.700717</td>\n",
       "      <td>5.079849</td>\n",
       "      <td>0.0</td>\n",
       "      <td>11.0</td>\n",
       "      <td>14.0</td>\n",
       "      <td>17.0</td>\n",
       "      <td>25.0</td>\n",
       "    </tr>\n",
       "    <tr>\n",
       "      <th>ANZ_HAUSHALTE_AKTIV</th>\n",
       "      <td>798073.0</td>\n",
       "      <td>8.287263</td>\n",
       "      <td>15.628087</td>\n",
       "      <td>0.0</td>\n",
       "      <td>1.0</td>\n",
       "      <td>4.0</td>\n",
       "      <td>9.0</td>\n",
       "      <td>595.0</td>\n",
       "    </tr>\n",
       "    <tr>\n",
       "      <th>ANZ_HH_TITEL</th>\n",
       "      <td>794213.0</td>\n",
       "      <td>0.040647</td>\n",
       "      <td>0.324028</td>\n",
       "      <td>0.0</td>\n",
       "      <td>0.0</td>\n",
       "      <td>0.0</td>\n",
       "      <td>0.0</td>\n",
       "      <td>23.0</td>\n",
       "    </tr>\n",
       "    <tr>\n",
       "      <th>ANZ_KINDER</th>\n",
       "      <td>817722.0</td>\n",
       "      <td>0.154018</td>\n",
       "      <td>0.502389</td>\n",
       "      <td>0.0</td>\n",
       "      <td>0.0</td>\n",
       "      <td>0.0</td>\n",
       "      <td>0.0</td>\n",
       "      <td>11.0</td>\n",
       "    </tr>\n",
       "    <tr>\n",
       "      <th>ANZ_PERSONEN</th>\n",
       "      <td>817722.0</td>\n",
       "      <td>1.727637</td>\n",
       "      <td>1.155849</td>\n",
       "      <td>0.0</td>\n",
       "      <td>1.0</td>\n",
       "      <td>1.0</td>\n",
       "      <td>2.0</td>\n",
       "      <td>45.0</td>\n",
       "    </tr>\n",
       "    <tr>\n",
       "      <th>ANZ_STATISTISCHE_HAUSHALTE</th>\n",
       "      <td>798073.0</td>\n",
       "      <td>7.599356</td>\n",
       "      <td>14.332201</td>\n",
       "      <td>0.0</td>\n",
       "      <td>1.0</td>\n",
       "      <td>3.0</td>\n",
       "      <td>9.0</td>\n",
       "      <td>449.0</td>\n",
       "    </tr>\n",
       "    <tr>\n",
       "      <th>ANZ_TITEL</th>\n",
       "      <td>817722.0</td>\n",
       "      <td>0.004162</td>\n",
       "      <td>0.068855</td>\n",
       "      <td>0.0</td>\n",
       "      <td>0.0</td>\n",
       "      <td>0.0</td>\n",
       "      <td>0.0</td>\n",
       "      <td>6.0</td>\n",
       "    </tr>\n",
       "    <tr>\n",
       "      <th>ARBEIT</th>\n",
       "      <td>794005.0</td>\n",
       "      <td>3.167854</td>\n",
       "      <td>1.002376</td>\n",
       "      <td>1.0</td>\n",
       "      <td>3.0</td>\n",
       "      <td>3.0</td>\n",
       "      <td>4.0</td>\n",
       "      <td>9.0</td>\n",
       "    </tr>\n",
       "    <tr>\n",
       "      <th>BALLRAUM</th>\n",
       "      <td>797481.0</td>\n",
       "      <td>4.153043</td>\n",
       "      <td>2.183710</td>\n",
       "      <td>1.0</td>\n",
       "      <td>2.0</td>\n",
       "      <td>5.0</td>\n",
       "      <td>6.0</td>\n",
       "      <td>7.0</td>\n",
       "    </tr>\n",
       "    <tr>\n",
       "      <th>CJT_GESAMTTYP</th>\n",
       "      <td>886367.0</td>\n",
       "      <td>3.632838</td>\n",
       "      <td>1.595021</td>\n",
       "      <td>1.0</td>\n",
       "      <td>2.0</td>\n",
       "      <td>4.0</td>\n",
       "      <td>5.0</td>\n",
       "      <td>6.0</td>\n",
       "    </tr>\n",
       "    <tr>\n",
       "      <th>CJT_KATALOGNUTZER</th>\n",
       "      <td>886367.0</td>\n",
       "      <td>3.335264</td>\n",
       "      <td>1.493633</td>\n",
       "      <td>1.0</td>\n",
       "      <td>2.0</td>\n",
       "      <td>4.0</td>\n",
       "      <td>5.0</td>\n",
       "      <td>5.0</td>\n",
       "    </tr>\n",
       "    <tr>\n",
       "      <th>CJT_TYP_1</th>\n",
       "      <td>886367.0</td>\n",
       "      <td>3.368086</td>\n",
       "      <td>1.368331</td>\n",
       "      <td>1.0</td>\n",
       "      <td>2.0</td>\n",
       "      <td>3.0</td>\n",
       "      <td>5.0</td>\n",
       "      <td>5.0</td>\n",
       "    </tr>\n",
       "    <tr>\n",
       "      <th>CJT_TYP_2</th>\n",
       "      <td>886367.0</td>\n",
       "      <td>3.195014</td>\n",
       "      <td>1.401382</td>\n",
       "      <td>1.0</td>\n",
       "      <td>2.0</td>\n",
       "      <td>3.0</td>\n",
       "      <td>5.0</td>\n",
       "      <td>5.0</td>\n",
       "    </tr>\n",
       "    <tr>\n",
       "      <th>CJT_TYP_3</th>\n",
       "      <td>886367.0</td>\n",
       "      <td>3.351290</td>\n",
       "      <td>1.396508</td>\n",
       "      <td>1.0</td>\n",
       "      <td>2.0</td>\n",
       "      <td>3.0</td>\n",
       "      <td>5.0</td>\n",
       "      <td>5.0</td>\n",
       "    </tr>\n",
       "    <tr>\n",
       "      <th>CJT_TYP_4</th>\n",
       "      <td>886367.0</td>\n",
       "      <td>3.336151</td>\n",
       "      <td>1.373077</td>\n",
       "      <td>1.0</td>\n",
       "      <td>2.0</td>\n",
       "      <td>3.0</td>\n",
       "      <td>5.0</td>\n",
       "      <td>5.0</td>\n",
       "    </tr>\n",
       "    <tr>\n",
       "      <th>CJT_TYP_5</th>\n",
       "      <td>886367.0</td>\n",
       "      <td>3.360684</td>\n",
       "      <td>1.378992</td>\n",
       "      <td>1.0</td>\n",
       "      <td>2.0</td>\n",
       "      <td>3.0</td>\n",
       "      <td>5.0</td>\n",
       "      <td>5.0</td>\n",
       "    </tr>\n",
       "    <tr>\n",
       "      <th>CJT_TYP_6</th>\n",
       "      <td>886367.0</td>\n",
       "      <td>3.465980</td>\n",
       "      <td>1.328456</td>\n",
       "      <td>1.0</td>\n",
       "      <td>2.0</td>\n",
       "      <td>4.0</td>\n",
       "      <td>5.0</td>\n",
       "      <td>5.0</td>\n",
       "    </tr>\n",
       "    <tr>\n",
       "      <th>D19_BANKEN_ANZ_12</th>\n",
       "      <td>891221.0</td>\n",
       "      <td>0.122336</td>\n",
       "      <td>0.535950</td>\n",
       "      <td>0.0</td>\n",
       "      <td>0.0</td>\n",
       "      <td>0.0</td>\n",
       "      <td>0.0</td>\n",
       "      <td>6.0</td>\n",
       "    </tr>\n",
       "    <tr>\n",
       "      <th>D19_BANKEN_ANZ_24</th>\n",
       "      <td>891221.0</td>\n",
       "      <td>0.219907</td>\n",
       "      <td>0.747903</td>\n",
       "      <td>0.0</td>\n",
       "      <td>0.0</td>\n",
       "      <td>0.0</td>\n",
       "      <td>0.0</td>\n",
       "      <td>6.0</td>\n",
       "    </tr>\n",
       "    <tr>\n",
       "      <th>D19_BANKEN_DATUM</th>\n",
       "      <td>891221.0</td>\n",
       "      <td>9.267420</td>\n",
       "      <td>1.735725</td>\n",
       "      <td>1.0</td>\n",
       "      <td>10.0</td>\n",
       "      <td>10.0</td>\n",
       "      <td>10.0</td>\n",
       "      <td>10.0</td>\n",
       "    </tr>\n",
       "    <tr>\n",
       "      <th>D19_BANKEN_DIREKT</th>\n",
       "      <td>891221.0</td>\n",
       "      <td>0.892735</td>\n",
       "      <td>2.011838</td>\n",
       "      <td>0.0</td>\n",
       "      <td>0.0</td>\n",
       "      <td>0.0</td>\n",
       "      <td>0.0</td>\n",
       "      <td>7.0</td>\n",
       "    </tr>\n",
       "    <tr>\n",
       "      <th>D19_BANKEN_GROSS</th>\n",
       "      <td>891221.0</td>\n",
       "      <td>0.568580</td>\n",
       "      <td>1.643764</td>\n",
       "      <td>0.0</td>\n",
       "      <td>0.0</td>\n",
       "      <td>0.0</td>\n",
       "      <td>0.0</td>\n",
       "      <td>6.0</td>\n",
       "    </tr>\n",
       "    <tr>\n",
       "      <th>...</th>\n",
       "      <td>...</td>\n",
       "      <td>...</td>\n",
       "      <td>...</td>\n",
       "      <td>...</td>\n",
       "      <td>...</td>\n",
       "      <td>...</td>\n",
       "      <td>...</td>\n",
       "      <td>...</td>\n",
       "    </tr>\n",
       "    <tr>\n",
       "      <th>SEMIO_KRIT</th>\n",
       "      <td>891221.0</td>\n",
       "      <td>4.763223</td>\n",
       "      <td>1.830789</td>\n",
       "      <td>1.0</td>\n",
       "      <td>3.0</td>\n",
       "      <td>5.0</td>\n",
       "      <td>6.0</td>\n",
       "      <td>7.0</td>\n",
       "    </tr>\n",
       "    <tr>\n",
       "      <th>SEMIO_KULT</th>\n",
       "      <td>891221.0</td>\n",
       "      <td>4.025014</td>\n",
       "      <td>1.903816</td>\n",
       "      <td>1.0</td>\n",
       "      <td>3.0</td>\n",
       "      <td>4.0</td>\n",
       "      <td>5.0</td>\n",
       "      <td>7.0</td>\n",
       "    </tr>\n",
       "    <tr>\n",
       "      <th>SEMIO_LUST</th>\n",
       "      <td>891221.0</td>\n",
       "      <td>4.359086</td>\n",
       "      <td>2.022829</td>\n",
       "      <td>1.0</td>\n",
       "      <td>2.0</td>\n",
       "      <td>5.0</td>\n",
       "      <td>6.0</td>\n",
       "      <td>7.0</td>\n",
       "    </tr>\n",
       "    <tr>\n",
       "      <th>SEMIO_MAT</th>\n",
       "      <td>891221.0</td>\n",
       "      <td>4.001597</td>\n",
       "      <td>1.857540</td>\n",
       "      <td>1.0</td>\n",
       "      <td>2.0</td>\n",
       "      <td>4.0</td>\n",
       "      <td>5.0</td>\n",
       "      <td>7.0</td>\n",
       "    </tr>\n",
       "    <tr>\n",
       "      <th>SEMIO_PFLICHT</th>\n",
       "      <td>891221.0</td>\n",
       "      <td>4.256076</td>\n",
       "      <td>1.770137</td>\n",
       "      <td>1.0</td>\n",
       "      <td>3.0</td>\n",
       "      <td>4.0</td>\n",
       "      <td>6.0</td>\n",
       "      <td>7.0</td>\n",
       "    </tr>\n",
       "    <tr>\n",
       "      <th>SEMIO_RAT</th>\n",
       "      <td>891221.0</td>\n",
       "      <td>3.910139</td>\n",
       "      <td>1.580306</td>\n",
       "      <td>1.0</td>\n",
       "      <td>3.0</td>\n",
       "      <td>4.0</td>\n",
       "      <td>5.0</td>\n",
       "      <td>7.0</td>\n",
       "    </tr>\n",
       "    <tr>\n",
       "      <th>SEMIO_REL</th>\n",
       "      <td>891221.0</td>\n",
       "      <td>4.240609</td>\n",
       "      <td>2.007373</td>\n",
       "      <td>1.0</td>\n",
       "      <td>3.0</td>\n",
       "      <td>4.0</td>\n",
       "      <td>6.0</td>\n",
       "      <td>7.0</td>\n",
       "    </tr>\n",
       "    <tr>\n",
       "      <th>SEMIO_SOZ</th>\n",
       "      <td>891221.0</td>\n",
       "      <td>3.945860</td>\n",
       "      <td>1.946564</td>\n",
       "      <td>1.0</td>\n",
       "      <td>2.0</td>\n",
       "      <td>4.0</td>\n",
       "      <td>6.0</td>\n",
       "      <td>7.0</td>\n",
       "    </tr>\n",
       "    <tr>\n",
       "      <th>SEMIO_TRADV</th>\n",
       "      <td>891221.0</td>\n",
       "      <td>3.661784</td>\n",
       "      <td>1.707637</td>\n",
       "      <td>1.0</td>\n",
       "      <td>2.0</td>\n",
       "      <td>3.0</td>\n",
       "      <td>5.0</td>\n",
       "      <td>7.0</td>\n",
       "    </tr>\n",
       "    <tr>\n",
       "      <th>SEMIO_VERT</th>\n",
       "      <td>891221.0</td>\n",
       "      <td>4.023709</td>\n",
       "      <td>2.077746</td>\n",
       "      <td>1.0</td>\n",
       "      <td>2.0</td>\n",
       "      <td>4.0</td>\n",
       "      <td>6.0</td>\n",
       "      <td>7.0</td>\n",
       "    </tr>\n",
       "    <tr>\n",
       "      <th>SHOPPER_TYP</th>\n",
       "      <td>891221.0</td>\n",
       "      <td>1.266967</td>\n",
       "      <td>1.287435</td>\n",
       "      <td>-1.0</td>\n",
       "      <td>0.0</td>\n",
       "      <td>1.0</td>\n",
       "      <td>2.0</td>\n",
       "      <td>3.0</td>\n",
       "    </tr>\n",
       "    <tr>\n",
       "      <th>SOHO_KZ</th>\n",
       "      <td>817722.0</td>\n",
       "      <td>0.008423</td>\n",
       "      <td>0.091392</td>\n",
       "      <td>0.0</td>\n",
       "      <td>0.0</td>\n",
       "      <td>0.0</td>\n",
       "      <td>0.0</td>\n",
       "      <td>1.0</td>\n",
       "    </tr>\n",
       "    <tr>\n",
       "      <th>STRUKTURTYP</th>\n",
       "      <td>793947.0</td>\n",
       "      <td>2.539212</td>\n",
       "      <td>0.754926</td>\n",
       "      <td>1.0</td>\n",
       "      <td>2.0</td>\n",
       "      <td>3.0</td>\n",
       "      <td>3.0</td>\n",
       "      <td>3.0</td>\n",
       "    </tr>\n",
       "    <tr>\n",
       "      <th>TITEL_KZ</th>\n",
       "      <td>817722.0</td>\n",
       "      <td>0.003483</td>\n",
       "      <td>0.084957</td>\n",
       "      <td>0.0</td>\n",
       "      <td>0.0</td>\n",
       "      <td>0.0</td>\n",
       "      <td>0.0</td>\n",
       "      <td>5.0</td>\n",
       "    </tr>\n",
       "    <tr>\n",
       "      <th>UMFELD_ALT</th>\n",
       "      <td>793435.0</td>\n",
       "      <td>3.223125</td>\n",
       "      <td>1.255785</td>\n",
       "      <td>1.0</td>\n",
       "      <td>2.0</td>\n",
       "      <td>3.0</td>\n",
       "      <td>4.0</td>\n",
       "      <td>5.0</td>\n",
       "    </tr>\n",
       "    <tr>\n",
       "      <th>UMFELD_JUNG</th>\n",
       "      <td>793435.0</td>\n",
       "      <td>4.017526</td>\n",
       "      <td>1.118399</td>\n",
       "      <td>1.0</td>\n",
       "      <td>3.0</td>\n",
       "      <td>4.0</td>\n",
       "      <td>5.0</td>\n",
       "      <td>5.0</td>\n",
       "    </tr>\n",
       "    <tr>\n",
       "      <th>UNGLEICHENN_FLAG</th>\n",
       "      <td>817722.0</td>\n",
       "      <td>0.090067</td>\n",
       "      <td>0.286278</td>\n",
       "      <td>0.0</td>\n",
       "      <td>0.0</td>\n",
       "      <td>0.0</td>\n",
       "      <td>0.0</td>\n",
       "      <td>1.0</td>\n",
       "    </tr>\n",
       "    <tr>\n",
       "      <th>VERDICHTUNGSRAUM</th>\n",
       "      <td>793947.0</td>\n",
       "      <td>4.585760</td>\n",
       "      <td>8.471520</td>\n",
       "      <td>0.0</td>\n",
       "      <td>0.0</td>\n",
       "      <td>1.0</td>\n",
       "      <td>5.0</td>\n",
       "      <td>45.0</td>\n",
       "    </tr>\n",
       "    <tr>\n",
       "      <th>VERS_TYP</th>\n",
       "      <td>891221.0</td>\n",
       "      <td>1.197852</td>\n",
       "      <td>0.952532</td>\n",
       "      <td>-1.0</td>\n",
       "      <td>1.0</td>\n",
       "      <td>1.0</td>\n",
       "      <td>2.0</td>\n",
       "      <td>2.0</td>\n",
       "    </tr>\n",
       "    <tr>\n",
       "      <th>VHA</th>\n",
       "      <td>817722.0</td>\n",
       "      <td>0.438820</td>\n",
       "      <td>1.143290</td>\n",
       "      <td>0.0</td>\n",
       "      <td>0.0</td>\n",
       "      <td>0.0</td>\n",
       "      <td>0.0</td>\n",
       "      <td>5.0</td>\n",
       "    </tr>\n",
       "    <tr>\n",
       "      <th>VHN</th>\n",
       "      <td>770025.0</td>\n",
       "      <td>2.417322</td>\n",
       "      <td>1.166572</td>\n",
       "      <td>0.0</td>\n",
       "      <td>2.0</td>\n",
       "      <td>2.0</td>\n",
       "      <td>3.0</td>\n",
       "      <td>4.0</td>\n",
       "    </tr>\n",
       "    <tr>\n",
       "      <th>VK_DHT4A</th>\n",
       "      <td>815304.0</td>\n",
       "      <td>6.001214</td>\n",
       "      <td>2.856091</td>\n",
       "      <td>1.0</td>\n",
       "      <td>3.0</td>\n",
       "      <td>6.0</td>\n",
       "      <td>9.0</td>\n",
       "      <td>11.0</td>\n",
       "    </tr>\n",
       "    <tr>\n",
       "      <th>VK_DISTANZ</th>\n",
       "      <td>815304.0</td>\n",
       "      <td>7.532130</td>\n",
       "      <td>3.247789</td>\n",
       "      <td>1.0</td>\n",
       "      <td>5.0</td>\n",
       "      <td>8.0</td>\n",
       "      <td>10.0</td>\n",
       "      <td>13.0</td>\n",
       "    </tr>\n",
       "    <tr>\n",
       "      <th>VK_ZG11</th>\n",
       "      <td>815304.0</td>\n",
       "      <td>5.945972</td>\n",
       "      <td>2.771464</td>\n",
       "      <td>1.0</td>\n",
       "      <td>4.0</td>\n",
       "      <td>6.0</td>\n",
       "      <td>8.0</td>\n",
       "      <td>11.0</td>\n",
       "    </tr>\n",
       "    <tr>\n",
       "      <th>W_KEIT_KIND_HH</th>\n",
       "      <td>783619.0</td>\n",
       "      <td>3.933406</td>\n",
       "      <td>1.964701</td>\n",
       "      <td>0.0</td>\n",
       "      <td>2.0</td>\n",
       "      <td>4.0</td>\n",
       "      <td>6.0</td>\n",
       "      <td>6.0</td>\n",
       "    </tr>\n",
       "    <tr>\n",
       "      <th>WOHNDAUER_2008</th>\n",
       "      <td>817722.0</td>\n",
       "      <td>7.908791</td>\n",
       "      <td>1.923137</td>\n",
       "      <td>1.0</td>\n",
       "      <td>8.0</td>\n",
       "      <td>9.0</td>\n",
       "      <td>9.0</td>\n",
       "      <td>9.0</td>\n",
       "    </tr>\n",
       "    <tr>\n",
       "      <th>WOHNLAGE</th>\n",
       "      <td>798073.0</td>\n",
       "      <td>4.052836</td>\n",
       "      <td>1.949539</td>\n",
       "      <td>0.0</td>\n",
       "      <td>3.0</td>\n",
       "      <td>3.0</td>\n",
       "      <td>5.0</td>\n",
       "      <td>8.0</td>\n",
       "    </tr>\n",
       "    <tr>\n",
       "      <th>ZABEOTYP</th>\n",
       "      <td>891221.0</td>\n",
       "      <td>3.362438</td>\n",
       "      <td>1.352704</td>\n",
       "      <td>1.0</td>\n",
       "      <td>3.0</td>\n",
       "      <td>3.0</td>\n",
       "      <td>4.0</td>\n",
       "      <td>6.0</td>\n",
       "    </tr>\n",
       "    <tr>\n",
       "      <th>ANREDE_KZ</th>\n",
       "      <td>891221.0</td>\n",
       "      <td>1.522098</td>\n",
       "      <td>0.499512</td>\n",
       "      <td>1.0</td>\n",
       "      <td>1.0</td>\n",
       "      <td>2.0</td>\n",
       "      <td>2.0</td>\n",
       "      <td>2.0</td>\n",
       "    </tr>\n",
       "    <tr>\n",
       "      <th>ALTERSKATEGORIE_GROB</th>\n",
       "      <td>891221.0</td>\n",
       "      <td>2.777398</td>\n",
       "      <td>1.068775</td>\n",
       "      <td>1.0</td>\n",
       "      <td>2.0</td>\n",
       "      <td>3.0</td>\n",
       "      <td>4.0</td>\n",
       "      <td>9.0</td>\n",
       "    </tr>\n",
       "  </tbody>\n",
       "</table>\n",
       "<p>360 rows × 8 columns</p>\n",
       "</div>"
      ],
      "text/plain": [
       "                               count           mean            std       min  \\\n",
       "LNR                         891221.0  637263.000000  257273.486466  191653.0   \n",
       "AGER_TYP                    891221.0      -0.358435       1.198724      -1.0   \n",
       "AKT_DAT_KL                  817722.0       4.421928       3.638805       1.0   \n",
       "ALTER_HH                    817722.0      10.864126       7.639683       0.0   \n",
       "ALTER_KIND1                  81058.0      11.745392       4.097660       2.0   \n",
       "ALTER_KIND2                  29499.0      13.402658       3.243300       2.0   \n",
       "ALTER_KIND3                   6170.0      14.476013       2.712427       4.0   \n",
       "ALTER_KIND4                   1205.0      15.089627       2.452932       7.0   \n",
       "ALTERSKATEGORIE_FEIN        628274.0      13.700717       5.079849       0.0   \n",
       "ANZ_HAUSHALTE_AKTIV         798073.0       8.287263      15.628087       0.0   \n",
       "ANZ_HH_TITEL                794213.0       0.040647       0.324028       0.0   \n",
       "ANZ_KINDER                  817722.0       0.154018       0.502389       0.0   \n",
       "ANZ_PERSONEN                817722.0       1.727637       1.155849       0.0   \n",
       "ANZ_STATISTISCHE_HAUSHALTE  798073.0       7.599356      14.332201       0.0   \n",
       "ANZ_TITEL                   817722.0       0.004162       0.068855       0.0   \n",
       "ARBEIT                      794005.0       3.167854       1.002376       1.0   \n",
       "BALLRAUM                    797481.0       4.153043       2.183710       1.0   \n",
       "CJT_GESAMTTYP               886367.0       3.632838       1.595021       1.0   \n",
       "CJT_KATALOGNUTZER           886367.0       3.335264       1.493633       1.0   \n",
       "CJT_TYP_1                   886367.0       3.368086       1.368331       1.0   \n",
       "CJT_TYP_2                   886367.0       3.195014       1.401382       1.0   \n",
       "CJT_TYP_3                   886367.0       3.351290       1.396508       1.0   \n",
       "CJT_TYP_4                   886367.0       3.336151       1.373077       1.0   \n",
       "CJT_TYP_5                   886367.0       3.360684       1.378992       1.0   \n",
       "CJT_TYP_6                   886367.0       3.465980       1.328456       1.0   \n",
       "D19_BANKEN_ANZ_12           891221.0       0.122336       0.535950       0.0   \n",
       "D19_BANKEN_ANZ_24           891221.0       0.219907       0.747903       0.0   \n",
       "D19_BANKEN_DATUM            891221.0       9.267420       1.735725       1.0   \n",
       "D19_BANKEN_DIREKT           891221.0       0.892735       2.011838       0.0   \n",
       "D19_BANKEN_GROSS            891221.0       0.568580       1.643764       0.0   \n",
       "...                              ...            ...            ...       ...   \n",
       "SEMIO_KRIT                  891221.0       4.763223       1.830789       1.0   \n",
       "SEMIO_KULT                  891221.0       4.025014       1.903816       1.0   \n",
       "SEMIO_LUST                  891221.0       4.359086       2.022829       1.0   \n",
       "SEMIO_MAT                   891221.0       4.001597       1.857540       1.0   \n",
       "SEMIO_PFLICHT               891221.0       4.256076       1.770137       1.0   \n",
       "SEMIO_RAT                   891221.0       3.910139       1.580306       1.0   \n",
       "SEMIO_REL                   891221.0       4.240609       2.007373       1.0   \n",
       "SEMIO_SOZ                   891221.0       3.945860       1.946564       1.0   \n",
       "SEMIO_TRADV                 891221.0       3.661784       1.707637       1.0   \n",
       "SEMIO_VERT                  891221.0       4.023709       2.077746       1.0   \n",
       "SHOPPER_TYP                 891221.0       1.266967       1.287435      -1.0   \n",
       "SOHO_KZ                     817722.0       0.008423       0.091392       0.0   \n",
       "STRUKTURTYP                 793947.0       2.539212       0.754926       1.0   \n",
       "TITEL_KZ                    817722.0       0.003483       0.084957       0.0   \n",
       "UMFELD_ALT                  793435.0       3.223125       1.255785       1.0   \n",
       "UMFELD_JUNG                 793435.0       4.017526       1.118399       1.0   \n",
       "UNGLEICHENN_FLAG            817722.0       0.090067       0.286278       0.0   \n",
       "VERDICHTUNGSRAUM            793947.0       4.585760       8.471520       0.0   \n",
       "VERS_TYP                    891221.0       1.197852       0.952532      -1.0   \n",
       "VHA                         817722.0       0.438820       1.143290       0.0   \n",
       "VHN                         770025.0       2.417322       1.166572       0.0   \n",
       "VK_DHT4A                    815304.0       6.001214       2.856091       1.0   \n",
       "VK_DISTANZ                  815304.0       7.532130       3.247789       1.0   \n",
       "VK_ZG11                     815304.0       5.945972       2.771464       1.0   \n",
       "W_KEIT_KIND_HH              783619.0       3.933406       1.964701       0.0   \n",
       "WOHNDAUER_2008              817722.0       7.908791       1.923137       1.0   \n",
       "WOHNLAGE                    798073.0       4.052836       1.949539       0.0   \n",
       "ZABEOTYP                    891221.0       3.362438       1.352704       1.0   \n",
       "ANREDE_KZ                   891221.0       1.522098       0.499512       1.0   \n",
       "ALTERSKATEGORIE_GROB        891221.0       2.777398       1.068775       1.0   \n",
       "\n",
       "                                 25%       50%       75%        max  \n",
       "LNR                         414458.0  637263.0  860068.0  1082873.0  \n",
       "AGER_TYP                        -1.0      -1.0      -1.0        3.0  \n",
       "AKT_DAT_KL                       1.0       3.0       9.0        9.0  \n",
       "ALTER_HH                         0.0      13.0      17.0       21.0  \n",
       "ALTER_KIND1                      8.0      12.0      15.0       18.0  \n",
       "ALTER_KIND2                     11.0      14.0      16.0       18.0  \n",
       "ALTER_KIND3                     13.0      15.0      17.0       18.0  \n",
       "ALTER_KIND4                     14.0      15.0      17.0       18.0  \n",
       "ALTERSKATEGORIE_FEIN            11.0      14.0      17.0       25.0  \n",
       "ANZ_HAUSHALTE_AKTIV              1.0       4.0       9.0      595.0  \n",
       "ANZ_HH_TITEL                     0.0       0.0       0.0       23.0  \n",
       "ANZ_KINDER                       0.0       0.0       0.0       11.0  \n",
       "ANZ_PERSONEN                     1.0       1.0       2.0       45.0  \n",
       "ANZ_STATISTISCHE_HAUSHALTE       1.0       3.0       9.0      449.0  \n",
       "ANZ_TITEL                        0.0       0.0       0.0        6.0  \n",
       "ARBEIT                           3.0       3.0       4.0        9.0  \n",
       "BALLRAUM                         2.0       5.0       6.0        7.0  \n",
       "CJT_GESAMTTYP                    2.0       4.0       5.0        6.0  \n",
       "CJT_KATALOGNUTZER                2.0       4.0       5.0        5.0  \n",
       "CJT_TYP_1                        2.0       3.0       5.0        5.0  \n",
       "CJT_TYP_2                        2.0       3.0       5.0        5.0  \n",
       "CJT_TYP_3                        2.0       3.0       5.0        5.0  \n",
       "CJT_TYP_4                        2.0       3.0       5.0        5.0  \n",
       "CJT_TYP_5                        2.0       3.0       5.0        5.0  \n",
       "CJT_TYP_6                        2.0       4.0       5.0        5.0  \n",
       "D19_BANKEN_ANZ_12                0.0       0.0       0.0        6.0  \n",
       "D19_BANKEN_ANZ_24                0.0       0.0       0.0        6.0  \n",
       "D19_BANKEN_DATUM                10.0      10.0      10.0       10.0  \n",
       "D19_BANKEN_DIREKT                0.0       0.0       0.0        7.0  \n",
       "D19_BANKEN_GROSS                 0.0       0.0       0.0        6.0  \n",
       "...                              ...       ...       ...        ...  \n",
       "SEMIO_KRIT                       3.0       5.0       6.0        7.0  \n",
       "SEMIO_KULT                       3.0       4.0       5.0        7.0  \n",
       "SEMIO_LUST                       2.0       5.0       6.0        7.0  \n",
       "SEMIO_MAT                        2.0       4.0       5.0        7.0  \n",
       "SEMIO_PFLICHT                    3.0       4.0       6.0        7.0  \n",
       "SEMIO_RAT                        3.0       4.0       5.0        7.0  \n",
       "SEMIO_REL                        3.0       4.0       6.0        7.0  \n",
       "SEMIO_SOZ                        2.0       4.0       6.0        7.0  \n",
       "SEMIO_TRADV                      2.0       3.0       5.0        7.0  \n",
       "SEMIO_VERT                       2.0       4.0       6.0        7.0  \n",
       "SHOPPER_TYP                      0.0       1.0       2.0        3.0  \n",
       "SOHO_KZ                          0.0       0.0       0.0        1.0  \n",
       "STRUKTURTYP                      2.0       3.0       3.0        3.0  \n",
       "TITEL_KZ                         0.0       0.0       0.0        5.0  \n",
       "UMFELD_ALT                       2.0       3.0       4.0        5.0  \n",
       "UMFELD_JUNG                      3.0       4.0       5.0        5.0  \n",
       "UNGLEICHENN_FLAG                 0.0       0.0       0.0        1.0  \n",
       "VERDICHTUNGSRAUM                 0.0       1.0       5.0       45.0  \n",
       "VERS_TYP                         1.0       1.0       2.0        2.0  \n",
       "VHA                              0.0       0.0       0.0        5.0  \n",
       "VHN                              2.0       2.0       3.0        4.0  \n",
       "VK_DHT4A                         3.0       6.0       9.0       11.0  \n",
       "VK_DISTANZ                       5.0       8.0      10.0       13.0  \n",
       "VK_ZG11                          4.0       6.0       8.0       11.0  \n",
       "W_KEIT_KIND_HH                   2.0       4.0       6.0        6.0  \n",
       "WOHNDAUER_2008                   8.0       9.0       9.0        9.0  \n",
       "WOHNLAGE                         3.0       3.0       5.0        8.0  \n",
       "ZABEOTYP                         3.0       3.0       4.0        6.0  \n",
       "ANREDE_KZ                        1.0       2.0       2.0        2.0  \n",
       "ALTERSKATEGORIE_GROB             2.0       3.0       4.0        9.0  \n",
       "\n",
       "[360 rows x 8 columns]"
      ]
     },
     "execution_count": 18,
     "metadata": {},
     "output_type": "execute_result"
    }
   ],
   "source": [
    "azdias.describe().transpose()"
   ]
  },
  {
   "cell_type": "markdown",
   "metadata": {},
   "source": [
    "There are a lot of low counts. We have to take a look to missing values"
   ]
  },
  {
   "cell_type": "markdown",
   "metadata": {},
   "source": [
    "### Data wrangling"
   ]
  },
  {
   "cell_type": "markdown",
   "metadata": {},
   "source": [
    "We will perform the same wrangling in both data frames: azdias and customers"
   ]
  },
  {
   "cell_type": "markdown",
   "metadata": {},
   "source": [
    "All the following steps can be replaced by the function clean_data that takes a df and returns the cleaned df. I have already done everything step by step for the azdias and customers dataset, but you can do it call in the funtion. Just drop the extra columns in the costumers data set first. I will use the funtion for the train and test data sets."
   ]
  },
  {
   "cell_type": "markdown",
   "metadata": {},
   "source": [
    "**Missing values: by column**"
   ]
  },
  {
   "cell_type": "code",
   "execution_count": 23,
   "metadata": {},
   "outputs": [
    {
     "data": {
      "text/plain": [
       "ALTER_KIND4                    0.998648\n",
       "ALTER_KIND3                    0.993077\n",
       "ALTER_KIND2                    0.966900\n",
       "ALTER_KIND1                    0.909048\n",
       "EXTSEL992                      0.733996\n",
       "KK_KUNDENTYP                   0.655967\n",
       "ALTERSKATEGORIE_FEIN           0.295041\n",
       "D19_LETZTER_KAUF_BRANCHE       0.288495\n",
       "D19_LOTTO                      0.288495\n",
       "D19_VERSI_ONLINE_QUOTE_12      0.288495\n",
       "D19_BANKEN_ONLINE_QUOTE_12     0.288495\n",
       "D19_SOZIALES                   0.288495\n",
       "D19_GESAMT_ONLINE_QUOTE_12     0.288495\n",
       "D19_KONSUMTYP                  0.288495\n",
       "D19_TELKO_ONLINE_QUOTE_12      0.288495\n",
       "D19_VERSAND_ONLINE_QUOTE_12    0.288495\n",
       "KBA05_MOTOR                    0.149597\n",
       "KBA05_MOD8                     0.149597\n",
       "KBA05_MOD4                     0.149597\n",
       "KBA05_MOD3                     0.149597\n",
       "KBA05_MOD2                     0.149597\n",
       "KBA05_SEG1                     0.149597\n",
       "KBA05_MOD1                     0.149597\n",
       "KBA05_MAXVORB                  0.149597\n",
       "KBA05_MAXSEG                   0.149597\n",
       "KBA05_MAXHERST                 0.149597\n",
       "KBA05_MAXBJ                    0.149597\n",
       "KBA05_MAXAH                    0.149597\n",
       "KBA05_KW3                      0.149597\n",
       "KBA05_MOTRAD                   0.149597\n",
       "                                 ...   \n",
       "D19_RATGEBER                   0.000000\n",
       "FINANZ_ANLEGER                 0.000000\n",
       "D19_REISEN                     0.000000\n",
       "D19_SAMMELARTIKEL              0.000000\n",
       "D19_SCHUHE                     0.000000\n",
       "D19_SONSTIGE                   0.000000\n",
       "D19_TECHNIK                    0.000000\n",
       "D19_TELKO_ANZ_12               0.000000\n",
       "D19_TELKO_ANZ_24               0.000000\n",
       "D19_TELKO_DATUM                0.000000\n",
       "D19_TELKO_MOBILE               0.000000\n",
       "D19_TELKO_OFFLINE_DATUM        0.000000\n",
       "D19_TELKO_ONLINE_DATUM         0.000000\n",
       "D19_TELKO_REST                 0.000000\n",
       "D19_TIERARTIKEL                0.000000\n",
       "D19_VERSAND_ANZ_12             0.000000\n",
       "D19_VERSAND_ANZ_24             0.000000\n",
       "D19_VERSAND_DATUM              0.000000\n",
       "D19_VERSAND_OFFLINE_DATUM      0.000000\n",
       "D19_VERSAND_ONLINE_DATUM       0.000000\n",
       "D19_VERSAND_REST               0.000000\n",
       "D19_VERSI_ANZ_12               0.000000\n",
       "D19_VERSI_ANZ_24               0.000000\n",
       "D19_VERSI_DATUM                0.000000\n",
       "D19_VERSI_OFFLINE_DATUM        0.000000\n",
       "D19_VERSI_ONLINE_DATUM         0.000000\n",
       "D19_VERSICHERUNGEN             0.000000\n",
       "D19_VOLLSORTIMENT              0.000000\n",
       "D19_WEIN_FEINKOST              0.000000\n",
       "LNR                            0.000000\n",
       "Length: 366, dtype: float64"
      ]
     },
     "execution_count": 23,
     "metadata": {},
     "output_type": "execute_result"
    }
   ],
   "source": [
    "(azdias.isnull().sum()/azdias.shape[0]).sort_values(ascending=False)"
   ]
  },
  {
   "cell_type": "markdown",
   "metadata": {},
   "source": [
    "There is a clear difference between the amount of missing values between the first 6 columns (> 65%) and the others (<30%). "
   ]
  },
  {
   "cell_type": "code",
   "execution_count": 19,
   "metadata": {},
   "outputs": [
    {
     "data": {
      "text/plain": [
       "93"
      ]
     },
     "execution_count": 19,
     "metadata": {},
     "output_type": "execute_result"
    }
   ],
   "source": [
    "(azdias.isnull().sum() == 0).sum() #number of columns with zero missing values"
   ]
  },
  {
   "cell_type": "code",
   "execution_count": 9,
   "metadata": {},
   "outputs": [
    {
     "data": {
      "text/plain": [
       "array(['LNR', 'AGER_TYP', 'D19_BANKEN_ANZ_12', 'D19_BANKEN_ANZ_24',\n",
       "       'D19_BANKEN_DATUM', 'D19_BANKEN_DIREKT', 'D19_BANKEN_GROSS',\n",
       "       'D19_BANKEN_LOKAL', 'D19_BANKEN_OFFLINE_DATUM',\n",
       "       'D19_BANKEN_ONLINE_DATUM', 'D19_BANKEN_REST', 'D19_BEKLEIDUNG_GEH',\n",
       "       'D19_BEKLEIDUNG_REST', 'D19_BILDUNG', 'D19_BIO_OEKO', 'D19_BUCH_CD',\n",
       "       'D19_DIGIT_SERV', 'D19_DROGERIEARTIKEL', 'D19_ENERGIE',\n",
       "       'D19_FREIZEIT', 'D19_GARTEN', 'D19_GESAMT_ANZ_12',\n",
       "       'D19_GESAMT_ANZ_24', 'D19_GESAMT_DATUM', 'D19_GESAMT_OFFLINE_DATUM',\n",
       "       'D19_GESAMT_ONLINE_DATUM', 'D19_HANDWERK', 'D19_HAUS_DEKO',\n",
       "       'D19_KINDERARTIKEL', 'D19_KONSUMTYP_MAX', 'D19_KOSMETIK',\n",
       "       'D19_LEBENSMITTEL', 'D19_NAHRUNGSERGAENZUNG', 'D19_RATGEBER',\n",
       "       'D19_REISEN', 'D19_SAMMELARTIKEL', 'D19_SCHUHE', 'D19_SONSTIGE',\n",
       "       'D19_TECHNIK', 'D19_TELKO_ANZ_12', 'D19_TELKO_ANZ_24',\n",
       "       'D19_TELKO_DATUM', 'D19_TELKO_MOBILE', 'D19_TELKO_OFFLINE_DATUM',\n",
       "       'D19_TELKO_ONLINE_DATUM', 'D19_TELKO_REST', 'D19_TIERARTIKEL',\n",
       "       'D19_VERSAND_ANZ_12', 'D19_VERSAND_ANZ_24', 'D19_VERSAND_DATUM',\n",
       "       'D19_VERSAND_OFFLINE_DATUM', 'D19_VERSAND_ONLINE_DATUM',\n",
       "       'D19_VERSAND_REST', 'D19_VERSI_ANZ_12', 'D19_VERSI_ANZ_24',\n",
       "       'D19_VERSI_DATUM', 'D19_VERSI_OFFLINE_DATUM',\n",
       "       'D19_VERSI_ONLINE_DATUM', 'D19_VERSICHERUNGEN', 'D19_VOLLSORTIMENT',\n",
       "       'D19_WEIN_FEINKOST', 'FINANZ_ANLEGER', 'FINANZ_HAUSBAUER',\n",
       "       'FINANZ_MINIMALIST', 'FINANZ_SPARER', 'FINANZ_UNAUFFAELLIGER',\n",
       "       'FINANZ_VORSORGER', 'FINANZTYP', 'GEBURTSJAHR', 'GREEN_AVANTGARDE',\n",
       "       'HEALTH_TYP', 'KOMBIALTER', 'NATIONALITAET_KZ',\n",
       "       'PRAEGENDE_JUGENDJAHRE', 'SEMIO_DOM', 'SEMIO_ERL', 'SEMIO_FAM',\n",
       "       'SEMIO_KAEM', 'SEMIO_KRIT', 'SEMIO_KULT', 'SEMIO_LUST', 'SEMIO_MAT',\n",
       "       'SEMIO_PFLICHT', 'SEMIO_RAT', 'SEMIO_REL', 'SEMIO_SOZ',\n",
       "       'SEMIO_TRADV', 'SEMIO_VERT', 'SHOPPER_TYP', 'VERS_TYP', 'ZABEOTYP',\n",
       "       'ANREDE_KZ', 'ALTERSKATEGORIE_GROB'], dtype=object)"
      ]
     },
     "execution_count": 9,
     "metadata": {},
     "output_type": "execute_result"
    }
   ],
   "source": [
    "nulls = azdias.isnull().sum()\n",
    "nulls[nulls == 0].index.values # columns with zero missing values"
   ]
  },
  {
   "cell_type": "markdown",
   "metadata": {},
   "source": [
    "We need to investigate this columns in more detail taking a look to the metadata. In all cases a value of -1 means unknown or is out of boundaries, let's change those values for NaN."
   ]
  },
  {
   "cell_type": "code",
   "execution_count": 10,
   "metadata": {},
   "outputs": [],
   "source": [
    "no_nan_columns = list(nulls[nulls == 0].index.values)"
   ]
  },
  {
   "cell_type": "code",
   "execution_count": 11,
   "metadata": {},
   "outputs": [],
   "source": [
    "for column in list(azdias.columns.values):\n",
    "    azdias[column].replace(-1, np.NaN, inplace=True)\n",
    "    customers[column].replace(-1, np.NaN, inplace=True)"
   ]
  },
  {
   "cell_type": "code",
   "execution_count": 12,
   "metadata": {},
   "outputs": [
    {
     "data": {
      "text/plain": [
       "array(['LNR', 'D19_BANKEN_ANZ_12', 'D19_BANKEN_ANZ_24', 'D19_BANKEN_DATUM',\n",
       "       'D19_BANKEN_DIREKT', 'D19_BANKEN_GROSS', 'D19_BANKEN_LOKAL',\n",
       "       'D19_BANKEN_OFFLINE_DATUM', 'D19_BANKEN_ONLINE_DATUM',\n",
       "       'D19_BANKEN_REST', 'D19_BEKLEIDUNG_GEH', 'D19_BEKLEIDUNG_REST',\n",
       "       'D19_BILDUNG', 'D19_BIO_OEKO', 'D19_BUCH_CD', 'D19_DIGIT_SERV',\n",
       "       'D19_DROGERIEARTIKEL', 'D19_ENERGIE', 'D19_FREIZEIT', 'D19_GARTEN',\n",
       "       'D19_GESAMT_ANZ_12', 'D19_GESAMT_ANZ_24', 'D19_GESAMT_DATUM',\n",
       "       'D19_GESAMT_OFFLINE_DATUM', 'D19_GESAMT_ONLINE_DATUM',\n",
       "       'D19_HANDWERK', 'D19_HAUS_DEKO', 'D19_KINDERARTIKEL',\n",
       "       'D19_KONSUMTYP_MAX', 'D19_KOSMETIK', 'D19_LEBENSMITTEL',\n",
       "       'D19_NAHRUNGSERGAENZUNG', 'D19_RATGEBER', 'D19_REISEN',\n",
       "       'D19_SAMMELARTIKEL', 'D19_SCHUHE', 'D19_SONSTIGE', 'D19_TECHNIK',\n",
       "       'D19_TELKO_ANZ_12', 'D19_TELKO_ANZ_24', 'D19_TELKO_DATUM',\n",
       "       'D19_TELKO_MOBILE', 'D19_TELKO_OFFLINE_DATUM',\n",
       "       'D19_TELKO_ONLINE_DATUM', 'D19_TELKO_REST', 'D19_TIERARTIKEL',\n",
       "       'D19_VERSAND_ANZ_12', 'D19_VERSAND_ANZ_24', 'D19_VERSAND_DATUM',\n",
       "       'D19_VERSAND_OFFLINE_DATUM', 'D19_VERSAND_ONLINE_DATUM',\n",
       "       'D19_VERSAND_REST', 'D19_VERSI_ANZ_12', 'D19_VERSI_ANZ_24',\n",
       "       'D19_VERSI_DATUM', 'D19_VERSI_OFFLINE_DATUM',\n",
       "       'D19_VERSI_ONLINE_DATUM', 'D19_VERSICHERUNGEN', 'D19_VOLLSORTIMENT',\n",
       "       'D19_WEIN_FEINKOST', 'FINANZ_ANLEGER', 'FINANZ_HAUSBAUER',\n",
       "       'FINANZ_MINIMALIST', 'FINANZ_SPARER', 'FINANZ_UNAUFFAELLIGER',\n",
       "       'FINANZ_VORSORGER', 'FINANZTYP', 'GEBURTSJAHR', 'GREEN_AVANTGARDE',\n",
       "       'KOMBIALTER', 'NATIONALITAET_KZ', 'PRAEGENDE_JUGENDJAHRE',\n",
       "       'SEMIO_DOM', 'SEMIO_ERL', 'SEMIO_FAM', 'SEMIO_KAEM', 'SEMIO_KRIT',\n",
       "       'SEMIO_KULT', 'SEMIO_LUST', 'SEMIO_MAT', 'SEMIO_PFLICHT',\n",
       "       'SEMIO_RAT', 'SEMIO_REL', 'SEMIO_SOZ', 'SEMIO_TRADV', 'SEMIO_VERT',\n",
       "       'ZABEOTYP', 'ANREDE_KZ', 'ALTERSKATEGORIE_GROB'], dtype=object)"
      ]
     },
     "execution_count": 12,
     "metadata": {},
     "output_type": "execute_result"
    }
   ],
   "source": [
    "nulls2 = azdias.isnull().sum()\n",
    "nulls2[nulls2 == 0].index.values"
   ]
  },
  {
   "cell_type": "code",
   "execution_count": 34,
   "metadata": {},
   "outputs": [
    {
     "data": {
      "text/plain": [
       "89"
      ]
     },
     "execution_count": 34,
     "metadata": {},
     "output_type": "execute_result"
    }
   ],
   "source": [
    "len(nulls2[nulls2 == 0].index.values)"
   ]
  },
  {
   "cell_type": "markdown",
   "metadata": {},
   "source": [
    "There are some other values that means unknown: 0 or 9, depends on the column:\n",
    "\n",
    "0: ALTERSKATEGORIE_GROB, ALTER_HH, ANREDE_KZ, CJT_GESAMTTYP, D19_KK_KUNDENTYP, GEBAEUDETYP, GEOSCORE_KLS7, HAUSHALTSSTRUKTUR, HH_EINKOMMEN_SCORE, KBA05_BAUMAX, KBA05_GBZ, KKK, NATIONALITAET_KZ, PRAEGENDE_JUGENDJAHRE, REGIOTYP, RETOURTYP_BK_S, TITEL_KZ, WOHNDAUER_2008, W_KEIT_KIND_HH\n",
    "\n",
    "9: KBA05_ALTER1, KBA05_ALTER2, KBA05_ALTER3, KBA05_ALTER4, KBA05_ANHANG, KBA05_AUTOQUOT, KBA05_CCM1, KBA05_CCM2, KBA05_CCM3, KBA05_CCM4, KBA05_DIESEL, KBA05_FRAU, KBA05_HERST1, KBA05_HERST2, KBA05_HERST3, KBA05_HERST4, KBA05_HERST5, KBA05_KRSAQUOT, BA05_KRSHERST1, KBA05_KRSHERST2, KBA05_KRSHERST3, KBA05_KRSKLEIN, KBA05_KRSOBER, KBA05_KRSVAN, KBA05_KRSZUL, KBA05_KW1, KBA05_KW2, KBA05_KW3, KBA05_MAXAH, KBA05_MAXBJ, KBA05_MAXHERST, KBA05_MAXSEG, KBA05_MAXVORB, KBA05_MOD1, KBA05_MOD2, KBA05_MOD3, KBA05_MOD4, KBA05_MOD8, KBA05_MOTOR, KBA05_MOTRAD, KBA05_SEG1, KBA05_SEG2, KBA05_SEG3, KBA05_SEG4, KBA05_SEG5, KBA05_SEG6, KBA05_SEG7, KBA05_SEG8, KBA05_SEG9, KBA05_SEG10, KBA05_VORB0, KBA05_VORB1, KBA05_VORB2, KBA05_ZUL1, KBA05_ZUL2, KBA05_ZUL3, KBA05_ZUL4, RELAT_AB, SEMIO_SOZ, SEMIO_FAM, SEMIO_REL, SEMIO_MAT, SEMIO_VERT, SEMIO_LUST, SEMIO_ERL, SEMIO_KULT, SEMIO_RAT, SEMIO_KRIT, SEMIO_DOM, SEMIO_KAEM, SEMIO_PFLICHT, SEMIO_TRADV, ZABEOTYP, KBA05_HERSTTEMP"
   ]
  },
  {
   "cell_type": "code",
   "execution_count": 13,
   "metadata": {},
   "outputs": [],
   "source": [
    "null0 = ['ALTERSKATEGORIE_GROB', 'ALTER_HH', 'ANREDE_KZ', 'CJT_GESAMTTYP', 'GEBAEUDETYP', 'HH_EINKOMMEN_SCORE', 'KBA05_BAUMAX', 'KBA05_GBZ', 'KKK', 'NATIONALITAET_KZ', 'PRAEGENDE_JUGENDJAHRE', 'REGIOTYP', 'RETOURTYP_BK_S', 'TITEL_KZ', 'WOHNDAUER_2008', 'W_KEIT_KIND_HH']"
   ]
  },
  {
   "cell_type": "code",
   "execution_count": 14,
   "metadata": {},
   "outputs": [],
   "source": [
    "for column in null0:\n",
    "    azdias[column].replace(0, np.NaN, inplace=True)\n",
    "    customers[column].replace(0, np.NaN, inplace=True)"
   ]
  },
  {
   "cell_type": "code",
   "execution_count": 15,
   "metadata": {},
   "outputs": [],
   "source": [
    "null9 = ['KBA05_ALTER1', 'KBA05_ALTER2', 'KBA05_ALTER3', 'KBA05_ALTER4', 'KBA05_ANHANG', 'KBA05_AUTOQUOT', 'KBA05_CCM1', 'KBA05_CCM2', 'KBA05_CCM3', 'KBA05_CCM4', 'KBA05_DIESEL', 'KBA05_FRAU', 'KBA05_HERST1', 'KBA05_HERST2', 'KBA05_HERST3', 'KBA05_HERST4', 'KBA05_HERST5', 'KBA05_KRSAQUOT', 'KBA05_KRSHERST1', 'KBA05_KRSHERST2', 'KBA05_KRSHERST3', 'KBA05_KRSKLEIN', 'KBA05_KRSOBER', 'KBA05_KRSVAN', 'KBA05_KRSZUL', 'KBA05_KW1', 'KBA05_KW2', 'KBA05_KW3', 'KBA05_MAXAH', 'KBA05_MAXBJ', 'KBA05_MAXHERST', 'KBA05_MAXSEG', 'KBA05_MAXVORB', 'KBA05_MOD1', 'KBA05_MOD2', 'KBA05_MOD3', 'KBA05_MOD4', 'KBA05_MOD8', 'KBA05_MOTOR', 'KBA05_MOTRAD', 'KBA05_SEG1', 'KBA05_SEG2', 'KBA05_SEG3', 'KBA05_SEG4', 'KBA05_SEG5', 'KBA05_SEG6', 'KBA05_SEG7', 'KBA05_SEG8', 'KBA05_SEG9', 'KBA05_SEG10', 'KBA05_VORB0', 'KBA05_VORB1', 'KBA05_VORB2', 'KBA05_ZUL1', 'KBA05_ZUL2', 'KBA05_ZUL3', 'KBA05_ZUL4', 'RELAT_AB', 'SEMIO_SOZ', 'SEMIO_FAM', 'SEMIO_REL', 'SEMIO_MAT', 'SEMIO_VERT', 'SEMIO_LUST', 'SEMIO_ERL', 'SEMIO_KULT', 'SEMIO_RAT', 'SEMIO_KRIT', 'SEMIO_DOM', 'SEMIO_KAEM', 'SEMIO_PFLICHT', 'SEMIO_TRADV', 'ZABEOTYP', 'KBA05_HERSTTEMP']"
   ]
  },
  {
   "cell_type": "code",
   "execution_count": 16,
   "metadata": {},
   "outputs": [],
   "source": [
    "for column in null9:\n",
    "    azdias[column].replace(9, np.NaN, inplace=True)\n",
    "    customers[column].replace(9, np.NaN, inplace=True)"
   ]
  },
  {
   "cell_type": "code",
   "execution_count": 17,
   "metadata": {},
   "outputs": [
    {
     "data": {
      "image/png": "[encoded data removed]",
      "text/plain": [
       "<matplotlib.figure.Figure at 0x7fa8e24c2d30>"
      ]
     },
     "metadata": {
      "needs_background": "light"
     },
     "output_type": "display_data"
    }
   ],
   "source": [
    "(azdias.isnull().sum()/azdias.shape[0]).sort_values(ascending=False)[:20].plot.bar()\n",
    "plt.xlabel('Column name')\n",
    "plt.ylabel('Percentage of missing values');"
   ]
  },
  {
   "cell_type": "markdown",
   "metadata": {},
   "source": [
    "Now that all the unknown values have been identified we have 9 columns with a large amount of missing values in comparision to the rest of the columns. We are going to drop this nine columns. "
   ]
  },
  {
   "cell_type": "code",
   "execution_count": 18,
   "metadata": {},
   "outputs": [],
   "source": [
    "dropcol = ['ALTER_KIND4','ALTER_KIND3', 'ALTER_KIND2', 'ALTER_KIND1', 'TITEL_KZ', 'AGER_TYP', 'EXTSEL992', 'KK_KUNDENTYP', 'KBA05_BAUMAX']\n",
    "azdias.drop(dropcol, axis=1, inplace=True)\n",
    "customers.drop(dropcol, axis=1, inplace=True)"
   ]
  },
  {
   "cell_type": "markdown",
   "metadata": {},
   "source": [
    "**Missing values: by row**"
   ]
  },
  {
   "cell_type": "code",
   "execution_count": 19,
   "metadata": {},
   "outputs": [
    {
     "data": {
      "image/png": "[encoded data removed]",
      "text/plain": [
       "<matplotlib.figure.Figure at 0x7fa8dad94518>"
      ]
     },
     "metadata": {
      "needs_background": "light"
     },
     "output_type": "display_data"
    }
   ],
   "source": [
    "(azdias.isnull().sum(axis=1)/azdias.shape[1]).sort_values(ascending=False).hist()\n",
    "plt.xlabel('Percentage of missing values by row')\n",
    "plt.ylabel('Count')\n",
    "plt.title('Population data');"
   ]
  },
  {
   "cell_type": "code",
   "execution_count": 20,
   "metadata": {},
   "outputs": [
    {
     "name": "stdout",
     "output_type": "stream",
     "text": [
      "0.11216858669174089\n",
      "0.8878314133082591\n",
      "0.827182034534644\n",
      "0.4139018268196104\n"
     ]
    }
   ],
   "source": [
    "row_nulls= (azdias.isnull().sum(axis=1)/azdias.shape[1])\n",
    "print(len(row_nulls[row_nulls > 0.5])/azdias.shape[0])\n",
    "print(len(row_nulls[row_nulls <= 0.5])/azdias.shape[0])\n",
    "print(len(row_nulls[row_nulls <= 0.1])/azdias.shape[0])\n",
    "print(len(row_nulls[row_nulls == 0.0])/azdias.shape[0])"
   ]
  },
  {
   "cell_type": "markdown",
   "metadata": {},
   "source": [
    "89% of the rows have less than 50% missing data and 83% less than 10%. Let see what happens with the customers df before make a decision."
   ]
  },
  {
   "cell_type": "code",
   "execution_count": 21,
   "metadata": {},
   "outputs": [
    {
     "data": {
      "image/png": "[encoded data removed]",
      "text/plain": [
       "<matplotlib.figure.Figure at 0x7fa8d7f96438>"
      ]
     },
     "metadata": {
      "needs_background": "light"
     },
     "output_type": "display_data"
    }
   ],
   "source": [
    "(customers.isnull().sum(axis=1)/customers.shape[1]).sort_values(ascending=False).hist()\n",
    "plt.xlabel('Percentage of missing values by row')\n",
    "plt.ylabel('Count')\n",
    "plt.title('Customers data');"
   ]
  },
  {
   "cell_type": "markdown",
   "metadata": {},
   "source": [
    "We can see similar behaviors in both data frames, with the difference that for customers we have a lot more of rows on the 70% of missing data. I believe that the best option is to delete all rows with more than 10% of missing data. \n",
    "\n",
    "Justification: Since we are going to perform clustering, we will need to fill the missing data with some value. But almost all columns are categorical so we will be filling missing values with something like the mode and, therefore, losing the real information from the dataset. Due to the low percentage of rows with more of 10% missing data, the best option is to drop those rows."
   ]
  },
  {
   "cell_type": "code",
   "execution_count": 22,
   "metadata": {},
   "outputs": [],
   "source": [
    "azdias.drop(list(row_nulls[row_nulls > 0.1].index.values),inplace=True)"
   ]
  },
  {
   "cell_type": "code",
   "execution_count": 23,
   "metadata": {},
   "outputs": [
    {
     "data": {
      "text/plain": [
       "(737202, 357)"
      ]
     },
     "execution_count": 23,
     "metadata": {},
     "output_type": "execute_result"
    }
   ],
   "source": [
    "azdias.shape"
   ]
  },
  {
   "cell_type": "code",
   "execution_count": 24,
   "metadata": {},
   "outputs": [],
   "source": [
    "row_nulls_cust = (customers.isnull().sum(axis=1)/customers.shape[1])"
   ]
  },
  {
   "cell_type": "code",
   "execution_count": 25,
   "metadata": {},
   "outputs": [],
   "source": [
    "customers.drop(list(row_nulls_cust[row_nulls_cust>0.1].index.values),inplace=True)"
   ]
  },
  {
   "cell_type": "code",
   "execution_count": 26,
   "metadata": {},
   "outputs": [
    {
     "data": {
      "text/plain": [
       "(134245, 360)"
      ]
     },
     "execution_count": 26,
     "metadata": {},
     "output_type": "execute_result"
    }
   ],
   "source": [
    "customers.shape"
   ]
  },
  {
   "cell_type": "code",
   "execution_count": 27,
   "metadata": {},
   "outputs": [],
   "source": [
    "#Save the clean data frames\n",
    "azdias.to_csv('azdias_clean.csv',sep=';',index=False)\n",
    "customers.to_csv('customers_clean.csv',sep=';',index=False)"
   ]
  },
  {
   "cell_type": "markdown",
   "metadata": {},
   "source": [
    "### Data pre-processing"
   ]
  },
  {
   "cell_type": "code",
   "execution_count": 2,
   "metadata": {},
   "outputs": [
    {
     "name": "stderr",
     "output_type": "stream",
     "text": [
      "/opt/conda/lib/python3.6/site-packages/IPython/core/interactiveshell.py:2785: DtypeWarning: Columns (13,14) have mixed types. Specify dtype option on import or set low_memory=False.\n",
      "  interactivity=interactivity, compiler=compiler, result=result)\n"
     ]
    }
   ],
   "source": [
    "# Load clean data frames\n",
    "azdias = pd.read_csv('azdias_clean.csv', sep=';')\n",
    "customers = pd.read_csv('customers_clean.csv', sep=';')"
   ]
  },
  {
   "cell_type": "code",
   "execution_count": 3,
   "metadata": {},
   "outputs": [
    {
     "data": {
      "text/html": [
       "<div>\n",
       "<style scoped>\n",
       "    .dataframe tbody tr th:only-of-type {\n",
       "        vertical-align: middle;\n",
       "    }\n",
       "\n",
       "    .dataframe tbody tr th {\n",
       "        vertical-align: top;\n",
       "    }\n",
       "\n",
       "    .dataframe thead th {\n",
       "        text-align: right;\n",
       "    }\n",
       "</style>\n",
       "<table border=\"1\" class=\"dataframe\">\n",
       "  <thead>\n",
       "    <tr style=\"text-align: right;\">\n",
       "      <th></th>\n",
       "      <th>LNR</th>\n",
       "      <th>AKT_DAT_KL</th>\n",
       "      <th>ALTER_HH</th>\n",
       "      <th>ALTERSKATEGORIE_FEIN</th>\n",
       "      <th>ANZ_HAUSHALTE_AKTIV</th>\n",
       "      <th>ANZ_HH_TITEL</th>\n",
       "      <th>ANZ_KINDER</th>\n",
       "      <th>ANZ_PERSONEN</th>\n",
       "      <th>ANZ_STATISTISCHE_HAUSHALTE</th>\n",
       "      <th>ANZ_TITEL</th>\n",
       "      <th>...</th>\n",
       "      <th>VHN</th>\n",
       "      <th>VK_DHT4A</th>\n",
       "      <th>VK_DISTANZ</th>\n",
       "      <th>VK_ZG11</th>\n",
       "      <th>W_KEIT_KIND_HH</th>\n",
       "      <th>WOHNDAUER_2008</th>\n",
       "      <th>WOHNLAGE</th>\n",
       "      <th>ZABEOTYP</th>\n",
       "      <th>ANREDE_KZ</th>\n",
       "      <th>ALTERSKATEGORIE_GROB</th>\n",
       "    </tr>\n",
       "  </thead>\n",
       "  <tbody>\n",
       "    <tr>\n",
       "      <th>0</th>\n",
       "      <td>910220</td>\n",
       "      <td>9.0</td>\n",
       "      <td>NaN</td>\n",
       "      <td>21.0</td>\n",
       "      <td>11.0</td>\n",
       "      <td>0.0</td>\n",
       "      <td>0.0</td>\n",
       "      <td>2.0</td>\n",
       "      <td>12.0</td>\n",
       "      <td>0.0</td>\n",
       "      <td>...</td>\n",
       "      <td>4.0</td>\n",
       "      <td>8.0</td>\n",
       "      <td>11.0</td>\n",
       "      <td>10.0</td>\n",
       "      <td>3.0</td>\n",
       "      <td>9.0</td>\n",
       "      <td>4.0</td>\n",
       "      <td>5</td>\n",
       "      <td>2</td>\n",
       "      <td>1</td>\n",
       "    </tr>\n",
       "    <tr>\n",
       "      <th>1</th>\n",
       "      <td>910225</td>\n",
       "      <td>9.0</td>\n",
       "      <td>17.0</td>\n",
       "      <td>17.0</td>\n",
       "      <td>10.0</td>\n",
       "      <td>0.0</td>\n",
       "      <td>0.0</td>\n",
       "      <td>1.0</td>\n",
       "      <td>7.0</td>\n",
       "      <td>0.0</td>\n",
       "      <td>...</td>\n",
       "      <td>2.0</td>\n",
       "      <td>9.0</td>\n",
       "      <td>9.0</td>\n",
       "      <td>6.0</td>\n",
       "      <td>3.0</td>\n",
       "      <td>9.0</td>\n",
       "      <td>2.0</td>\n",
       "      <td>5</td>\n",
       "      <td>2</td>\n",
       "      <td>3</td>\n",
       "    </tr>\n",
       "  </tbody>\n",
       "</table>\n",
       "<p>2 rows × 357 columns</p>\n",
       "</div>"
      ],
      "text/plain": [
       "      LNR  AKT_DAT_KL  ALTER_HH  ALTERSKATEGORIE_FEIN  ANZ_HAUSHALTE_AKTIV  \\\n",
       "0  910220         9.0       NaN                  21.0                 11.0   \n",
       "1  910225         9.0      17.0                  17.0                 10.0   \n",
       "\n",
       "   ANZ_HH_TITEL  ANZ_KINDER  ANZ_PERSONEN  ANZ_STATISTISCHE_HAUSHALTE  \\\n",
       "0           0.0         0.0           2.0                        12.0   \n",
       "1           0.0         0.0           1.0                         7.0   \n",
       "\n",
       "   ANZ_TITEL          ...           VHN  VK_DHT4A VK_DISTANZ VK_ZG11  \\\n",
       "0        0.0          ...           4.0       8.0       11.0    10.0   \n",
       "1        0.0          ...           2.0       9.0        9.0     6.0   \n",
       "\n",
       "  W_KEIT_KIND_HH  WOHNDAUER_2008  WOHNLAGE  ZABEOTYP  ANREDE_KZ  \\\n",
       "0            3.0             9.0       4.0         5          2   \n",
       "1            3.0             9.0       2.0         5          2   \n",
       "\n",
       "   ALTERSKATEGORIE_GROB  \n",
       "0                     1  \n",
       "1                     3  \n",
       "\n",
       "[2 rows x 357 columns]"
      ]
     },
     "execution_count": 3,
     "metadata": {},
     "output_type": "execute_result"
    }
   ],
   "source": [
    "azdias.head(2)"
   ]
  },
  {
   "cell_type": "code",
   "execution_count": 4,
   "metadata": {},
   "outputs": [
    {
     "data": {
      "text/html": [
       "<div>\n",
       "<style scoped>\n",
       "    .dataframe tbody tr th:only-of-type {\n",
       "        vertical-align: middle;\n",
       "    }\n",
       "\n",
       "    .dataframe tbody tr th {\n",
       "        vertical-align: top;\n",
       "    }\n",
       "\n",
       "    .dataframe thead th {\n",
       "        text-align: right;\n",
       "    }\n",
       "</style>\n",
       "<table border=\"1\" class=\"dataframe\">\n",
       "  <thead>\n",
       "    <tr style=\"text-align: right;\">\n",
       "      <th></th>\n",
       "      <th>LNR</th>\n",
       "      <th>AKT_DAT_KL</th>\n",
       "      <th>ALTER_HH</th>\n",
       "      <th>ALTERSKATEGORIE_FEIN</th>\n",
       "      <th>ANZ_HAUSHALTE_AKTIV</th>\n",
       "      <th>ANZ_HH_TITEL</th>\n",
       "      <th>ANZ_KINDER</th>\n",
       "      <th>ANZ_PERSONEN</th>\n",
       "      <th>ANZ_STATISTISCHE_HAUSHALTE</th>\n",
       "      <th>ANZ_TITEL</th>\n",
       "      <th>...</th>\n",
       "      <th>VK_ZG11</th>\n",
       "      <th>W_KEIT_KIND_HH</th>\n",
       "      <th>WOHNDAUER_2008</th>\n",
       "      <th>WOHNLAGE</th>\n",
       "      <th>ZABEOTYP</th>\n",
       "      <th>PRODUCT_GROUP</th>\n",
       "      <th>CUSTOMER_GROUP</th>\n",
       "      <th>ONLINE_PURCHASE</th>\n",
       "      <th>ANREDE_KZ</th>\n",
       "      <th>ALTERSKATEGORIE_GROB</th>\n",
       "    </tr>\n",
       "  </thead>\n",
       "  <tbody>\n",
       "    <tr>\n",
       "      <th>0</th>\n",
       "      <td>9626</td>\n",
       "      <td>1.0</td>\n",
       "      <td>10.0</td>\n",
       "      <td>10.0</td>\n",
       "      <td>1.0</td>\n",
       "      <td>0.0</td>\n",
       "      <td>0.0</td>\n",
       "      <td>2.0</td>\n",
       "      <td>1.0</td>\n",
       "      <td>0.0</td>\n",
       "      <td>...</td>\n",
       "      <td>2.0</td>\n",
       "      <td>6.0</td>\n",
       "      <td>9.0</td>\n",
       "      <td>7.0</td>\n",
       "      <td>3</td>\n",
       "      <td>COSMETIC_AND_FOOD</td>\n",
       "      <td>MULTI_BUYER</td>\n",
       "      <td>0</td>\n",
       "      <td>1</td>\n",
       "      <td>4</td>\n",
       "    </tr>\n",
       "    <tr>\n",
       "      <th>1</th>\n",
       "      <td>143872</td>\n",
       "      <td>1.0</td>\n",
       "      <td>6.0</td>\n",
       "      <td>0.0</td>\n",
       "      <td>1.0</td>\n",
       "      <td>0.0</td>\n",
       "      <td>0.0</td>\n",
       "      <td>1.0</td>\n",
       "      <td>1.0</td>\n",
       "      <td>0.0</td>\n",
       "      <td>...</td>\n",
       "      <td>11.0</td>\n",
       "      <td>6.0</td>\n",
       "      <td>9.0</td>\n",
       "      <td>2.0</td>\n",
       "      <td>3</td>\n",
       "      <td>COSMETIC_AND_FOOD</td>\n",
       "      <td>MULTI_BUYER</td>\n",
       "      <td>0</td>\n",
       "      <td>2</td>\n",
       "      <td>4</td>\n",
       "    </tr>\n",
       "  </tbody>\n",
       "</table>\n",
       "<p>2 rows × 360 columns</p>\n",
       "</div>"
      ],
      "text/plain": [
       "      LNR  AKT_DAT_KL  ALTER_HH  ALTERSKATEGORIE_FEIN  ANZ_HAUSHALTE_AKTIV  \\\n",
       "0    9626         1.0      10.0                  10.0                  1.0   \n",
       "1  143872         1.0       6.0                   0.0                  1.0   \n",
       "\n",
       "   ANZ_HH_TITEL  ANZ_KINDER  ANZ_PERSONEN  ANZ_STATISTISCHE_HAUSHALTE  \\\n",
       "0           0.0         0.0           2.0                         1.0   \n",
       "1           0.0         0.0           1.0                         1.0   \n",
       "\n",
       "   ANZ_TITEL          ...           VK_ZG11  W_KEIT_KIND_HH WOHNDAUER_2008  \\\n",
       "0        0.0          ...               2.0             6.0            9.0   \n",
       "1        0.0          ...              11.0             6.0            9.0   \n",
       "\n",
       "  WOHNLAGE ZABEOTYP      PRODUCT_GROUP  CUSTOMER_GROUP  ONLINE_PURCHASE  \\\n",
       "0      7.0        3  COSMETIC_AND_FOOD     MULTI_BUYER                0   \n",
       "1      2.0        3  COSMETIC_AND_FOOD     MULTI_BUYER                0   \n",
       "\n",
       "   ANREDE_KZ  ALTERSKATEGORIE_GROB  \n",
       "0          1                     4  \n",
       "1          2                     4  \n",
       "\n",
       "[2 rows x 360 columns]"
      ]
     },
     "execution_count": 4,
     "metadata": {},
     "output_type": "execute_result"
    }
   ],
   "source": [
    "customers.head(2)"
   ]
  },
  {
   "cell_type": "markdown",
   "metadata": {},
   "source": [
    "**Drop extra columns in costumers data**"
   ]
  },
  {
   "cell_type": "code",
   "execution_count": 3,
   "metadata": {},
   "outputs": [],
   "source": [
    "customers.drop(['CUSTOMER_GROUP', 'ONLINE_PURCHASE', 'PRODUCT_GROUP'], axis=1, inplace=True)"
   ]
  },
  {
   "cell_type": "markdown",
   "metadata": {},
   "source": [
    "**Manage object columns**"
   ]
  },
  {
   "cell_type": "code",
   "execution_count": 29,
   "metadata": {},
   "outputs": [
    {
     "data": {
      "text/html": [
       "<div>\n",
       "<style scoped>\n",
       "    .dataframe tbody tr th:only-of-type {\n",
       "        vertical-align: middle;\n",
       "    }\n",
       "\n",
       "    .dataframe tbody tr th {\n",
       "        vertical-align: top;\n",
       "    }\n",
       "\n",
       "    .dataframe thead th {\n",
       "        text-align: right;\n",
       "    }\n",
       "</style>\n",
       "<table border=\"1\" class=\"dataframe\">\n",
       "  <thead>\n",
       "    <tr style=\"text-align: right;\">\n",
       "      <th></th>\n",
       "      <th>CAMEO_DEU_2015</th>\n",
       "      <th>CAMEO_DEUG_2015</th>\n",
       "      <th>CAMEO_INTL_2015</th>\n",
       "      <th>D19_LETZTER_KAUF_BRANCHE</th>\n",
       "      <th>EINGEFUEGT_AM</th>\n",
       "      <th>OST_WEST_KZ</th>\n",
       "    </tr>\n",
       "  </thead>\n",
       "  <tbody>\n",
       "    <tr>\n",
       "      <th>1</th>\n",
       "      <td>8A</td>\n",
       "      <td>8</td>\n",
       "      <td>51</td>\n",
       "      <td>NaN</td>\n",
       "      <td>1992-02-10 00:00:00</td>\n",
       "      <td>W</td>\n",
       "    </tr>\n",
       "    <tr>\n",
       "      <th>2</th>\n",
       "      <td>4C</td>\n",
       "      <td>4</td>\n",
       "      <td>24</td>\n",
       "      <td>D19_UNBEKANNT</td>\n",
       "      <td>1992-02-12 00:00:00</td>\n",
       "      <td>W</td>\n",
       "    </tr>\n",
       "    <tr>\n",
       "      <th>3</th>\n",
       "      <td>2A</td>\n",
       "      <td>2</td>\n",
       "      <td>12</td>\n",
       "      <td>D19_UNBEKANNT</td>\n",
       "      <td>1997-04-21 00:00:00</td>\n",
       "      <td>W</td>\n",
       "    </tr>\n",
       "    <tr>\n",
       "      <th>4</th>\n",
       "      <td>6B</td>\n",
       "      <td>6</td>\n",
       "      <td>43</td>\n",
       "      <td>D19_SCHUHE</td>\n",
       "      <td>1992-02-12 00:00:00</td>\n",
       "      <td>W</td>\n",
       "    </tr>\n",
       "    <tr>\n",
       "      <th>5</th>\n",
       "      <td>8C</td>\n",
       "      <td>8</td>\n",
       "      <td>54</td>\n",
       "      <td>D19_ENERGIE</td>\n",
       "      <td>1992-02-12 00:00:00</td>\n",
       "      <td>W</td>\n",
       "    </tr>\n",
       "  </tbody>\n",
       "</table>\n",
       "</div>"
      ],
      "text/plain": [
       "  CAMEO_DEU_2015 CAMEO_DEUG_2015 CAMEO_INTL_2015 D19_LETZTER_KAUF_BRANCHE  \\\n",
       "1             8A               8              51                      NaN   \n",
       "2             4C               4              24            D19_UNBEKANNT   \n",
       "3             2A               2              12            D19_UNBEKANNT   \n",
       "4             6B               6              43               D19_SCHUHE   \n",
       "5             8C               8              54              D19_ENERGIE   \n",
       "\n",
       "         EINGEFUEGT_AM OST_WEST_KZ  \n",
       "1  1992-02-10 00:00:00           W  \n",
       "2  1992-02-12 00:00:00           W  \n",
       "3  1997-04-21 00:00:00           W  \n",
       "4  1992-02-12 00:00:00           W  \n",
       "5  1992-02-12 00:00:00           W  "
      ]
     },
     "execution_count": 29,
     "metadata": {},
     "output_type": "execute_result"
    }
   ],
   "source": [
    "azdias.select_dtypes(include=['object']).head()"
   ]
  },
  {
   "cell_type": "code",
   "execution_count": 8,
   "metadata": {},
   "outputs": [
    {
     "data": {
      "text/plain": [
       "8.0    58445\n",
       "8      57692\n",
       "6.0    45467\n",
       "6      45096\n",
       "9.0    44973\n",
       "9      44423\n",
       "4.0    43280\n",
       "4      42778\n",
       "2.0    34723\n",
       "3.0    34556\n",
       "2      34355\n",
       "3      34111\n",
       "7.0    32965\n",
       "7      32343\n",
       "5.0    22485\n",
       "5      22363\n",
       "1.0    15513\n",
       "1      15313\n",
       "8.0    12709\n",
       "6.0    10116\n",
       "9.0    10041\n",
       "4.0     9518\n",
       "3.0     7647\n",
       "2.0     7525\n",
       "7.0     7164\n",
       "5.0     4860\n",
       "1.0     3402\n",
       "X        284\n",
       "Name: CAMEO_DEUG_2015, dtype: int64"
      ]
     },
     "execution_count": 8,
     "metadata": {},
     "output_type": "execute_result"
    }
   ],
   "source": [
    "azdias.CAMEO_DEUG_2015.value_counts()"
   ]
  },
  {
   "cell_type": "code",
   "execution_count": 9,
   "metadata": {},
   "outputs": [
    {
     "data": {
      "text/plain": [
       "51.0    57163\n",
       "51      56553\n",
       "41.0    39233\n",
       "41      38939\n",
       "24.0    38242\n",
       "24      37962\n",
       "14.0    26537\n",
       "14      26255\n",
       "43.0    24325\n",
       "43      24196\n",
       "54.0    19541\n",
       "54      18992\n",
       "25.0    16902\n",
       "25      16481\n",
       "22.0    13672\n",
       "22      13511\n",
       "51.0    12595\n",
       "45.0    11378\n",
       "45      11224\n",
       "13.0    10930\n",
       "13      10855\n",
       "55.0     9428\n",
       "55       9074\n",
       "23.0     9020\n",
       "52.0     9018\n",
       "52       8966\n",
       "23       8935\n",
       "41.0     8631\n",
       "24.0     8395\n",
       "34.0     7913\n",
       "        ...  \n",
       "31       7180\n",
       "44.0     6250\n",
       "44       6182\n",
       "14.0     5677\n",
       "43.0     5478\n",
       "12.0     5381\n",
       "12       5317\n",
       "35       4421\n",
       "32       4390\n",
       "32.0     4304\n",
       "35.0     4303\n",
       "54.0     4168\n",
       "33.0     4117\n",
       "33       4082\n",
       "25.0     3794\n",
       "22.0     3069\n",
       "13.0     2419\n",
       "45.0     2417\n",
       "52.0     2068\n",
       "55.0     2012\n",
       "23.0     1907\n",
       "34.0     1678\n",
       "15.0     1608\n",
       "31.0     1592\n",
       "44.0     1434\n",
       "12.0     1223\n",
       "32.0      996\n",
       "35.0      970\n",
       "33.0      851\n",
       "XX        284\n",
       "Name: CAMEO_INTL_2015, Length: 64, dtype: int64"
      ]
     },
     "execution_count": 9,
     "metadata": {},
     "output_type": "execute_result"
    }
   ],
   "source": [
    "azdias.CAMEO_INTL_2015.value_counts()"
   ]
  },
  {
   "cell_type": "markdown",
   "metadata": {},
   "source": [
    "X and XX means unknown, so first we convert that to NaN and then to numeric"
   ]
  },
  {
   "cell_type": "code",
   "execution_count": 4,
   "metadata": {},
   "outputs": [],
   "source": [
    "azdias['CAMEO_DEUG_2015'].replace('X',np.NaN, inplace=True)\n",
    "azdias['CAMEO_INTL_2015'].replace('XX',np.NaN, inplace=True)\n",
    "azdias['CAMEO_DEUG_2015'] = azdias['CAMEO_DEUG_2015'].astype(float)\n",
    "azdias['CAMEO_INTL_2015'] = azdias['CAMEO_INTL_2015'].astype(float)\n",
    "\n",
    "customers['CAMEO_DEUG_2015'].replace('X',np.NaN, inplace=True)\n",
    "customers['CAMEO_INTL_2015'].replace('XX',np.NaN, inplace=True)\n",
    "customers['CAMEO_DEUG_2015'] = customers['CAMEO_DEUG_2015'].astype(float)\n",
    "customers['CAMEO_INTL_2015'] = customers['CAMEO_INTL_2015'].astype(float)"
   ]
  },
  {
   "cell_type": "markdown",
   "metadata": {},
   "source": [
    "Other columns:"
   ]
  },
  {
   "cell_type": "code",
   "execution_count": 14,
   "metadata": {},
   "outputs": [
    {
     "data": {
      "text/plain": [
       "W    582212\n",
       "O    154990\n",
       "Name: OST_WEST_KZ, dtype: int64"
      ]
     },
     "execution_count": 14,
     "metadata": {},
     "output_type": "execute_result"
    }
   ],
   "source": [
    "azdias.OST_WEST_KZ.value_counts()"
   ]
  },
  {
   "cell_type": "markdown",
   "metadata": {},
   "source": [
    "Since we have only two values we can map them to 0 or 1."
   ]
  },
  {
   "cell_type": "code",
   "execution_count": 5,
   "metadata": {},
   "outputs": [],
   "source": [
    "azdias['OST_WEST_KZ'] = azdias.OST_WEST_KZ.map({'W':0,'O':1})\n",
    "customers['OST_WEST_KZ'] = customers.OST_WEST_KZ.map({'W':0,'O':1})"
   ]
  },
  {
   "cell_type": "code",
   "execution_count": 17,
   "metadata": {},
   "outputs": [
    {
     "data": {
      "text/html": [
       "<div>\n",
       "<style scoped>\n",
       "    .dataframe tbody tr th:only-of-type {\n",
       "        vertical-align: middle;\n",
       "    }\n",
       "\n",
       "    .dataframe tbody tr th {\n",
       "        vertical-align: top;\n",
       "    }\n",
       "\n",
       "    .dataframe thead th {\n",
       "        text-align: right;\n",
       "    }\n",
       "</style>\n",
       "<table border=\"1\" class=\"dataframe\">\n",
       "  <thead>\n",
       "    <tr style=\"text-align: right;\">\n",
       "      <th></th>\n",
       "      <th>CAMEO_DEU_2015</th>\n",
       "      <th>D19_LETZTER_KAUF_BRANCHE</th>\n",
       "      <th>EINGEFUEGT_AM</th>\n",
       "    </tr>\n",
       "  </thead>\n",
       "  <tbody>\n",
       "    <tr>\n",
       "      <th>0</th>\n",
       "      <td>8A</td>\n",
       "      <td>NaN</td>\n",
       "      <td>1992-02-10 00:00:00</td>\n",
       "    </tr>\n",
       "    <tr>\n",
       "      <th>1</th>\n",
       "      <td>4C</td>\n",
       "      <td>D19_UNBEKANNT</td>\n",
       "      <td>1992-02-12 00:00:00</td>\n",
       "    </tr>\n",
       "    <tr>\n",
       "      <th>2</th>\n",
       "      <td>2A</td>\n",
       "      <td>D19_UNBEKANNT</td>\n",
       "      <td>1997-04-21 00:00:00</td>\n",
       "    </tr>\n",
       "    <tr>\n",
       "      <th>3</th>\n",
       "      <td>6B</td>\n",
       "      <td>D19_SCHUHE</td>\n",
       "      <td>1992-02-12 00:00:00</td>\n",
       "    </tr>\n",
       "    <tr>\n",
       "      <th>4</th>\n",
       "      <td>8C</td>\n",
       "      <td>D19_ENERGIE</td>\n",
       "      <td>1992-02-12 00:00:00</td>\n",
       "    </tr>\n",
       "  </tbody>\n",
       "</table>\n",
       "</div>"
      ],
      "text/plain": [
       "  CAMEO_DEU_2015 D19_LETZTER_KAUF_BRANCHE        EINGEFUEGT_AM\n",
       "0             8A                      NaN  1992-02-10 00:00:00\n",
       "1             4C            D19_UNBEKANNT  1992-02-12 00:00:00\n",
       "2             2A            D19_UNBEKANNT  1997-04-21 00:00:00\n",
       "3             6B               D19_SCHUHE  1992-02-12 00:00:00\n",
       "4             8C              D19_ENERGIE  1992-02-12 00:00:00"
      ]
     },
     "execution_count": 17,
     "metadata": {},
     "output_type": "execute_result"
    }
   ],
   "source": [
    "azdias.select_dtypes(include=['object']).head()"
   ]
  },
  {
   "cell_type": "markdown",
   "metadata": {},
   "source": [
    "The columns D19_LETZTER_KAUF_BRANCHE and EINGEFUEGT_AM  are not in the metadata files. Let's take a look:"
   ]
  },
  {
   "cell_type": "code",
   "execution_count": 20,
   "metadata": {},
   "outputs": [
    {
     "data": {
      "text/plain": [
       "0    1992-02-10 00:00:00\n",
       "1    1992-02-12 00:00:00\n",
       "2    1997-04-21 00:00:00\n",
       "3    1992-02-12 00:00:00\n",
       "4    1992-02-12 00:00:00\n",
       "Name: EINGEFUEGT_AM, dtype: object"
      ]
     },
     "execution_count": 20,
     "metadata": {},
     "output_type": "execute_result"
    }
   ],
   "source": [
    "azdias.EINGEFUEGT_AM.head()"
   ]
  },
  {
   "cell_type": "code",
   "execution_count": 21,
   "metadata": {},
   "outputs": [
    {
     "data": {
      "text/plain": [
       "737197    1992-02-10 00:00:00\n",
       "737198    1992-02-10 00:00:00\n",
       "737199    1992-02-10 00:00:00\n",
       "737200    1992-02-12 00:00:00\n",
       "737201    1992-02-10 00:00:00\n",
       "Name: EINGEFUEGT_AM, dtype: object"
      ]
     },
     "execution_count": 21,
     "metadata": {},
     "output_type": "execute_result"
    }
   ],
   "source": [
    "azdias.EINGEFUEGT_AM.tail()"
   ]
  },
  {
   "cell_type": "code",
   "execution_count": 23,
   "metadata": {},
   "outputs": [
    {
     "data": {
      "text/plain": [
       "count                  737202\n",
       "unique                   2819\n",
       "top       1992-02-10 00:00:00\n",
       "freq                   372205\n",
       "first     1991-06-17 00:00:00\n",
       "last      2005-05-11 00:00:00\n",
       "Name: EINGEFUEGT_AM, dtype: object"
      ]
     },
     "execution_count": 23,
     "metadata": {},
     "output_type": "execute_result"
    }
   ],
   "source": [
    "#Covert to datetime to have more information:\n",
    "pd.to_datetime(azdias.EINGEFUEGT_AM).describe()"
   ]
  },
  {
   "cell_type": "markdown",
   "metadata": {},
   "source": [
    "I'm keeping only the year of this date. Justification: I can use it as a numerical column and the month and date probably don't mean anything in this context."
   ]
  },
  {
   "cell_type": "code",
   "execution_count": 6,
   "metadata": {},
   "outputs": [],
   "source": [
    "azdias['year'] = pd.DatetimeIndex(azdias['EINGEFUEGT_AM']).year\n",
    "customers['year'] = pd.DatetimeIndex(customers['EINGEFUEGT_AM']).year"
   ]
  },
  {
   "cell_type": "code",
   "execution_count": 7,
   "metadata": {},
   "outputs": [],
   "source": [
    "azdias.drop('EINGEFUEGT_AM', axis=1, inplace=True)\n",
    "customers.drop('EINGEFUEGT_AM', axis=1, inplace=True)"
   ]
  },
  {
   "cell_type": "markdown",
   "metadata": {},
   "source": [
    "Other object columns:"
   ]
  },
  {
   "cell_type": "code",
   "execution_count": 19,
   "metadata": {},
   "outputs": [
    {
     "data": {
      "text/plain": [
       "D19_UNBEKANNT             179081\n",
       "D19_VERSICHERUNGEN         52220\n",
       "D19_SONSTIGE               40546\n",
       "D19_VOLLSORTIMENT          31292\n",
       "D19_SCHUHE                 28486\n",
       "D19_BUCH_CD                25643\n",
       "D19_VERSAND_REST           23398\n",
       "D19_DROGERIEARTIKEL        21371\n",
       "D19_BANKEN_DIREKT          20992\n",
       "D19_BEKLEIDUNG_REST        19147\n",
       "D19_HAUS_DEKO              18823\n",
       "D19_TELKO_MOBILE           13194\n",
       "D19_ENERGIE                11146\n",
       "D19_TELKO_REST             10478\n",
       "D19_BANKEN_GROSS            9558\n",
       "D19_BEKLEIDUNG_GEH          9173\n",
       "D19_KINDERARTIKEL           6416\n",
       "D19_FREIZEIT                6404\n",
       "D19_TECHNIK                 6282\n",
       "D19_LEBENSMITTEL            5814\n",
       "D19_BANKEN_REST             4709\n",
       "D19_RATGEBER                4483\n",
       "D19_NAHRUNGSERGAENZUNG      3731\n",
       "D19_DIGIT_SERV              3273\n",
       "D19_REISEN                  2808\n",
       "D19_TIERARTIKEL             2294\n",
       "D19_SAMMELARTIKEL           2243\n",
       "D19_HANDWERK                2033\n",
       "D19_WEIN_FEINKOST           1965\n",
       "D19_GARTEN                  1486\n",
       "D19_BANKEN_LOKAL            1306\n",
       "D19_BIO_OEKO                1090\n",
       "D19_BILDUNG                  876\n",
       "D19_LOTTO                    743\n",
       "D19_KOSMETIK                 711\n",
       "Name: D19_LETZTER_KAUF_BRANCHE, dtype: int64"
      ]
     },
     "execution_count": 19,
     "metadata": {},
     "output_type": "execute_result"
    }
   ],
   "source": [
    "azdias.D19_LETZTER_KAUF_BRANCHE.value_counts()"
   ]
  },
  {
   "cell_type": "code",
   "execution_count": 31,
   "metadata": {},
   "outputs": [
    {
     "data": {
      "text/plain": [
       "6B    53999\n",
       "8A    50767\n",
       "4C    43986\n",
       "2D    32902\n",
       "7A    32625\n",
       "3C    32562\n",
       "3D    32173\n",
       "8B    31261\n",
       "4A    30252\n",
       "8C    30145\n",
       "9D    26742\n",
       "9B    25884\n",
       "9C    22918\n",
       "7B    22917\n",
       "9A    20052\n",
       "2C    17740\n",
       "8D    16673\n",
       "6E    15597\n",
       "5D    14068\n",
       "2B    14040\n",
       "6C    13866\n",
       "2A    11921\n",
       "1D    11455\n",
       "1A    10164\n",
       "5A     9720\n",
       "5B     9690\n",
       "5C     9050\n",
       "4B     8283\n",
       "7C     8126\n",
       "4D     8051\n",
       "6A     6414\n",
       "3A     5870\n",
       "6D     5755\n",
       "3B     5709\n",
       "6F     5048\n",
       "4E     5004\n",
       "1E     4782\n",
       "7D     4430\n",
       "7E     4374\n",
       "1C     4012\n",
       "5F     3939\n",
       "9E     3841\n",
       "1B     3815\n",
       "5E     3241\n",
       "XX      284\n",
       "Name: CAMEO_DEU_2015, dtype: int64"
      ]
     },
     "execution_count": 31,
     "metadata": {},
     "output_type": "execute_result"
    }
   ],
   "source": [
    "azdias.CAMEO_DEU_2015.value_counts()"
   ]
  },
  {
   "cell_type": "code",
   "execution_count": 8,
   "metadata": {},
   "outputs": [],
   "source": [
    "#XX means unknown:\n",
    "azdias['CAMEO_DEU_2015'].replace('XX',np.NaN, inplace=True)\n",
    "customers['CAMEO_DEU_2015'].replace('XX',np.NaN, inplace=True)"
   ]
  },
  {
   "cell_type": "code",
   "execution_count": 33,
   "metadata": {},
   "outputs": [
    {
     "data": {
      "text/plain": [
       "3339"
      ]
     },
     "execution_count": 33,
     "metadata": {},
     "output_type": "execute_result"
    }
   ],
   "source": [
    "azdias.CAMEO_DEU_2015.isnull().sum()"
   ]
  },
  {
   "cell_type": "markdown",
   "metadata": {},
   "source": [
    "D19_LETZTER_KAUF_BRANCHE and CAMEO_DEU_2015 columns have categorical data that is not ordinal. Solution: One-hot encoding"
   ]
  },
  {
   "cell_type": "code",
   "execution_count": 9,
   "metadata": {},
   "outputs": [],
   "source": [
    "azdias = pd.get_dummies(azdias, columns=['D19_LETZTER_KAUF_BRANCHE', 'CAMEO_DEU_2015'])\n",
    "customers = pd.get_dummies(customers, columns=['D19_LETZTER_KAUF_BRANCHE', 'CAMEO_DEU_2015'])"
   ]
  },
  {
   "cell_type": "code",
   "execution_count": 10,
   "metadata": {},
   "outputs": [
    {
     "data": {
      "text/html": [
       "<div>\n",
       "<style scoped>\n",
       "    .dataframe tbody tr th:only-of-type {\n",
       "        vertical-align: middle;\n",
       "    }\n",
       "\n",
       "    .dataframe tbody tr th {\n",
       "        vertical-align: top;\n",
       "    }\n",
       "\n",
       "    .dataframe thead th {\n",
       "        text-align: right;\n",
       "    }\n",
       "</style>\n",
       "<table border=\"1\" class=\"dataframe\">\n",
       "  <thead>\n",
       "    <tr style=\"text-align: right;\">\n",
       "      <th></th>\n",
       "    </tr>\n",
       "  </thead>\n",
       "  <tbody>\n",
       "    <tr>\n",
       "      <th>0</th>\n",
       "    </tr>\n",
       "    <tr>\n",
       "      <th>1</th>\n",
       "    </tr>\n",
       "  </tbody>\n",
       "</table>\n",
       "</div>"
      ],
      "text/plain": [
       "Empty DataFrame\n",
       "Columns: []\n",
       "Index: [0, 1]"
      ]
     },
     "execution_count": 10,
     "metadata": {},
     "output_type": "execute_result"
    }
   ],
   "source": [
    "azdias.select_dtypes(include=['object']).head(2)"
   ]
  },
  {
   "cell_type": "markdown",
   "metadata": {},
   "source": [
    "Now we have all numeric columns"
   ]
  },
  {
   "cell_type": "markdown",
   "metadata": {},
   "source": [
    "**Fill missing values**"
   ]
  },
  {
   "cell_type": "markdown",
   "metadata": {},
   "source": [
    "We need to fill the few missing values left in the data. Since data is categorical we fill the missing values wit the mode."
   ]
  },
  {
   "cell_type": "code",
   "execution_count": 20,
   "metadata": {},
   "outputs": [],
   "source": [
    "imputer = Imputer(strategy='most_frequent')"
   ]
  },
  {
   "cell_type": "code",
   "execution_count": 12,
   "metadata": {},
   "outputs": [],
   "source": [
    "azdias_col = list(azdias.columns.values)\n",
    "azdias_imp = imputer.fit_transform(azdias)\n",
    "azdias = pd.DataFrame(azdias_imp, columns= azdias_col)"
   ]
  },
  {
   "cell_type": "code",
   "execution_count": 21,
   "metadata": {},
   "outputs": [],
   "source": [
    "customers_col = list(customers.columns.values)\n",
    "customers_imp = imputer.fit_transform(customers)\n",
    "customers = pd.DataFrame(customers_imp, columns = customers_col)"
   ]
  },
  {
   "cell_type": "code",
   "execution_count": 14,
   "metadata": {},
   "outputs": [
    {
     "name": "stdout",
     "output_type": "stream",
     "text": [
      "0\n",
      "0\n"
     ]
    }
   ],
   "source": [
    "#check\n",
    "print(azdias.isnull().any().sum())\n",
    "print(customers.isnull().any().sum())"
   ]
  },
  {
   "cell_type": "code",
   "execution_count": 15,
   "metadata": {},
   "outputs": [
    {
     "data": {
      "text/html": [
       "<div>\n",
       "<style scoped>\n",
       "    .dataframe tbody tr th:only-of-type {\n",
       "        vertical-align: middle;\n",
       "    }\n",
       "\n",
       "    .dataframe tbody tr th {\n",
       "        vertical-align: top;\n",
       "    }\n",
       "\n",
       "    .dataframe thead th {\n",
       "        text-align: right;\n",
       "    }\n",
       "</style>\n",
       "<table border=\"1\" class=\"dataframe\">\n",
       "  <thead>\n",
       "    <tr style=\"text-align: right;\">\n",
       "      <th></th>\n",
       "      <th>LNR</th>\n",
       "      <th>AKT_DAT_KL</th>\n",
       "      <th>ALTER_HH</th>\n",
       "      <th>ALTERSKATEGORIE_FEIN</th>\n",
       "      <th>ANZ_HAUSHALTE_AKTIV</th>\n",
       "      <th>ANZ_HH_TITEL</th>\n",
       "      <th>ANZ_KINDER</th>\n",
       "      <th>ANZ_PERSONEN</th>\n",
       "      <th>ANZ_STATISTISCHE_HAUSHALTE</th>\n",
       "      <th>ANZ_TITEL</th>\n",
       "      <th>...</th>\n",
       "      <th>CAMEO_DEU_2015_7E</th>\n",
       "      <th>CAMEO_DEU_2015_8A</th>\n",
       "      <th>CAMEO_DEU_2015_8B</th>\n",
       "      <th>CAMEO_DEU_2015_8C</th>\n",
       "      <th>CAMEO_DEU_2015_8D</th>\n",
       "      <th>CAMEO_DEU_2015_9A</th>\n",
       "      <th>CAMEO_DEU_2015_9B</th>\n",
       "      <th>CAMEO_DEU_2015_9C</th>\n",
       "      <th>CAMEO_DEU_2015_9D</th>\n",
       "      <th>CAMEO_DEU_2015_9E</th>\n",
       "    </tr>\n",
       "  </thead>\n",
       "  <tbody>\n",
       "    <tr>\n",
       "      <th>0</th>\n",
       "      <td>910220.0</td>\n",
       "      <td>9.0</td>\n",
       "      <td>18.0</td>\n",
       "      <td>21.0</td>\n",
       "      <td>11.0</td>\n",
       "      <td>0.0</td>\n",
       "      <td>0.0</td>\n",
       "      <td>2.0</td>\n",
       "      <td>12.0</td>\n",
       "      <td>0.0</td>\n",
       "      <td>...</td>\n",
       "      <td>0.0</td>\n",
       "      <td>1.0</td>\n",
       "      <td>0.0</td>\n",
       "      <td>0.0</td>\n",
       "      <td>0.0</td>\n",
       "      <td>0.0</td>\n",
       "      <td>0.0</td>\n",
       "      <td>0.0</td>\n",
       "      <td>0.0</td>\n",
       "      <td>0.0</td>\n",
       "    </tr>\n",
       "    <tr>\n",
       "      <th>1</th>\n",
       "      <td>910225.0</td>\n",
       "      <td>9.0</td>\n",
       "      <td>17.0</td>\n",
       "      <td>17.0</td>\n",
       "      <td>10.0</td>\n",
       "      <td>0.0</td>\n",
       "      <td>0.0</td>\n",
       "      <td>1.0</td>\n",
       "      <td>7.0</td>\n",
       "      <td>0.0</td>\n",
       "      <td>...</td>\n",
       "      <td>0.0</td>\n",
       "      <td>0.0</td>\n",
       "      <td>0.0</td>\n",
       "      <td>0.0</td>\n",
       "      <td>0.0</td>\n",
       "      <td>0.0</td>\n",
       "      <td>0.0</td>\n",
       "      <td>0.0</td>\n",
       "      <td>0.0</td>\n",
       "      <td>0.0</td>\n",
       "    </tr>\n",
       "    <tr>\n",
       "      <th>2</th>\n",
       "      <td>910226.0</td>\n",
       "      <td>1.0</td>\n",
       "      <td>13.0</td>\n",
       "      <td>13.0</td>\n",
       "      <td>1.0</td>\n",
       "      <td>0.0</td>\n",
       "      <td>0.0</td>\n",
       "      <td>0.0</td>\n",
       "      <td>2.0</td>\n",
       "      <td>0.0</td>\n",
       "      <td>...</td>\n",
       "      <td>0.0</td>\n",
       "      <td>0.0</td>\n",
       "      <td>0.0</td>\n",
       "      <td>0.0</td>\n",
       "      <td>0.0</td>\n",
       "      <td>0.0</td>\n",
       "      <td>0.0</td>\n",
       "      <td>0.0</td>\n",
       "      <td>0.0</td>\n",
       "      <td>0.0</td>\n",
       "    </tr>\n",
       "    <tr>\n",
       "      <th>3</th>\n",
       "      <td>910241.0</td>\n",
       "      <td>1.0</td>\n",
       "      <td>20.0</td>\n",
       "      <td>14.0</td>\n",
       "      <td>3.0</td>\n",
       "      <td>0.0</td>\n",
       "      <td>0.0</td>\n",
       "      <td>4.0</td>\n",
       "      <td>3.0</td>\n",
       "      <td>0.0</td>\n",
       "      <td>...</td>\n",
       "      <td>0.0</td>\n",
       "      <td>0.0</td>\n",
       "      <td>0.0</td>\n",
       "      <td>0.0</td>\n",
       "      <td>0.0</td>\n",
       "      <td>0.0</td>\n",
       "      <td>0.0</td>\n",
       "      <td>0.0</td>\n",
       "      <td>0.0</td>\n",
       "      <td>0.0</td>\n",
       "    </tr>\n",
       "    <tr>\n",
       "      <th>4</th>\n",
       "      <td>910244.0</td>\n",
       "      <td>1.0</td>\n",
       "      <td>10.0</td>\n",
       "      <td>10.0</td>\n",
       "      <td>5.0</td>\n",
       "      <td>0.0</td>\n",
       "      <td>0.0</td>\n",
       "      <td>1.0</td>\n",
       "      <td>2.0</td>\n",
       "      <td>0.0</td>\n",
       "      <td>...</td>\n",
       "      <td>0.0</td>\n",
       "      <td>0.0</td>\n",
       "      <td>0.0</td>\n",
       "      <td>1.0</td>\n",
       "      <td>0.0</td>\n",
       "      <td>0.0</td>\n",
       "      <td>0.0</td>\n",
       "      <td>0.0</td>\n",
       "      <td>0.0</td>\n",
       "      <td>0.0</td>\n",
       "    </tr>\n",
       "  </tbody>\n",
       "</table>\n",
       "<p>5 rows × 434 columns</p>\n",
       "</div>"
      ],
      "text/plain": [
       "        LNR  AKT_DAT_KL  ALTER_HH  ALTERSKATEGORIE_FEIN  ANZ_HAUSHALTE_AKTIV  \\\n",
       "0  910220.0         9.0      18.0                  21.0                 11.0   \n",
       "1  910225.0         9.0      17.0                  17.0                 10.0   \n",
       "2  910226.0         1.0      13.0                  13.0                  1.0   \n",
       "3  910241.0         1.0      20.0                  14.0                  3.0   \n",
       "4  910244.0         1.0      10.0                  10.0                  5.0   \n",
       "\n",
       "   ANZ_HH_TITEL  ANZ_KINDER  ANZ_PERSONEN  ANZ_STATISTISCHE_HAUSHALTE  \\\n",
       "0           0.0         0.0           2.0                        12.0   \n",
       "1           0.0         0.0           1.0                         7.0   \n",
       "2           0.0         0.0           0.0                         2.0   \n",
       "3           0.0         0.0           4.0                         3.0   \n",
       "4           0.0         0.0           1.0                         2.0   \n",
       "\n",
       "   ANZ_TITEL        ...          CAMEO_DEU_2015_7E  CAMEO_DEU_2015_8A  \\\n",
       "0        0.0        ...                        0.0                1.0   \n",
       "1        0.0        ...                        0.0                0.0   \n",
       "2        0.0        ...                        0.0                0.0   \n",
       "3        0.0        ...                        0.0                0.0   \n",
       "4        0.0        ...                        0.0                0.0   \n",
       "\n",
       "   CAMEO_DEU_2015_8B  CAMEO_DEU_2015_8C  CAMEO_DEU_2015_8D  CAMEO_DEU_2015_9A  \\\n",
       "0                0.0                0.0                0.0                0.0   \n",
       "1                0.0                0.0                0.0                0.0   \n",
       "2                0.0                0.0                0.0                0.0   \n",
       "3                0.0                0.0                0.0                0.0   \n",
       "4                0.0                1.0                0.0                0.0   \n",
       "\n",
       "   CAMEO_DEU_2015_9B  CAMEO_DEU_2015_9C  CAMEO_DEU_2015_9D  CAMEO_DEU_2015_9E  \n",
       "0                0.0                0.0                0.0                0.0  \n",
       "1                0.0                0.0                0.0                0.0  \n",
       "2                0.0                0.0                0.0                0.0  \n",
       "3                0.0                0.0                0.0                0.0  \n",
       "4                0.0                0.0                0.0                0.0  \n",
       "\n",
       "[5 rows x 434 columns]"
      ]
     },
     "execution_count": 15,
     "metadata": {},
     "output_type": "execute_result"
    }
   ],
   "source": [
    "azdias.head()"
   ]
  },
  {
   "cell_type": "code",
   "execution_count": 22,
   "metadata": {},
   "outputs": [
    {
     "data": {
      "text/html": [
       "<div>\n",
       "<style scoped>\n",
       "    .dataframe tbody tr th:only-of-type {\n",
       "        vertical-align: middle;\n",
       "    }\n",
       "\n",
       "    .dataframe tbody tr th {\n",
       "        vertical-align: top;\n",
       "    }\n",
       "\n",
       "    .dataframe thead th {\n",
       "        text-align: right;\n",
       "    }\n",
       "</style>\n",
       "<table border=\"1\" class=\"dataframe\">\n",
       "  <thead>\n",
       "    <tr style=\"text-align: right;\">\n",
       "      <th></th>\n",
       "      <th>LNR</th>\n",
       "      <th>AKT_DAT_KL</th>\n",
       "      <th>ALTER_HH</th>\n",
       "      <th>ALTERSKATEGORIE_FEIN</th>\n",
       "      <th>ANZ_HAUSHALTE_AKTIV</th>\n",
       "      <th>ANZ_HH_TITEL</th>\n",
       "      <th>ANZ_KINDER</th>\n",
       "      <th>ANZ_PERSONEN</th>\n",
       "      <th>ANZ_STATISTISCHE_HAUSHALTE</th>\n",
       "      <th>ANZ_TITEL</th>\n",
       "      <th>...</th>\n",
       "      <th>CAMEO_DEU_2015_7E</th>\n",
       "      <th>CAMEO_DEU_2015_8A</th>\n",
       "      <th>CAMEO_DEU_2015_8B</th>\n",
       "      <th>CAMEO_DEU_2015_8C</th>\n",
       "      <th>CAMEO_DEU_2015_8D</th>\n",
       "      <th>CAMEO_DEU_2015_9A</th>\n",
       "      <th>CAMEO_DEU_2015_9B</th>\n",
       "      <th>CAMEO_DEU_2015_9C</th>\n",
       "      <th>CAMEO_DEU_2015_9D</th>\n",
       "      <th>CAMEO_DEU_2015_9E</th>\n",
       "    </tr>\n",
       "  </thead>\n",
       "  <tbody>\n",
       "    <tr>\n",
       "      <th>0</th>\n",
       "      <td>9626.0</td>\n",
       "      <td>1.0</td>\n",
       "      <td>10.0</td>\n",
       "      <td>10.0</td>\n",
       "      <td>1.0</td>\n",
       "      <td>0.0</td>\n",
       "      <td>0.0</td>\n",
       "      <td>2.0</td>\n",
       "      <td>1.0</td>\n",
       "      <td>0.0</td>\n",
       "      <td>...</td>\n",
       "      <td>0.0</td>\n",
       "      <td>0.0</td>\n",
       "      <td>0.0</td>\n",
       "      <td>0.0</td>\n",
       "      <td>0.0</td>\n",
       "      <td>0.0</td>\n",
       "      <td>0.0</td>\n",
       "      <td>0.0</td>\n",
       "      <td>0.0</td>\n",
       "      <td>0.0</td>\n",
       "    </tr>\n",
       "    <tr>\n",
       "      <th>1</th>\n",
       "      <td>143872.0</td>\n",
       "      <td>1.0</td>\n",
       "      <td>6.0</td>\n",
       "      <td>0.0</td>\n",
       "      <td>1.0</td>\n",
       "      <td>0.0</td>\n",
       "      <td>0.0</td>\n",
       "      <td>1.0</td>\n",
       "      <td>1.0</td>\n",
       "      <td>0.0</td>\n",
       "      <td>...</td>\n",
       "      <td>0.0</td>\n",
       "      <td>0.0</td>\n",
       "      <td>0.0</td>\n",
       "      <td>0.0</td>\n",
       "      <td>0.0</td>\n",
       "      <td>0.0</td>\n",
       "      <td>0.0</td>\n",
       "      <td>0.0</td>\n",
       "      <td>0.0</td>\n",
       "      <td>0.0</td>\n",
       "    </tr>\n",
       "    <tr>\n",
       "      <th>2</th>\n",
       "      <td>143873.0</td>\n",
       "      <td>1.0</td>\n",
       "      <td>8.0</td>\n",
       "      <td>8.0</td>\n",
       "      <td>0.0</td>\n",
       "      <td>0.0</td>\n",
       "      <td>0.0</td>\n",
       "      <td>0.0</td>\n",
       "      <td>1.0</td>\n",
       "      <td>0.0</td>\n",
       "      <td>...</td>\n",
       "      <td>0.0</td>\n",
       "      <td>0.0</td>\n",
       "      <td>0.0</td>\n",
       "      <td>0.0</td>\n",
       "      <td>0.0</td>\n",
       "      <td>0.0</td>\n",
       "      <td>0.0</td>\n",
       "      <td>0.0</td>\n",
       "      <td>0.0</td>\n",
       "      <td>0.0</td>\n",
       "    </tr>\n",
       "    <tr>\n",
       "      <th>3</th>\n",
       "      <td>143874.0</td>\n",
       "      <td>1.0</td>\n",
       "      <td>20.0</td>\n",
       "      <td>14.0</td>\n",
       "      <td>7.0</td>\n",
       "      <td>0.0</td>\n",
       "      <td>0.0</td>\n",
       "      <td>4.0</td>\n",
       "      <td>7.0</td>\n",
       "      <td>0.0</td>\n",
       "      <td>...</td>\n",
       "      <td>0.0</td>\n",
       "      <td>0.0</td>\n",
       "      <td>0.0</td>\n",
       "      <td>0.0</td>\n",
       "      <td>0.0</td>\n",
       "      <td>0.0</td>\n",
       "      <td>0.0</td>\n",
       "      <td>0.0</td>\n",
       "      <td>0.0</td>\n",
       "      <td>0.0</td>\n",
       "    </tr>\n",
       "    <tr>\n",
       "      <th>4</th>\n",
       "      <td>143888.0</td>\n",
       "      <td>1.0</td>\n",
       "      <td>11.0</td>\n",
       "      <td>10.0</td>\n",
       "      <td>1.0</td>\n",
       "      <td>0.0</td>\n",
       "      <td>0.0</td>\n",
       "      <td>2.0</td>\n",
       "      <td>1.0</td>\n",
       "      <td>0.0</td>\n",
       "      <td>...</td>\n",
       "      <td>0.0</td>\n",
       "      <td>0.0</td>\n",
       "      <td>0.0</td>\n",
       "      <td>0.0</td>\n",
       "      <td>0.0</td>\n",
       "      <td>0.0</td>\n",
       "      <td>0.0</td>\n",
       "      <td>0.0</td>\n",
       "      <td>0.0</td>\n",
       "      <td>0.0</td>\n",
       "    </tr>\n",
       "  </tbody>\n",
       "</table>\n",
       "<p>5 rows × 434 columns</p>\n",
       "</div>"
      ],
      "text/plain": [
       "        LNR  AKT_DAT_KL  ALTER_HH  ALTERSKATEGORIE_FEIN  ANZ_HAUSHALTE_AKTIV  \\\n",
       "0    9626.0         1.0      10.0                  10.0                  1.0   \n",
       "1  143872.0         1.0       6.0                   0.0                  1.0   \n",
       "2  143873.0         1.0       8.0                   8.0                  0.0   \n",
       "3  143874.0         1.0      20.0                  14.0                  7.0   \n",
       "4  143888.0         1.0      11.0                  10.0                  1.0   \n",
       "\n",
       "   ANZ_HH_TITEL  ANZ_KINDER  ANZ_PERSONEN  ANZ_STATISTISCHE_HAUSHALTE  \\\n",
       "0           0.0         0.0           2.0                         1.0   \n",
       "1           0.0         0.0           1.0                         1.0   \n",
       "2           0.0         0.0           0.0                         1.0   \n",
       "3           0.0         0.0           4.0                         7.0   \n",
       "4           0.0         0.0           2.0                         1.0   \n",
       "\n",
       "   ANZ_TITEL        ...          CAMEO_DEU_2015_7E  CAMEO_DEU_2015_8A  \\\n",
       "0        0.0        ...                        0.0                0.0   \n",
       "1        0.0        ...                        0.0                0.0   \n",
       "2        0.0        ...                        0.0                0.0   \n",
       "3        0.0        ...                        0.0                0.0   \n",
       "4        0.0        ...                        0.0                0.0   \n",
       "\n",
       "   CAMEO_DEU_2015_8B  CAMEO_DEU_2015_8C  CAMEO_DEU_2015_8D  CAMEO_DEU_2015_9A  \\\n",
       "0                0.0                0.0                0.0                0.0   \n",
       "1                0.0                0.0                0.0                0.0   \n",
       "2                0.0                0.0                0.0                0.0   \n",
       "3                0.0                0.0                0.0                0.0   \n",
       "4                0.0                0.0                0.0                0.0   \n",
       "\n",
       "   CAMEO_DEU_2015_9B  CAMEO_DEU_2015_9C  CAMEO_DEU_2015_9D  CAMEO_DEU_2015_9E  \n",
       "0                0.0                0.0                0.0                0.0  \n",
       "1                0.0                0.0                0.0                0.0  \n",
       "2                0.0                0.0                0.0                0.0  \n",
       "3                0.0                0.0                0.0                0.0  \n",
       "4                0.0                0.0                0.0                0.0  \n",
       "\n",
       "[5 rows x 434 columns]"
      ]
     },
     "execution_count": 22,
     "metadata": {},
     "output_type": "execute_result"
    }
   ],
   "source": [
    "customers.head()"
   ]
  },
  {
   "cell_type": "code",
   "execution_count": 17,
   "metadata": {},
   "outputs": [
    {
     "data": {
      "text/plain": [
       "((737202, 434), (134245, 434))"
      ]
     },
     "execution_count": 17,
     "metadata": {},
     "output_type": "execute_result"
    }
   ],
   "source": [
    "azdias.shape, customers.shape"
   ]
  },
  {
   "cell_type": "code",
   "execution_count": 23,
   "metadata": {},
   "outputs": [],
   "source": [
    "#Save the data frames\n",
    "azdias.to_csv('azdias_numeric_filled.csv',sep=';',index=False)\n",
    "customers.to_csv('customers_numeric_filled.csv',sep=';',index=False)"
   ]
  },
  {
   "cell_type": "markdown",
   "metadata": {},
   "source": [
    "**Drop correlated columns**"
   ]
  },
  {
   "cell_type": "code",
   "execution_count": 3,
   "metadata": {},
   "outputs": [],
   "source": [
    "# Load clean data frames\n",
    "azdias = pd.read_csv('azdias_numeric_filled.csv', sep=';')\n",
    "customers = pd.read_csv('customers_numeric_filled.csv', sep=';')"
   ]
  },
  {
   "cell_type": "code",
   "execution_count": 4,
   "metadata": {},
   "outputs": [
    {
     "data": {
      "text/html": [
       "<div>\n",
       "<style scoped>\n",
       "    .dataframe tbody tr th:only-of-type {\n",
       "        vertical-align: middle;\n",
       "    }\n",
       "\n",
       "    .dataframe tbody tr th {\n",
       "        vertical-align: top;\n",
       "    }\n",
       "\n",
       "    .dataframe thead th {\n",
       "        text-align: right;\n",
       "    }\n",
       "</style>\n",
       "<table border=\"1\" class=\"dataframe\">\n",
       "  <thead>\n",
       "    <tr style=\"text-align: right;\">\n",
       "      <th></th>\n",
       "      <th>LNR</th>\n",
       "      <th>AKT_DAT_KL</th>\n",
       "      <th>ALTER_HH</th>\n",
       "      <th>ALTERSKATEGORIE_FEIN</th>\n",
       "      <th>ANZ_HAUSHALTE_AKTIV</th>\n",
       "      <th>ANZ_HH_TITEL</th>\n",
       "      <th>ANZ_KINDER</th>\n",
       "      <th>ANZ_PERSONEN</th>\n",
       "      <th>ANZ_STATISTISCHE_HAUSHALTE</th>\n",
       "      <th>ANZ_TITEL</th>\n",
       "      <th>...</th>\n",
       "      <th>CAMEO_DEU_2015_7E</th>\n",
       "      <th>CAMEO_DEU_2015_8A</th>\n",
       "      <th>CAMEO_DEU_2015_8B</th>\n",
       "      <th>CAMEO_DEU_2015_8C</th>\n",
       "      <th>CAMEO_DEU_2015_8D</th>\n",
       "      <th>CAMEO_DEU_2015_9A</th>\n",
       "      <th>CAMEO_DEU_2015_9B</th>\n",
       "      <th>CAMEO_DEU_2015_9C</th>\n",
       "      <th>CAMEO_DEU_2015_9D</th>\n",
       "      <th>CAMEO_DEU_2015_9E</th>\n",
       "    </tr>\n",
       "  </thead>\n",
       "  <tbody>\n",
       "    <tr>\n",
       "      <th>0</th>\n",
       "      <td>910220.0</td>\n",
       "      <td>9.0</td>\n",
       "      <td>18.0</td>\n",
       "      <td>21.0</td>\n",
       "      <td>11.0</td>\n",
       "      <td>0.0</td>\n",
       "      <td>0.0</td>\n",
       "      <td>2.0</td>\n",
       "      <td>12.0</td>\n",
       "      <td>0.0</td>\n",
       "      <td>...</td>\n",
       "      <td>0.0</td>\n",
       "      <td>1.0</td>\n",
       "      <td>0.0</td>\n",
       "      <td>0.0</td>\n",
       "      <td>0.0</td>\n",
       "      <td>0.0</td>\n",
       "      <td>0.0</td>\n",
       "      <td>0.0</td>\n",
       "      <td>0.0</td>\n",
       "      <td>0.0</td>\n",
       "    </tr>\n",
       "    <tr>\n",
       "      <th>1</th>\n",
       "      <td>910225.0</td>\n",
       "      <td>9.0</td>\n",
       "      <td>17.0</td>\n",
       "      <td>17.0</td>\n",
       "      <td>10.0</td>\n",
       "      <td>0.0</td>\n",
       "      <td>0.0</td>\n",
       "      <td>1.0</td>\n",
       "      <td>7.0</td>\n",
       "      <td>0.0</td>\n",
       "      <td>...</td>\n",
       "      <td>0.0</td>\n",
       "      <td>0.0</td>\n",
       "      <td>0.0</td>\n",
       "      <td>0.0</td>\n",
       "      <td>0.0</td>\n",
       "      <td>0.0</td>\n",
       "      <td>0.0</td>\n",
       "      <td>0.0</td>\n",
       "      <td>0.0</td>\n",
       "      <td>0.0</td>\n",
       "    </tr>\n",
       "    <tr>\n",
       "      <th>2</th>\n",
       "      <td>910226.0</td>\n",
       "      <td>1.0</td>\n",
       "      <td>13.0</td>\n",
       "      <td>13.0</td>\n",
       "      <td>1.0</td>\n",
       "      <td>0.0</td>\n",
       "      <td>0.0</td>\n",
       "      <td>0.0</td>\n",
       "      <td>2.0</td>\n",
       "      <td>0.0</td>\n",
       "      <td>...</td>\n",
       "      <td>0.0</td>\n",
       "      <td>0.0</td>\n",
       "      <td>0.0</td>\n",
       "      <td>0.0</td>\n",
       "      <td>0.0</td>\n",
       "      <td>0.0</td>\n",
       "      <td>0.0</td>\n",
       "      <td>0.0</td>\n",
       "      <td>0.0</td>\n",
       "      <td>0.0</td>\n",
       "    </tr>\n",
       "    <tr>\n",
       "      <th>3</th>\n",
       "      <td>910241.0</td>\n",
       "      <td>1.0</td>\n",
       "      <td>20.0</td>\n",
       "      <td>14.0</td>\n",
       "      <td>3.0</td>\n",
       "      <td>0.0</td>\n",
       "      <td>0.0</td>\n",
       "      <td>4.0</td>\n",
       "      <td>3.0</td>\n",
       "      <td>0.0</td>\n",
       "      <td>...</td>\n",
       "      <td>0.0</td>\n",
       "      <td>0.0</td>\n",
       "      <td>0.0</td>\n",
       "      <td>0.0</td>\n",
       "      <td>0.0</td>\n",
       "      <td>0.0</td>\n",
       "      <td>0.0</td>\n",
       "      <td>0.0</td>\n",
       "      <td>0.0</td>\n",
       "      <td>0.0</td>\n",
       "    </tr>\n",
       "    <tr>\n",
       "      <th>4</th>\n",
       "      <td>910244.0</td>\n",
       "      <td>1.0</td>\n",
       "      <td>10.0</td>\n",
       "      <td>10.0</td>\n",
       "      <td>5.0</td>\n",
       "      <td>0.0</td>\n",
       "      <td>0.0</td>\n",
       "      <td>1.0</td>\n",
       "      <td>2.0</td>\n",
       "      <td>0.0</td>\n",
       "      <td>...</td>\n",
       "      <td>0.0</td>\n",
       "      <td>0.0</td>\n",
       "      <td>0.0</td>\n",
       "      <td>1.0</td>\n",
       "      <td>0.0</td>\n",
       "      <td>0.0</td>\n",
       "      <td>0.0</td>\n",
       "      <td>0.0</td>\n",
       "      <td>0.0</td>\n",
       "      <td>0.0</td>\n",
       "    </tr>\n",
       "  </tbody>\n",
       "</table>\n",
       "<p>5 rows × 434 columns</p>\n",
       "</div>"
      ],
      "text/plain": [
       "        LNR  AKT_DAT_KL  ALTER_HH  ALTERSKATEGORIE_FEIN  ANZ_HAUSHALTE_AKTIV  \\\n",
       "0  910220.0         9.0      18.0                  21.0                 11.0   \n",
       "1  910225.0         9.0      17.0                  17.0                 10.0   \n",
       "2  910226.0         1.0      13.0                  13.0                  1.0   \n",
       "3  910241.0         1.0      20.0                  14.0                  3.0   \n",
       "4  910244.0         1.0      10.0                  10.0                  5.0   \n",
       "\n",
       "   ANZ_HH_TITEL  ANZ_KINDER  ANZ_PERSONEN  ANZ_STATISTISCHE_HAUSHALTE  \\\n",
       "0           0.0         0.0           2.0                        12.0   \n",
       "1           0.0         0.0           1.0                         7.0   \n",
       "2           0.0         0.0           0.0                         2.0   \n",
       "3           0.0         0.0           4.0                         3.0   \n",
       "4           0.0         0.0           1.0                         2.0   \n",
       "\n",
       "   ANZ_TITEL  ...  CAMEO_DEU_2015_7E  CAMEO_DEU_2015_8A  CAMEO_DEU_2015_8B  \\\n",
       "0        0.0  ...                0.0                1.0                0.0   \n",
       "1        0.0  ...                0.0                0.0                0.0   \n",
       "2        0.0  ...                0.0                0.0                0.0   \n",
       "3        0.0  ...                0.0                0.0                0.0   \n",
       "4        0.0  ...                0.0                0.0                0.0   \n",
       "\n",
       "   CAMEO_DEU_2015_8C  CAMEO_DEU_2015_8D  CAMEO_DEU_2015_9A  CAMEO_DEU_2015_9B  \\\n",
       "0                0.0                0.0                0.0                0.0   \n",
       "1                0.0                0.0                0.0                0.0   \n",
       "2                0.0                0.0                0.0                0.0   \n",
       "3                0.0                0.0                0.0                0.0   \n",
       "4                1.0                0.0                0.0                0.0   \n",
       "\n",
       "   CAMEO_DEU_2015_9C  CAMEO_DEU_2015_9D  CAMEO_DEU_2015_9E  \n",
       "0                0.0                0.0                0.0  \n",
       "1                0.0                0.0                0.0  \n",
       "2                0.0                0.0                0.0  \n",
       "3                0.0                0.0                0.0  \n",
       "4                0.0                0.0                0.0  \n",
       "\n",
       "[5 rows x 434 columns]"
      ]
     },
     "execution_count": 4,
     "metadata": {},
     "output_type": "execute_result"
    }
   ],
   "source": [
    "azdias.head()"
   ]
  },
  {
   "cell_type": "markdown",
   "metadata": {},
   "source": [
    "I follow the steps on https://chrisalbon.com/machine_learning/feature_selection/drop_highly_correlated_features/ \n",
    "\n",
    "But before delete the columns I check that the high correlation holds on both data frames."
   ]
  },
  {
   "cell_type": "code",
   "execution_count": 5,
   "metadata": {},
   "outputs": [
    {
     "data": {
      "text/plain": [
       "['ANZ_STATISTISCHE_HAUSHALTE',\n",
       " 'CAMEO_INTL_2015',\n",
       " 'D19_VERSAND_ONLINE_DATUM',\n",
       " 'KBA13_HERST_SONST',\n",
       " 'KBA13_KMH_250',\n",
       " 'LP_FAMILIE_GROB',\n",
       " 'LP_LEBENSPHASE_GROB',\n",
       " 'LP_STATUS_GROB',\n",
       " 'PLZ8_GBZ',\n",
       " 'PLZ8_HHZ']"
      ]
     },
     "execution_count": 5,
     "metadata": {},
     "output_type": "execute_result"
    }
   ],
   "source": [
    "corr_matrix = azdias.corr().abs()\n",
    "upper = corr_matrix.where(np.triu(np.ones(corr_matrix.shape), k=1).astype(np.bool))\n",
    "to_drop = [column for column in upper.columns if any(upper[column] > 0.95)]\n",
    "to_drop"
   ]
  },
  {
   "cell_type": "code",
   "execution_count": 14,
   "metadata": {},
   "outputs": [
    {
     "data": {
      "text/plain": [
       "['ANZ_STATISTISCHE_HAUSHALTE',\n",
       " 'CAMEO_INTL_2015',\n",
       " 'KBA13_HERST_SONST',\n",
       " 'KBA13_KMH_250',\n",
       " 'LP_LEBENSPHASE_FEIN',\n",
       " 'LP_LEBENSPHASE_GROB',\n",
       " 'LP_STATUS_GROB',\n",
       " 'PLZ8_GBZ',\n",
       " 'PLZ8_HHZ']"
      ]
     },
     "execution_count": 14,
     "metadata": {},
     "output_type": "execute_result"
    }
   ],
   "source": [
    "corr_matrix = customers.corr().abs()\n",
    "upper = corr_matrix.where(np.triu(np.ones(corr_matrix.shape), k=1).astype(np.bool))\n",
    "to_drop2 = [column for column in upper.columns if any(upper[column] > 0.95)]\n",
    "to_drop2"
   ]
  },
  {
   "cell_type": "code",
   "execution_count": 15,
   "metadata": {},
   "outputs": [
    {
     "data": {
      "text/plain": [
       "['KBA13_HERST_SONST',\n",
       " 'PLZ8_GBZ',\n",
       " 'PLZ8_HHZ',\n",
       " 'CAMEO_INTL_2015',\n",
       " 'ANZ_STATISTISCHE_HAUSHALTE',\n",
       " 'LP_LEBENSPHASE_GROB',\n",
       " 'LP_STATUS_GROB',\n",
       " 'KBA13_KMH_250']"
      ]
     },
     "execution_count": 15,
     "metadata": {},
     "output_type": "execute_result"
    }
   ],
   "source": [
    "drop = list(set(to_drop).intersection(set(to_drop2)))\n",
    "drop"
   ]
  },
  {
   "cell_type": "code",
   "execution_count": 16,
   "metadata": {},
   "outputs": [],
   "source": [
    "azdias.drop(drop,axis=1,inplace=True)"
   ]
  },
  {
   "cell_type": "code",
   "execution_count": 17,
   "metadata": {},
   "outputs": [],
   "source": [
    "customers.drop(drop,axis=1,inplace=True)"
   ]
  },
  {
   "cell_type": "code",
   "execution_count": 18,
   "metadata": {},
   "outputs": [
    {
     "data": {
      "text/html": [
       "<div>\n",
       "<style scoped>\n",
       "    .dataframe tbody tr th:only-of-type {\n",
       "        vertical-align: middle;\n",
       "    }\n",
       "\n",
       "    .dataframe tbody tr th {\n",
       "        vertical-align: top;\n",
       "    }\n",
       "\n",
       "    .dataframe thead th {\n",
       "        text-align: right;\n",
       "    }\n",
       "</style>\n",
       "<table border=\"1\" class=\"dataframe\">\n",
       "  <thead>\n",
       "    <tr style=\"text-align: right;\">\n",
       "      <th></th>\n",
       "      <th>AKT_DAT_KL</th>\n",
       "      <th>ALTER_HH</th>\n",
       "      <th>ALTERSKATEGORIE_FEIN</th>\n",
       "      <th>ANZ_HAUSHALTE_AKTIV</th>\n",
       "      <th>ANZ_HH_TITEL</th>\n",
       "      <th>ANZ_KINDER</th>\n",
       "      <th>ANZ_PERSONEN</th>\n",
       "      <th>ANZ_TITEL</th>\n",
       "      <th>ARBEIT</th>\n",
       "      <th>BALLRAUM</th>\n",
       "      <th>...</th>\n",
       "      <th>CAMEO_DEU_2015_7E</th>\n",
       "      <th>CAMEO_DEU_2015_8A</th>\n",
       "      <th>CAMEO_DEU_2015_8B</th>\n",
       "      <th>CAMEO_DEU_2015_8C</th>\n",
       "      <th>CAMEO_DEU_2015_8D</th>\n",
       "      <th>CAMEO_DEU_2015_9A</th>\n",
       "      <th>CAMEO_DEU_2015_9B</th>\n",
       "      <th>CAMEO_DEU_2015_9C</th>\n",
       "      <th>CAMEO_DEU_2015_9D</th>\n",
       "      <th>CAMEO_DEU_2015_9E</th>\n",
       "    </tr>\n",
       "  </thead>\n",
       "  <tbody>\n",
       "    <tr>\n",
       "      <th>0</th>\n",
       "      <td>9.0</td>\n",
       "      <td>18.0</td>\n",
       "      <td>21.0</td>\n",
       "      <td>11.0</td>\n",
       "      <td>0.0</td>\n",
       "      <td>0.0</td>\n",
       "      <td>2.0</td>\n",
       "      <td>0.0</td>\n",
       "      <td>3.0</td>\n",
       "      <td>6.0</td>\n",
       "      <td>...</td>\n",
       "      <td>0.0</td>\n",
       "      <td>1.0</td>\n",
       "      <td>0.0</td>\n",
       "      <td>0.0</td>\n",
       "      <td>0.0</td>\n",
       "      <td>0.0</td>\n",
       "      <td>0.0</td>\n",
       "      <td>0.0</td>\n",
       "      <td>0.0</td>\n",
       "      <td>0.0</td>\n",
       "    </tr>\n",
       "    <tr>\n",
       "      <th>1</th>\n",
       "      <td>9.0</td>\n",
       "      <td>17.0</td>\n",
       "      <td>17.0</td>\n",
       "      <td>10.0</td>\n",
       "      <td>0.0</td>\n",
       "      <td>0.0</td>\n",
       "      <td>1.0</td>\n",
       "      <td>0.0</td>\n",
       "      <td>3.0</td>\n",
       "      <td>2.0</td>\n",
       "      <td>...</td>\n",
       "      <td>0.0</td>\n",
       "      <td>0.0</td>\n",
       "      <td>0.0</td>\n",
       "      <td>0.0</td>\n",
       "      <td>0.0</td>\n",
       "      <td>0.0</td>\n",
       "      <td>0.0</td>\n",
       "      <td>0.0</td>\n",
       "      <td>0.0</td>\n",
       "      <td>0.0</td>\n",
       "    </tr>\n",
       "    <tr>\n",
       "      <th>2</th>\n",
       "      <td>1.0</td>\n",
       "      <td>13.0</td>\n",
       "      <td>13.0</td>\n",
       "      <td>1.0</td>\n",
       "      <td>0.0</td>\n",
       "      <td>0.0</td>\n",
       "      <td>0.0</td>\n",
       "      <td>0.0</td>\n",
       "      <td>2.0</td>\n",
       "      <td>4.0</td>\n",
       "      <td>...</td>\n",
       "      <td>0.0</td>\n",
       "      <td>0.0</td>\n",
       "      <td>0.0</td>\n",
       "      <td>0.0</td>\n",
       "      <td>0.0</td>\n",
       "      <td>0.0</td>\n",
       "      <td>0.0</td>\n",
       "      <td>0.0</td>\n",
       "      <td>0.0</td>\n",
       "      <td>0.0</td>\n",
       "    </tr>\n",
       "    <tr>\n",
       "      <th>3</th>\n",
       "      <td>1.0</td>\n",
       "      <td>20.0</td>\n",
       "      <td>14.0</td>\n",
       "      <td>3.0</td>\n",
       "      <td>0.0</td>\n",
       "      <td>0.0</td>\n",
       "      <td>4.0</td>\n",
       "      <td>0.0</td>\n",
       "      <td>4.0</td>\n",
       "      <td>2.0</td>\n",
       "      <td>...</td>\n",
       "      <td>0.0</td>\n",
       "      <td>0.0</td>\n",
       "      <td>0.0</td>\n",
       "      <td>0.0</td>\n",
       "      <td>0.0</td>\n",
       "      <td>0.0</td>\n",
       "      <td>0.0</td>\n",
       "      <td>0.0</td>\n",
       "      <td>0.0</td>\n",
       "      <td>0.0</td>\n",
       "    </tr>\n",
       "    <tr>\n",
       "      <th>4</th>\n",
       "      <td>1.0</td>\n",
       "      <td>10.0</td>\n",
       "      <td>10.0</td>\n",
       "      <td>5.0</td>\n",
       "      <td>0.0</td>\n",
       "      <td>0.0</td>\n",
       "      <td>1.0</td>\n",
       "      <td>0.0</td>\n",
       "      <td>2.0</td>\n",
       "      <td>6.0</td>\n",
       "      <td>...</td>\n",
       "      <td>0.0</td>\n",
       "      <td>0.0</td>\n",
       "      <td>0.0</td>\n",
       "      <td>1.0</td>\n",
       "      <td>0.0</td>\n",
       "      <td>0.0</td>\n",
       "      <td>0.0</td>\n",
       "      <td>0.0</td>\n",
       "      <td>0.0</td>\n",
       "      <td>0.0</td>\n",
       "    </tr>\n",
       "  </tbody>\n",
       "</table>\n",
       "<p>5 rows × 425 columns</p>\n",
       "</div>"
      ],
      "text/plain": [
       "   AKT_DAT_KL  ALTER_HH  ALTERSKATEGORIE_FEIN  ANZ_HAUSHALTE_AKTIV  \\\n",
       "0         9.0      18.0                  21.0                 11.0   \n",
       "1         9.0      17.0                  17.0                 10.0   \n",
       "2         1.0      13.0                  13.0                  1.0   \n",
       "3         1.0      20.0                  14.0                  3.0   \n",
       "4         1.0      10.0                  10.0                  5.0   \n",
       "\n",
       "   ANZ_HH_TITEL  ANZ_KINDER  ANZ_PERSONEN  ANZ_TITEL  ARBEIT  BALLRAUM  ...  \\\n",
       "0           0.0         0.0           2.0        0.0     3.0       6.0  ...   \n",
       "1           0.0         0.0           1.0        0.0     3.0       2.0  ...   \n",
       "2           0.0         0.0           0.0        0.0     2.0       4.0  ...   \n",
       "3           0.0         0.0           4.0        0.0     4.0       2.0  ...   \n",
       "4           0.0         0.0           1.0        0.0     2.0       6.0  ...   \n",
       "\n",
       "   CAMEO_DEU_2015_7E  CAMEO_DEU_2015_8A  CAMEO_DEU_2015_8B  CAMEO_DEU_2015_8C  \\\n",
       "0                0.0                1.0                0.0                0.0   \n",
       "1                0.0                0.0                0.0                0.0   \n",
       "2                0.0                0.0                0.0                0.0   \n",
       "3                0.0                0.0                0.0                0.0   \n",
       "4                0.0                0.0                0.0                1.0   \n",
       "\n",
       "   CAMEO_DEU_2015_8D  CAMEO_DEU_2015_9A  CAMEO_DEU_2015_9B  CAMEO_DEU_2015_9C  \\\n",
       "0                0.0                0.0                0.0                0.0   \n",
       "1                0.0                0.0                0.0                0.0   \n",
       "2                0.0                0.0                0.0                0.0   \n",
       "3                0.0                0.0                0.0                0.0   \n",
       "4                0.0                0.0                0.0                0.0   \n",
       "\n",
       "   CAMEO_DEU_2015_9D  CAMEO_DEU_2015_9E  \n",
       "0                0.0                0.0  \n",
       "1                0.0                0.0  \n",
       "2                0.0                0.0  \n",
       "3                0.0                0.0  \n",
       "4                0.0                0.0  \n",
       "\n",
       "[5 rows x 425 columns]"
      ]
     },
     "execution_count": 18,
     "metadata": {},
     "output_type": "execute_result"
    }
   ],
   "source": [
    "azdias.head()"
   ]
  },
  {
   "cell_type": "code",
   "execution_count": 20,
   "metadata": {},
   "outputs": [
    {
     "data": {
      "text/html": [
       "<div>\n",
       "<style scoped>\n",
       "    .dataframe tbody tr th:only-of-type {\n",
       "        vertical-align: middle;\n",
       "    }\n",
       "\n",
       "    .dataframe tbody tr th {\n",
       "        vertical-align: top;\n",
       "    }\n",
       "\n",
       "    .dataframe thead th {\n",
       "        text-align: right;\n",
       "    }\n",
       "</style>\n",
       "<table border=\"1\" class=\"dataframe\">\n",
       "  <thead>\n",
       "    <tr style=\"text-align: right;\">\n",
       "      <th></th>\n",
       "      <th>LNR</th>\n",
       "      <th>AKT_DAT_KL</th>\n",
       "      <th>ALTER_HH</th>\n",
       "      <th>ALTERSKATEGORIE_FEIN</th>\n",
       "      <th>ANZ_HAUSHALTE_AKTIV</th>\n",
       "      <th>ANZ_HH_TITEL</th>\n",
       "      <th>ANZ_KINDER</th>\n",
       "      <th>ANZ_PERSONEN</th>\n",
       "      <th>ANZ_TITEL</th>\n",
       "      <th>ARBEIT</th>\n",
       "      <th>...</th>\n",
       "      <th>CAMEO_DEU_2015_7E</th>\n",
       "      <th>CAMEO_DEU_2015_8A</th>\n",
       "      <th>CAMEO_DEU_2015_8B</th>\n",
       "      <th>CAMEO_DEU_2015_8C</th>\n",
       "      <th>CAMEO_DEU_2015_8D</th>\n",
       "      <th>CAMEO_DEU_2015_9A</th>\n",
       "      <th>CAMEO_DEU_2015_9B</th>\n",
       "      <th>CAMEO_DEU_2015_9C</th>\n",
       "      <th>CAMEO_DEU_2015_9D</th>\n",
       "      <th>CAMEO_DEU_2015_9E</th>\n",
       "    </tr>\n",
       "  </thead>\n",
       "  <tbody>\n",
       "    <tr>\n",
       "      <th>0</th>\n",
       "      <td>9626.0</td>\n",
       "      <td>1.0</td>\n",
       "      <td>10.0</td>\n",
       "      <td>10.0</td>\n",
       "      <td>1.0</td>\n",
       "      <td>0.0</td>\n",
       "      <td>0.0</td>\n",
       "      <td>2.0</td>\n",
       "      <td>0.0</td>\n",
       "      <td>1.0</td>\n",
       "      <td>...</td>\n",
       "      <td>0.0</td>\n",
       "      <td>0.0</td>\n",
       "      <td>0.0</td>\n",
       "      <td>0.0</td>\n",
       "      <td>0.0</td>\n",
       "      <td>0.0</td>\n",
       "      <td>0.0</td>\n",
       "      <td>0.0</td>\n",
       "      <td>0.0</td>\n",
       "      <td>0.0</td>\n",
       "    </tr>\n",
       "    <tr>\n",
       "      <th>1</th>\n",
       "      <td>143872.0</td>\n",
       "      <td>1.0</td>\n",
       "      <td>6.0</td>\n",
       "      <td>0.0</td>\n",
       "      <td>1.0</td>\n",
       "      <td>0.0</td>\n",
       "      <td>0.0</td>\n",
       "      <td>1.0</td>\n",
       "      <td>0.0</td>\n",
       "      <td>3.0</td>\n",
       "      <td>...</td>\n",
       "      <td>0.0</td>\n",
       "      <td>0.0</td>\n",
       "      <td>0.0</td>\n",
       "      <td>0.0</td>\n",
       "      <td>0.0</td>\n",
       "      <td>0.0</td>\n",
       "      <td>0.0</td>\n",
       "      <td>0.0</td>\n",
       "      <td>0.0</td>\n",
       "      <td>0.0</td>\n",
       "    </tr>\n",
       "    <tr>\n",
       "      <th>2</th>\n",
       "      <td>143873.0</td>\n",
       "      <td>1.0</td>\n",
       "      <td>8.0</td>\n",
       "      <td>8.0</td>\n",
       "      <td>0.0</td>\n",
       "      <td>0.0</td>\n",
       "      <td>0.0</td>\n",
       "      <td>0.0</td>\n",
       "      <td>0.0</td>\n",
       "      <td>1.0</td>\n",
       "      <td>...</td>\n",
       "      <td>0.0</td>\n",
       "      <td>0.0</td>\n",
       "      <td>0.0</td>\n",
       "      <td>0.0</td>\n",
       "      <td>0.0</td>\n",
       "      <td>0.0</td>\n",
       "      <td>0.0</td>\n",
       "      <td>0.0</td>\n",
       "      <td>0.0</td>\n",
       "      <td>0.0</td>\n",
       "    </tr>\n",
       "    <tr>\n",
       "      <th>3</th>\n",
       "      <td>143874.0</td>\n",
       "      <td>1.0</td>\n",
       "      <td>20.0</td>\n",
       "      <td>14.0</td>\n",
       "      <td>7.0</td>\n",
       "      <td>0.0</td>\n",
       "      <td>0.0</td>\n",
       "      <td>4.0</td>\n",
       "      <td>0.0</td>\n",
       "      <td>3.0</td>\n",
       "      <td>...</td>\n",
       "      <td>0.0</td>\n",
       "      <td>0.0</td>\n",
       "      <td>0.0</td>\n",
       "      <td>0.0</td>\n",
       "      <td>0.0</td>\n",
       "      <td>0.0</td>\n",
       "      <td>0.0</td>\n",
       "      <td>0.0</td>\n",
       "      <td>0.0</td>\n",
       "      <td>0.0</td>\n",
       "    </tr>\n",
       "    <tr>\n",
       "      <th>4</th>\n",
       "      <td>143888.0</td>\n",
       "      <td>1.0</td>\n",
       "      <td>11.0</td>\n",
       "      <td>10.0</td>\n",
       "      <td>1.0</td>\n",
       "      <td>0.0</td>\n",
       "      <td>0.0</td>\n",
       "      <td>2.0</td>\n",
       "      <td>0.0</td>\n",
       "      <td>3.0</td>\n",
       "      <td>...</td>\n",
       "      <td>0.0</td>\n",
       "      <td>0.0</td>\n",
       "      <td>0.0</td>\n",
       "      <td>0.0</td>\n",
       "      <td>0.0</td>\n",
       "      <td>0.0</td>\n",
       "      <td>0.0</td>\n",
       "      <td>0.0</td>\n",
       "      <td>0.0</td>\n",
       "      <td>0.0</td>\n",
       "    </tr>\n",
       "  </tbody>\n",
       "</table>\n",
       "<p>5 rows × 426 columns</p>\n",
       "</div>"
      ],
      "text/plain": [
       "        LNR  AKT_DAT_KL  ALTER_HH  ALTERSKATEGORIE_FEIN  ANZ_HAUSHALTE_AKTIV  \\\n",
       "0    9626.0         1.0      10.0                  10.0                  1.0   \n",
       "1  143872.0         1.0       6.0                   0.0                  1.0   \n",
       "2  143873.0         1.0       8.0                   8.0                  0.0   \n",
       "3  143874.0         1.0      20.0                  14.0                  7.0   \n",
       "4  143888.0         1.0      11.0                  10.0                  1.0   \n",
       "\n",
       "   ANZ_HH_TITEL  ANZ_KINDER  ANZ_PERSONEN  ANZ_TITEL  ARBEIT  ...  \\\n",
       "0           0.0         0.0           2.0        0.0     1.0  ...   \n",
       "1           0.0         0.0           1.0        0.0     3.0  ...   \n",
       "2           0.0         0.0           0.0        0.0     1.0  ...   \n",
       "3           0.0         0.0           4.0        0.0     3.0  ...   \n",
       "4           0.0         0.0           2.0        0.0     3.0  ...   \n",
       "\n",
       "   CAMEO_DEU_2015_7E  CAMEO_DEU_2015_8A  CAMEO_DEU_2015_8B  CAMEO_DEU_2015_8C  \\\n",
       "0                0.0                0.0                0.0                0.0   \n",
       "1                0.0                0.0                0.0                0.0   \n",
       "2                0.0                0.0                0.0                0.0   \n",
       "3                0.0                0.0                0.0                0.0   \n",
       "4                0.0                0.0                0.0                0.0   \n",
       "\n",
       "   CAMEO_DEU_2015_8D  CAMEO_DEU_2015_9A  CAMEO_DEU_2015_9B  CAMEO_DEU_2015_9C  \\\n",
       "0                0.0                0.0                0.0                0.0   \n",
       "1                0.0                0.0                0.0                0.0   \n",
       "2                0.0                0.0                0.0                0.0   \n",
       "3                0.0                0.0                0.0                0.0   \n",
       "4                0.0                0.0                0.0                0.0   \n",
       "\n",
       "   CAMEO_DEU_2015_9D  CAMEO_DEU_2015_9E  \n",
       "0                0.0                0.0  \n",
       "1                0.0                0.0  \n",
       "2                0.0                0.0  \n",
       "3                0.0                0.0  \n",
       "4                0.0                0.0  \n",
       "\n",
       "[5 rows x 426 columns]"
      ]
     },
     "execution_count": 20,
     "metadata": {},
     "output_type": "execute_result"
    }
   ],
   "source": [
    "customers.head()"
   ]
  },
  {
   "cell_type": "markdown",
   "metadata": {},
   "source": [
    "**Drop id column**"
   ]
  },
  {
   "cell_type": "code",
   "execution_count": null,
   "metadata": {},
   "outputs": [],
   "source": [
    "azdias.drop('LNR',axis=1,inplace=True)"
   ]
  },
  {
   "cell_type": "code",
   "execution_count": 21,
   "metadata": {},
   "outputs": [],
   "source": [
    "customers.drop('LNR',axis=1,inplace=True)"
   ]
  },
  {
   "cell_type": "markdown",
   "metadata": {},
   "source": [
    "**Scale the data**"
   ]
  },
  {
   "cell_type": "markdown",
   "metadata": {},
   "source": [
    "The scaler is not in the clean_data funtion!"
   ]
  },
  {
   "cell_type": "code",
   "execution_count": 22,
   "metadata": {},
   "outputs": [
    {
     "data": {
      "text/html": [
       "<div>\n",
       "<style scoped>\n",
       "    .dataframe tbody tr th:only-of-type {\n",
       "        vertical-align: middle;\n",
       "    }\n",
       "\n",
       "    .dataframe tbody tr th {\n",
       "        vertical-align: top;\n",
       "    }\n",
       "\n",
       "    .dataframe thead th {\n",
       "        text-align: right;\n",
       "    }\n",
       "</style>\n",
       "<table border=\"1\" class=\"dataframe\">\n",
       "  <thead>\n",
       "    <tr style=\"text-align: right;\">\n",
       "      <th></th>\n",
       "      <th>AKT_DAT_KL</th>\n",
       "      <th>ALTER_HH</th>\n",
       "      <th>ALTERSKATEGORIE_FEIN</th>\n",
       "      <th>ANZ_HAUSHALTE_AKTIV</th>\n",
       "      <th>ANZ_HH_TITEL</th>\n",
       "      <th>ANZ_KINDER</th>\n",
       "      <th>ANZ_PERSONEN</th>\n",
       "      <th>ANZ_TITEL</th>\n",
       "      <th>ARBEIT</th>\n",
       "      <th>BALLRAUM</th>\n",
       "      <th>...</th>\n",
       "      <th>CAMEO_DEU_2015_7E</th>\n",
       "      <th>CAMEO_DEU_2015_8A</th>\n",
       "      <th>CAMEO_DEU_2015_8B</th>\n",
       "      <th>CAMEO_DEU_2015_8C</th>\n",
       "      <th>CAMEO_DEU_2015_8D</th>\n",
       "      <th>CAMEO_DEU_2015_9A</th>\n",
       "      <th>CAMEO_DEU_2015_9B</th>\n",
       "      <th>CAMEO_DEU_2015_9C</th>\n",
       "      <th>CAMEO_DEU_2015_9D</th>\n",
       "      <th>CAMEO_DEU_2015_9E</th>\n",
       "    </tr>\n",
       "  </thead>\n",
       "  <tbody>\n",
       "    <tr>\n",
       "      <th>0</th>\n",
       "      <td>1.262263</td>\n",
       "      <td>0.565416</td>\n",
       "      <td>1.560778</td>\n",
       "      <td>0.186872</td>\n",
       "      <td>-0.125305</td>\n",
       "      <td>-0.299076</td>\n",
       "      <td>0.224663</td>\n",
       "      <td>-0.060664</td>\n",
       "      <td>-0.183307</td>\n",
       "      <td>0.849580</td>\n",
       "      <td>...</td>\n",
       "      <td>-0.077257</td>\n",
       "      <td>3.677130</td>\n",
       "      <td>-0.210435</td>\n",
       "      <td>-0.206481</td>\n",
       "      <td>-0.152118</td>\n",
       "      <td>-0.167214</td>\n",
       "      <td>-0.190758</td>\n",
       "      <td>-0.179124</td>\n",
       "      <td>-0.194011</td>\n",
       "      <td>-0.072371</td>\n",
       "    </tr>\n",
       "    <tr>\n",
       "      <th>1</th>\n",
       "      <td>1.262263</td>\n",
       "      <td>0.275057</td>\n",
       "      <td>0.674371</td>\n",
       "      <td>0.120680</td>\n",
       "      <td>-0.125305</td>\n",
       "      <td>-0.299076</td>\n",
       "      <td>-0.634503</td>\n",
       "      <td>-0.060664</td>\n",
       "      <td>-0.183307</td>\n",
       "      <td>-0.980519</td>\n",
       "      <td>...</td>\n",
       "      <td>-0.077257</td>\n",
       "      <td>-0.271951</td>\n",
       "      <td>-0.210435</td>\n",
       "      <td>-0.206481</td>\n",
       "      <td>-0.152118</td>\n",
       "      <td>-0.167214</td>\n",
       "      <td>-0.190758</td>\n",
       "      <td>-0.179124</td>\n",
       "      <td>-0.194011</td>\n",
       "      <td>-0.072371</td>\n",
       "    </tr>\n",
       "    <tr>\n",
       "      <th>2</th>\n",
       "      <td>-0.934307</td>\n",
       "      <td>-0.886380</td>\n",
       "      <td>-0.212037</td>\n",
       "      <td>-0.475044</td>\n",
       "      <td>-0.125305</td>\n",
       "      <td>-0.299076</td>\n",
       "      <td>-1.493669</td>\n",
       "      <td>-0.060664</td>\n",
       "      <td>-1.187438</td>\n",
       "      <td>-0.065470</td>\n",
       "      <td>...</td>\n",
       "      <td>-0.077257</td>\n",
       "      <td>-0.271951</td>\n",
       "      <td>-0.210435</td>\n",
       "      <td>-0.206481</td>\n",
       "      <td>-0.152118</td>\n",
       "      <td>-0.167214</td>\n",
       "      <td>-0.190758</td>\n",
       "      <td>-0.179124</td>\n",
       "      <td>-0.194011</td>\n",
       "      <td>-0.072371</td>\n",
       "    </tr>\n",
       "    <tr>\n",
       "      <th>3</th>\n",
       "      <td>-0.934307</td>\n",
       "      <td>1.146134</td>\n",
       "      <td>0.009565</td>\n",
       "      <td>-0.342661</td>\n",
       "      <td>-0.125305</td>\n",
       "      <td>-0.299076</td>\n",
       "      <td>1.942996</td>\n",
       "      <td>-0.060664</td>\n",
       "      <td>0.820825</td>\n",
       "      <td>-0.980519</td>\n",
       "      <td>...</td>\n",
       "      <td>-0.077257</td>\n",
       "      <td>-0.271951</td>\n",
       "      <td>-0.210435</td>\n",
       "      <td>-0.206481</td>\n",
       "      <td>-0.152118</td>\n",
       "      <td>-0.167214</td>\n",
       "      <td>-0.190758</td>\n",
       "      <td>-0.179124</td>\n",
       "      <td>-0.194011</td>\n",
       "      <td>-0.072371</td>\n",
       "    </tr>\n",
       "    <tr>\n",
       "      <th>4</th>\n",
       "      <td>-0.934307</td>\n",
       "      <td>-1.757458</td>\n",
       "      <td>-0.876842</td>\n",
       "      <td>-0.210278</td>\n",
       "      <td>-0.125305</td>\n",
       "      <td>-0.299076</td>\n",
       "      <td>-0.634503</td>\n",
       "      <td>-0.060664</td>\n",
       "      <td>-1.187438</td>\n",
       "      <td>0.849580</td>\n",
       "      <td>...</td>\n",
       "      <td>-0.077257</td>\n",
       "      <td>-0.271951</td>\n",
       "      <td>-0.210435</td>\n",
       "      <td>4.843057</td>\n",
       "      <td>-0.152118</td>\n",
       "      <td>-0.167214</td>\n",
       "      <td>-0.190758</td>\n",
       "      <td>-0.179124</td>\n",
       "      <td>-0.194011</td>\n",
       "      <td>-0.072371</td>\n",
       "    </tr>\n",
       "  </tbody>\n",
       "</table>\n",
       "<p>5 rows × 425 columns</p>\n",
       "</div>"
      ],
      "text/plain": [
       "   AKT_DAT_KL  ALTER_HH  ALTERSKATEGORIE_FEIN  ANZ_HAUSHALTE_AKTIV  \\\n",
       "0    1.262263  0.565416              1.560778             0.186872   \n",
       "1    1.262263  0.275057              0.674371             0.120680   \n",
       "2   -0.934307 -0.886380             -0.212037            -0.475044   \n",
       "3   -0.934307  1.146134              0.009565            -0.342661   \n",
       "4   -0.934307 -1.757458             -0.876842            -0.210278   \n",
       "\n",
       "   ANZ_HH_TITEL  ANZ_KINDER  ANZ_PERSONEN  ANZ_TITEL    ARBEIT  BALLRAUM  ...  \\\n",
       "0     -0.125305   -0.299076      0.224663  -0.060664 -0.183307  0.849580  ...   \n",
       "1     -0.125305   -0.299076     -0.634503  -0.060664 -0.183307 -0.980519  ...   \n",
       "2     -0.125305   -0.299076     -1.493669  -0.060664 -1.187438 -0.065470  ...   \n",
       "3     -0.125305   -0.299076      1.942996  -0.060664  0.820825 -0.980519  ...   \n",
       "4     -0.125305   -0.299076     -0.634503  -0.060664 -1.187438  0.849580  ...   \n",
       "\n",
       "   CAMEO_DEU_2015_7E  CAMEO_DEU_2015_8A  CAMEO_DEU_2015_8B  CAMEO_DEU_2015_8C  \\\n",
       "0          -0.077257           3.677130          -0.210435          -0.206481   \n",
       "1          -0.077257          -0.271951          -0.210435          -0.206481   \n",
       "2          -0.077257          -0.271951          -0.210435          -0.206481   \n",
       "3          -0.077257          -0.271951          -0.210435          -0.206481   \n",
       "4          -0.077257          -0.271951          -0.210435           4.843057   \n",
       "\n",
       "   CAMEO_DEU_2015_8D  CAMEO_DEU_2015_9A  CAMEO_DEU_2015_9B  CAMEO_DEU_2015_9C  \\\n",
       "0          -0.152118          -0.167214          -0.190758          -0.179124   \n",
       "1          -0.152118          -0.167214          -0.190758          -0.179124   \n",
       "2          -0.152118          -0.167214          -0.190758          -0.179124   \n",
       "3          -0.152118          -0.167214          -0.190758          -0.179124   \n",
       "4          -0.152118          -0.167214          -0.190758          -0.179124   \n",
       "\n",
       "   CAMEO_DEU_2015_9D  CAMEO_DEU_2015_9E  \n",
       "0          -0.194011          -0.072371  \n",
       "1          -0.194011          -0.072371  \n",
       "2          -0.194011          -0.072371  \n",
       "3          -0.194011          -0.072371  \n",
       "4          -0.194011          -0.072371  \n",
       "\n",
       "[5 rows x 425 columns]"
      ]
     },
     "execution_count": 22,
     "metadata": {},
     "output_type": "execute_result"
    }
   ],
   "source": [
    "azdias_list = list(azdias.columns.values)\n",
    "scaler = StandardScaler()\n",
    "azdias = scaler.fit_transform(azdias)\n",
    "azdias = pd.DataFrame(azdias,columns=azdias_list)\n",
    "azdias.head()"
   ]
  },
  {
   "cell_type": "code",
   "execution_count": 23,
   "metadata": {},
   "outputs": [
    {
     "data": {
      "text/html": [
       "<div>\n",
       "<style scoped>\n",
       "    .dataframe tbody tr th:only-of-type {\n",
       "        vertical-align: middle;\n",
       "    }\n",
       "\n",
       "    .dataframe tbody tr th {\n",
       "        vertical-align: top;\n",
       "    }\n",
       "\n",
       "    .dataframe thead th {\n",
       "        text-align: right;\n",
       "    }\n",
       "</style>\n",
       "<table border=\"1\" class=\"dataframe\">\n",
       "  <thead>\n",
       "    <tr style=\"text-align: right;\">\n",
       "      <th></th>\n",
       "      <th>AKT_DAT_KL</th>\n",
       "      <th>ALTER_HH</th>\n",
       "      <th>ALTERSKATEGORIE_FEIN</th>\n",
       "      <th>ANZ_HAUSHALTE_AKTIV</th>\n",
       "      <th>ANZ_HH_TITEL</th>\n",
       "      <th>ANZ_KINDER</th>\n",
       "      <th>ANZ_PERSONEN</th>\n",
       "      <th>ANZ_TITEL</th>\n",
       "      <th>ARBEIT</th>\n",
       "      <th>BALLRAUM</th>\n",
       "      <th>...</th>\n",
       "      <th>CAMEO_DEU_2015_7E</th>\n",
       "      <th>CAMEO_DEU_2015_8A</th>\n",
       "      <th>CAMEO_DEU_2015_8B</th>\n",
       "      <th>CAMEO_DEU_2015_8C</th>\n",
       "      <th>CAMEO_DEU_2015_8D</th>\n",
       "      <th>CAMEO_DEU_2015_9A</th>\n",
       "      <th>CAMEO_DEU_2015_9B</th>\n",
       "      <th>CAMEO_DEU_2015_9C</th>\n",
       "      <th>CAMEO_DEU_2015_9D</th>\n",
       "      <th>CAMEO_DEU_2015_9E</th>\n",
       "    </tr>\n",
       "  </thead>\n",
       "  <tbody>\n",
       "    <tr>\n",
       "      <th>0</th>\n",
       "      <td>-0.934307</td>\n",
       "      <td>-1.757458</td>\n",
       "      <td>-0.876842</td>\n",
       "      <td>-0.475044</td>\n",
       "      <td>-0.125305</td>\n",
       "      <td>-0.299076</td>\n",
       "      <td>0.224663</td>\n",
       "      <td>-0.060664</td>\n",
       "      <td>-2.191569</td>\n",
       "      <td>-0.522994</td>\n",
       "      <td>...</td>\n",
       "      <td>-0.077257</td>\n",
       "      <td>-0.271951</td>\n",
       "      <td>-0.210435</td>\n",
       "      <td>-0.206481</td>\n",
       "      <td>-0.152118</td>\n",
       "      <td>-0.167214</td>\n",
       "      <td>-0.190758</td>\n",
       "      <td>-0.179124</td>\n",
       "      <td>-0.194011</td>\n",
       "      <td>-0.072371</td>\n",
       "    </tr>\n",
       "    <tr>\n",
       "      <th>1</th>\n",
       "      <td>-0.934307</td>\n",
       "      <td>-2.918894</td>\n",
       "      <td>-3.092861</td>\n",
       "      <td>-0.475044</td>\n",
       "      <td>-0.125305</td>\n",
       "      <td>-0.299076</td>\n",
       "      <td>-0.634503</td>\n",
       "      <td>-0.060664</td>\n",
       "      <td>-0.183307</td>\n",
       "      <td>1.307105</td>\n",
       "      <td>...</td>\n",
       "      <td>-0.077257</td>\n",
       "      <td>-0.271951</td>\n",
       "      <td>-0.210435</td>\n",
       "      <td>-0.206481</td>\n",
       "      <td>-0.152118</td>\n",
       "      <td>-0.167214</td>\n",
       "      <td>-0.190758</td>\n",
       "      <td>-0.179124</td>\n",
       "      <td>-0.194011</td>\n",
       "      <td>-0.072371</td>\n",
       "    </tr>\n",
       "    <tr>\n",
       "      <th>2</th>\n",
       "      <td>-0.934307</td>\n",
       "      <td>-2.338176</td>\n",
       "      <td>-1.320046</td>\n",
       "      <td>-0.541236</td>\n",
       "      <td>-0.125305</td>\n",
       "      <td>-0.299076</td>\n",
       "      <td>-1.493669</td>\n",
       "      <td>-0.060664</td>\n",
       "      <td>-2.191569</td>\n",
       "      <td>1.307105</td>\n",
       "      <td>...</td>\n",
       "      <td>-0.077257</td>\n",
       "      <td>-0.271951</td>\n",
       "      <td>-0.210435</td>\n",
       "      <td>-0.206481</td>\n",
       "      <td>-0.152118</td>\n",
       "      <td>-0.167214</td>\n",
       "      <td>-0.190758</td>\n",
       "      <td>-0.179124</td>\n",
       "      <td>-0.194011</td>\n",
       "      <td>-0.072371</td>\n",
       "    </tr>\n",
       "    <tr>\n",
       "      <th>3</th>\n",
       "      <td>-0.934307</td>\n",
       "      <td>1.146134</td>\n",
       "      <td>0.009565</td>\n",
       "      <td>-0.077895</td>\n",
       "      <td>-0.125305</td>\n",
       "      <td>-0.299076</td>\n",
       "      <td>1.942996</td>\n",
       "      <td>-0.060664</td>\n",
       "      <td>-0.183307</td>\n",
       "      <td>-0.522994</td>\n",
       "      <td>...</td>\n",
       "      <td>-0.077257</td>\n",
       "      <td>-0.271951</td>\n",
       "      <td>-0.210435</td>\n",
       "      <td>-0.206481</td>\n",
       "      <td>-0.152118</td>\n",
       "      <td>-0.167214</td>\n",
       "      <td>-0.190758</td>\n",
       "      <td>-0.179124</td>\n",
       "      <td>-0.194011</td>\n",
       "      <td>-0.072371</td>\n",
       "    </tr>\n",
       "    <tr>\n",
       "      <th>4</th>\n",
       "      <td>-0.934307</td>\n",
       "      <td>-1.467098</td>\n",
       "      <td>-0.876842</td>\n",
       "      <td>-0.475044</td>\n",
       "      <td>-0.125305</td>\n",
       "      <td>-0.299076</td>\n",
       "      <td>0.224663</td>\n",
       "      <td>-0.060664</td>\n",
       "      <td>-0.183307</td>\n",
       "      <td>1.307105</td>\n",
       "      <td>...</td>\n",
       "      <td>-0.077257</td>\n",
       "      <td>-0.271951</td>\n",
       "      <td>-0.210435</td>\n",
       "      <td>-0.206481</td>\n",
       "      <td>-0.152118</td>\n",
       "      <td>-0.167214</td>\n",
       "      <td>-0.190758</td>\n",
       "      <td>-0.179124</td>\n",
       "      <td>-0.194011</td>\n",
       "      <td>-0.072371</td>\n",
       "    </tr>\n",
       "  </tbody>\n",
       "</table>\n",
       "<p>5 rows × 425 columns</p>\n",
       "</div>"
      ],
      "text/plain": [
       "   AKT_DAT_KL  ALTER_HH  ALTERSKATEGORIE_FEIN  ANZ_HAUSHALTE_AKTIV  \\\n",
       "0   -0.934307 -1.757458             -0.876842            -0.475044   \n",
       "1   -0.934307 -2.918894             -3.092861            -0.475044   \n",
       "2   -0.934307 -2.338176             -1.320046            -0.541236   \n",
       "3   -0.934307  1.146134              0.009565            -0.077895   \n",
       "4   -0.934307 -1.467098             -0.876842            -0.475044   \n",
       "\n",
       "   ANZ_HH_TITEL  ANZ_KINDER  ANZ_PERSONEN  ANZ_TITEL    ARBEIT  BALLRAUM  ...  \\\n",
       "0     -0.125305   -0.299076      0.224663  -0.060664 -2.191569 -0.522994  ...   \n",
       "1     -0.125305   -0.299076     -0.634503  -0.060664 -0.183307  1.307105  ...   \n",
       "2     -0.125305   -0.299076     -1.493669  -0.060664 -2.191569  1.307105  ...   \n",
       "3     -0.125305   -0.299076      1.942996  -0.060664 -0.183307 -0.522994  ...   \n",
       "4     -0.125305   -0.299076      0.224663  -0.060664 -0.183307  1.307105  ...   \n",
       "\n",
       "   CAMEO_DEU_2015_7E  CAMEO_DEU_2015_8A  CAMEO_DEU_2015_8B  CAMEO_DEU_2015_8C  \\\n",
       "0          -0.077257          -0.271951          -0.210435          -0.206481   \n",
       "1          -0.077257          -0.271951          -0.210435          -0.206481   \n",
       "2          -0.077257          -0.271951          -0.210435          -0.206481   \n",
       "3          -0.077257          -0.271951          -0.210435          -0.206481   \n",
       "4          -0.077257          -0.271951          -0.210435          -0.206481   \n",
       "\n",
       "   CAMEO_DEU_2015_8D  CAMEO_DEU_2015_9A  CAMEO_DEU_2015_9B  CAMEO_DEU_2015_9C  \\\n",
       "0          -0.152118          -0.167214          -0.190758          -0.179124   \n",
       "1          -0.152118          -0.167214          -0.190758          -0.179124   \n",
       "2          -0.152118          -0.167214          -0.190758          -0.179124   \n",
       "3          -0.152118          -0.167214          -0.190758          -0.179124   \n",
       "4          -0.152118          -0.167214          -0.190758          -0.179124   \n",
       "\n",
       "   CAMEO_DEU_2015_9D  CAMEO_DEU_2015_9E  \n",
       "0          -0.194011          -0.072371  \n",
       "1          -0.194011          -0.072371  \n",
       "2          -0.194011          -0.072371  \n",
       "3          -0.194011          -0.072371  \n",
       "4          -0.194011          -0.072371  \n",
       "\n",
       "[5 rows x 425 columns]"
      ]
     },
     "execution_count": 23,
     "metadata": {},
     "output_type": "execute_result"
    }
   ],
   "source": [
    "customers_list = list(customers.columns.values)\n",
    "\n",
    "# we have to apply the same scaler to the customer data\n",
    "customers = scaler.transform(customers)\n",
    "customers = pd.DataFrame(customers,columns=customers_list)\n",
    "customers.head()"
   ]
  },
  {
   "cell_type": "code",
   "execution_count": 24,
   "metadata": {},
   "outputs": [
    {
     "data": {
      "text/plain": [
       "((737202, 425), (134245, 425))"
      ]
     },
     "execution_count": 24,
     "metadata": {},
     "output_type": "execute_result"
    }
   ],
   "source": [
    "azdias.shape, customers.shape"
   ]
  },
  {
   "cell_type": "code",
   "execution_count": 25,
   "metadata": {},
   "outputs": [],
   "source": [
    "#Save the data frames\n",
    "azdias.to_csv('azdias_pre_proc.csv',sep=';',index=False)\n",
    "customers.to_csv('customers_pre_proc.csv',sep=';',index=False)"
   ]
  },
  {
   "cell_type": "markdown",
   "metadata": {},
   "source": [
    "## Part 1: Customer Segmentation Report\n",
    "\n",
    "The main bulk of your analysis will come in this part of the project. Here, you should use unsupervised learning techniques to describe the relationship between the demographics of the company's existing customers and the general population of Germany. By the end of this part, you should be able to describe parts of the general population that are more likely to be part of the mail-order company's main customer base, and which parts of the general population are less so."
   ]
  },
  {
   "cell_type": "code",
   "execution_count": 25,
   "metadata": {},
   "outputs": [],
   "source": [
    "# Load clean data frames\n",
    "azdias = pd.read_csv('azdias_pre_proc.csv', sep=';')\n",
    "#customers = pd.read_csv('customers_pre_proc.csv', sep=';')"
   ]
  },
  {
   "cell_type": "markdown",
   "metadata": {},
   "source": [
    "### Principal component analysis"
   ]
  },
  {
   "cell_type": "markdown",
   "metadata": {},
   "source": [
    "Since we still have a lot of columns, we will start by doing a principal component analysis."
   ]
  },
  {
   "cell_type": "code",
   "execution_count": 28,
   "metadata": {},
   "outputs": [
    {
     "data": {
      "image/png": "[encoded data removed]",
      "text/plain": [
       "<Figure size 1080x720 with 1 Axes>"
      ]
     },
     "metadata": {
      "needs_background": "light"
     },
     "output_type": "display_data"
    }
   ],
   "source": [
    "pca = PCA().fit(azdias)\n",
    "plt.figure(figsize=(15,10))\n",
    "plt.plot(np.cumsum(pca.explained_variance_ratio_))\n",
    "plt.xlabel('# Components')\n",
    "plt.ylabel('Cumulative Explained Variance')\n",
    "plt.title('PCA');"
   ]
  },
  {
   "cell_type": "code",
   "execution_count": 33,
   "metadata": {},
   "outputs": [
    {
     "name": "stdout",
     "output_type": "stream",
     "text": [
      "0.795251474505345\n"
     ]
    }
   ],
   "source": [
    "pca_cum = pca.explained_variance_ratio_.tolist()\n",
    "print(np.sum(pca_cum[:170]))"
   ]
  },
  {
   "cell_type": "markdown",
   "metadata": {},
   "source": [
    "Using 170 components we can explain around 80% of the variance. This reduced the dimensionalty to less than a half of what we had. "
   ]
  },
  {
   "cell_type": "code",
   "execution_count": 26,
   "metadata": {},
   "outputs": [],
   "source": [
    "n=170\n",
    "pca_red = PCA(n_components=n).fit(azdias)\n",
    "azdias_red = pd.DataFrame(pca_red.transform(azdias))"
   ]
  },
  {
   "cell_type": "code",
   "execution_count": 49,
   "metadata": {},
   "outputs": [],
   "source": [
    "#Save the data frames\n",
    "azdias_red.to_csv('azdias_red.csv',sep=';',index=False)"
   ]
  },
  {
   "cell_type": "markdown",
   "metadata": {},
   "source": [
    "**Interpretation of principal components**"
   ]
  },
  {
   "cell_type": "markdown",
   "metadata": {},
   "source": [
    "We can take a look to how the firsts PC relates with the columns"
   ]
  },
  {
   "cell_type": "code",
   "execution_count": 77,
   "metadata": {},
   "outputs": [],
   "source": [
    "azdias_list = list(azdias.columns.values)"
   ]
  },
  {
   "cell_type": "code",
   "execution_count": 118,
   "metadata": {},
   "outputs": [
    {
     "name": "stdout",
     "output_type": "stream",
     "text": [
      "0.06938872109477491\n"
     ]
    },
    {
     "data": {
      "text/plain": [
       "MOBI_REGIO        0.135321\n",
       "PLZ8_ANTG1        0.128183\n",
       "KBA13_ANTG1       0.127602\n",
       "KBA05_ANTG1       0.125131\n",
       "LP_STATUS_FEIN    0.124294\n",
       "Name: 0, dtype: float64"
      ]
     },
     "execution_count": 118,
     "metadata": {},
     "output_type": "execute_result"
    }
   ],
   "source": [
    "weights = pd.DataFrame(pca_red.components_, columns=azdias_list)\n",
    "print(pca_red.explained_variance_ratio_[0])\n",
    "weights.loc[0].sort_values(ascending=False)[:5]"
   ]
  },
  {
   "cell_type": "code",
   "execution_count": 119,
   "metadata": {},
   "outputs": [
    {
     "data": {
      "text/plain": [
       "KBA13_BAUMAX         -0.121547\n",
       "HH_EINKOMMEN_SCORE   -0.122055\n",
       "KBA13_ANTG4          -0.122270\n",
       "KBA13_ANTG3          -0.126939\n",
       "PLZ8_ANTG3           -0.127510\n",
       "Name: 0, dtype: float64"
      ]
     },
     "execution_count": 119,
     "metadata": {},
     "output_type": "execute_result"
    }
   ],
   "source": [
    "weights.loc[0].sort_values(ascending=False)[-5:]"
   ]
  },
  {
   "cell_type": "code",
   "execution_count": 79,
   "metadata": {},
   "outputs": [
    {
     "name": "stdout",
     "output_type": "stream",
     "text": [
      "0.04421691744517746\n"
     ]
    },
    {
     "data": {
      "text/plain": [
       "ONLINE_AFFINITAET        0.151081\n",
       "PRAEGENDE_JUGENDJAHRE    0.141194\n",
       "CJT_TYP_2                0.140683\n",
       "D19_GESAMT_ANZ_24        0.139781\n",
       "FINANZ_SPARER            0.138123\n",
       "Name: 1, dtype: float64"
      ]
     },
     "execution_count": 79,
     "metadata": {},
     "output_type": "execute_result"
    }
   ],
   "source": [
    "print(pca_red.explained_variance_ratio_[1])\n",
    "weights.loc[1].sort_values(ascending=False)[:5]"
   ]
  },
  {
   "cell_type": "code",
   "execution_count": 121,
   "metadata": {},
   "outputs": [
    {
     "data": {
      "text/plain": [
       "CJT_TYP_4                  -0.130736\n",
       "D19_VERSAND_ONLINE_DATUM   -0.131135\n",
       "FINANZ_VORSORGER           -0.131248\n",
       "CJT_TYP_5                  -0.134606\n",
       "D19_GESAMT_ONLINE_DATUM    -0.136007\n",
       "Name: 1, dtype: float64"
      ]
     },
     "execution_count": 121,
     "metadata": {},
     "output_type": "execute_result"
    }
   ],
   "source": [
    "weights.loc[1].sort_values(ascending=False)[-5:]"
   ]
  },
  {
   "cell_type": "code",
   "execution_count": 81,
   "metadata": {},
   "outputs": [
    {
     "name": "stdout",
     "output_type": "stream",
     "text": [
      "0.04115257647966543\n"
     ]
    },
    {
     "data": {
      "text/plain": [
       "KBA13_HERST_BMW_BENZ           0.182109\n",
       "KBA13_SEG_OBEREMITTELKLASSE    0.157082\n",
       "KBA13_MERCEDES                 0.155426\n",
       "KBA13_BMW                      0.152144\n",
       "KBA13_SITZE_4                  0.147525\n",
       "Name: 2, dtype: float64"
      ]
     },
     "execution_count": 81,
     "metadata": {},
     "output_type": "execute_result"
    }
   ],
   "source": [
    "print(pca_red.explained_variance_ratio_[2])\n",
    "weights.loc[2].sort_values(ascending=False)[:5]"
   ]
  },
  {
   "cell_type": "code",
   "execution_count": 122,
   "metadata": {},
   "outputs": [
    {
     "data": {
      "text/plain": [
       "KBA13_HALTER_20        -0.115831\n",
       "KBA13_HALTER_25        -0.120407\n",
       "KBA13_KMH_140_210      -0.125044\n",
       "KBA13_SEG_KLEINWAGEN   -0.129938\n",
       "KBA13_SITZE_5          -0.151314\n",
       "Name: 2, dtype: float64"
      ]
     },
     "execution_count": 122,
     "metadata": {},
     "output_type": "execute_result"
    }
   ],
   "source": [
    "weights.loc[2].sort_values(ascending=False)[-5:]"
   ]
  },
  {
   "cell_type": "markdown",
   "metadata": {},
   "source": [
    "### Clustering"
   ]
  },
  {
   "cell_type": "markdown",
   "metadata": {},
   "source": [
    "We will perform the clustering with the k-means algorith. We need to find how many clusters is convenient to consider. Since the complete dataframe is too long I will take a sample to sarch for k."
   ]
  },
  {
   "cell_type": "code",
   "execution_count": 4,
   "metadata": {},
   "outputs": [],
   "source": [
    "# Load clean data frames\n",
    "azdias_red = pd.read_csv('azdias_red.csv', sep=';')"
   ]
  },
  {
   "cell_type": "code",
   "execution_count": 12,
   "metadata": {},
   "outputs": [],
   "source": [
    "sample_azd = azdias_red.sample(30000)\n",
    "k_list = range(2,22)\n",
    "score_list = [KMeans(n_clusters=k).fit(sample_azd).score(sample_azd) for k in k_list]"
   ]
  },
  {
   "cell_type": "code",
   "execution_count": 16,
   "metadata": {},
   "outputs": [
    {
     "data": {
      "image/png": "[encoded data removed]",
      "text/plain": [
       "<Figure size 1080x360 with 1 Axes>"
      ]
     },
     "metadata": {
      "needs_background": "light"
     },
     "output_type": "display_data"
    }
   ],
   "source": [
    "plt.figure( figsize=(15,5))\n",
    "plt.plot(k_list, abs(np.array(score_list)), linestyle='-', marker='o')\n",
    "plt.title('Elbow method')\n",
    "plt.xlabel('# of clusters')\n",
    "plt.ylabel('Score');"
   ]
  },
  {
   "cell_type": "markdown",
   "metadata": {},
   "source": [
    "We use the elbow method: from cluster # 16 , the score flattens and that is the most convinient amount of clusters."
   ]
  },
  {
   "cell_type": "code",
   "execution_count": 17,
   "metadata": {},
   "outputs": [],
   "source": [
    "k = 16\n",
    "kmeans_model = KMeans(n_clusters=k)\n",
    "kmeans_fitted = kmeans_model.fit(azdias_red)\n",
    "azdias_clust = kmeans_fitted.predict(azdias_red)\n",
    "azdias_clustered = pd.DataFrame(azdias_clust, columns = ['cluster'])"
   ]
  },
  {
   "cell_type": "code",
   "execution_count": 18,
   "metadata": {},
   "outputs": [
    {
     "data": {
      "text/html": [
       "<div>\n",
       "<style scoped>\n",
       "    .dataframe tbody tr th:only-of-type {\n",
       "        vertical-align: middle;\n",
       "    }\n",
       "\n",
       "    .dataframe tbody tr th {\n",
       "        vertical-align: top;\n",
       "    }\n",
       "\n",
       "    .dataframe thead th {\n",
       "        text-align: right;\n",
       "    }\n",
       "</style>\n",
       "<table border=\"1\" class=\"dataframe\">\n",
       "  <thead>\n",
       "    <tr style=\"text-align: right;\">\n",
       "      <th></th>\n",
       "      <th>cluster</th>\n",
       "    </tr>\n",
       "  </thead>\n",
       "  <tbody>\n",
       "    <tr>\n",
       "      <th>0</th>\n",
       "      <td>5</td>\n",
       "    </tr>\n",
       "    <tr>\n",
       "      <th>1</th>\n",
       "      <td>13</td>\n",
       "    </tr>\n",
       "    <tr>\n",
       "      <th>2</th>\n",
       "      <td>2</td>\n",
       "    </tr>\n",
       "    <tr>\n",
       "      <th>3</th>\n",
       "      <td>11</td>\n",
       "    </tr>\n",
       "    <tr>\n",
       "      <th>4</th>\n",
       "      <td>12</td>\n",
       "    </tr>\n",
       "  </tbody>\n",
       "</table>\n",
       "</div>"
      ],
      "text/plain": [
       "   cluster\n",
       "0        5\n",
       "1       13\n",
       "2        2\n",
       "3       11\n",
       "4       12"
      ]
     },
     "execution_count": 18,
     "metadata": {},
     "output_type": "execute_result"
    }
   ],
   "source": [
    "azdias_clustered.head()"
   ]
  },
  {
   "cell_type": "code",
   "execution_count": 19,
   "metadata": {},
   "outputs": [],
   "source": [
    "azdias_clustered.to_pickle('azdias_clustered')"
   ]
  },
  {
   "cell_type": "markdown",
   "metadata": {},
   "source": [
    "### Customers data"
   ]
  },
  {
   "cell_type": "markdown",
   "metadata": {},
   "source": [
    "We apply the same fitted models to the customer data."
   ]
  },
  {
   "cell_type": "code",
   "execution_count": 27,
   "metadata": {},
   "outputs": [],
   "source": [
    "customers_red = pd.DataFrame(pca_red.transform(customers))\n",
    "customers_red.to_pickle('customers_red')"
   ]
  },
  {
   "cell_type": "code",
   "execution_count": 28,
   "metadata": {},
   "outputs": [],
   "source": [
    "customers_clust = kmeans_fitted.predict(customers_red)\n",
    "customers_clustered = pd.DataFrame(customers_clust, columns = ['cluster'])"
   ]
  },
  {
   "cell_type": "code",
   "execution_count": 29,
   "metadata": {},
   "outputs": [
    {
     "data": {
      "text/html": [
       "<div>\n",
       "<style scoped>\n",
       "    .dataframe tbody tr th:only-of-type {\n",
       "        vertical-align: middle;\n",
       "    }\n",
       "\n",
       "    .dataframe tbody tr th {\n",
       "        vertical-align: top;\n",
       "    }\n",
       "\n",
       "    .dataframe thead th {\n",
       "        text-align: right;\n",
       "    }\n",
       "</style>\n",
       "<table border=\"1\" class=\"dataframe\">\n",
       "  <thead>\n",
       "    <tr style=\"text-align: right;\">\n",
       "      <th></th>\n",
       "      <th>cluster</th>\n",
       "    </tr>\n",
       "  </thead>\n",
       "  <tbody>\n",
       "    <tr>\n",
       "      <th>0</th>\n",
       "      <td>12</td>\n",
       "    </tr>\n",
       "    <tr>\n",
       "      <th>1</th>\n",
       "      <td>12</td>\n",
       "    </tr>\n",
       "    <tr>\n",
       "      <th>2</th>\n",
       "      <td>2</td>\n",
       "    </tr>\n",
       "    <tr>\n",
       "      <th>3</th>\n",
       "      <td>1</td>\n",
       "    </tr>\n",
       "    <tr>\n",
       "      <th>4</th>\n",
       "      <td>10</td>\n",
       "    </tr>\n",
       "  </tbody>\n",
       "</table>\n",
       "</div>"
      ],
      "text/plain": [
       "   cluster\n",
       "0       12\n",
       "1       12\n",
       "2        2\n",
       "3        1\n",
       "4       10"
      ]
     },
     "execution_count": 29,
     "metadata": {},
     "output_type": "execute_result"
    }
   ],
   "source": [
    "customers_clustered.head()"
   ]
  },
  {
   "cell_type": "code",
   "execution_count": 30,
   "metadata": {},
   "outputs": [],
   "source": [
    "customers_clustered.to_pickle('customers_clustered')"
   ]
  },
  {
   "cell_type": "markdown",
   "metadata": {},
   "source": [
    "### Comparision between clusters "
   ]
  },
  {
   "cell_type": "code",
   "execution_count": 58,
   "metadata": {},
   "outputs": [
    {
     "data": {
      "image/png": "[encoded data removed]",
      "text/plain": [
       "<Figure size 1440x720 with 1 Axes>"
      ]
     },
     "metadata": {
      "needs_background": "light"
     },
     "output_type": "display_data"
    }
   ],
   "source": [
    "plt.figure(figsize=(20,10))\n",
    "(customers_clustered.cluster.value_counts().sort_index()/customers_clustered.shape[0]).plot.bar(alpha=0.5,color='red', label='customers')\n",
    "(azdias_clustered.cluster.value_counts().sort_index()/azdias_clustered.shape[0]).plot.bar(alpha=0.5, label = 'population')\n",
    "plt.ylim([0,0.32])\n",
    "plt.legend()\n",
    "plt.xlabel('Cluster #')\n",
    "plt.ylabel('Count (%)');"
   ]
  },
  {
   "cell_type": "markdown",
   "metadata": {},
   "source": [
    "It's clear that the customer sub-population is represented by the clusters 10, 12 and 2 principally. People in this three clusters are the company's target. Which PC are associated with this clusters? And with the most underrepresented (13, 5, 6, 8) ?"
   ]
  },
  {
   "cell_type": "code",
   "execution_count": 100,
   "metadata": {},
   "outputs": [],
   "source": [
    "weights_10 = kmeans_fitted.cluster_centers_[10]\n",
    "weights_12 = kmeans_fitted.cluster_centers_[12]\n",
    "weights_2 = kmeans_fitted.cluster_centers_[2]\n",
    "\n",
    "weights_13 = kmeans_fitted.cluster_centers_[13]\n",
    "weights_5 = kmeans_fitted.cluster_centers_[5]\n",
    "weights_6 = kmeans_fitted.cluster_centers_[6]\n",
    "weights_8 = kmeans_fitted.cluster_centers_[8]\n",
    "\n",
    "components = list(range(0, 170))"
   ]
  },
  {
   "cell_type": "code",
   "execution_count": 101,
   "metadata": {},
   "outputs": [
    {
     "data": {
      "image/png": "[encoded data removed]",
      "text/plain": [
       "<Figure size 1440x720 with 1 Axes>"
      ]
     },
     "metadata": {
      "needs_background": "light"
     },
     "output_type": "display_data"
    }
   ],
   "source": [
    "plt.figure(figsize=(20,10))\n",
    "plt.plot(components, weights_10)\n",
    "plt.plot(components, weights_12)\n",
    "plt.plot(components, weights_2)\n",
    "plt.plot(components, weights_13)\n",
    "plt.plot(components, weights_5)\n",
    "plt.plot(components, weights_6)\n",
    "plt.plot(components, weights_8);"
   ]
  },
  {
   "cell_type": "markdown",
   "metadata": {},
   "source": [
    "zoom in:"
   ]
  },
  {
   "cell_type": "code",
   "execution_count": 117,
   "metadata": {},
   "outputs": [
    {
     "data": {
      "image/png": "[encoded data removed]",
      "text/plain": [
       "<Figure size 1440x720 with 1 Axes>"
      ]
     },
     "metadata": {
      "needs_background": "light"
     },
     "output_type": "display_data"
    }
   ],
   "source": [
    "plt.figure(figsize=(20,10))\n",
    "plt.plot(components, weights_10, color = 'blue', marker='o', label='overrepresented')\n",
    "plt.plot(components, weights_12, color = 'blue', marker='o')\n",
    "plt.plot(components, weights_2, color = 'blue', marker='o')\n",
    "plt.plot(components, weights_13, color = 'green', marker='o',  label='underrepresented')\n",
    "plt.plot(components, weights_5, color = 'green', marker='o')\n",
    "plt.plot(components, weights_6, color = 'green', marker='o')\n",
    "plt.plot(components, weights_8, color = 'green', marker='o')\n",
    "plt.xlim(-0.2,10)\n",
    "plt.legend()\n",
    "plt.ylabel('Centroid value')\n",
    "plt.xlabel('PC #');"
   ]
  },
  {
   "cell_type": "markdown",
   "metadata": {},
   "source": [
    "It's really difficult to do an exhaustive analysis of the situation but there is one clear conclusion:\n",
    "\n",
    "For the Principal component # 0 all the underrepresented clusters have a value less than 1 and the overrepresented have a bigger value. Almost the opossite happens for the PC # 1.\n",
    "\n",
    "As we have seen before, the PC # 0 is most related with the columns: MOBI_REGIO,  PLZ8_ANTG1, KBA13_ANTG1, KBA05_ANTG1, LP_STATUS_FEIN, KBA13_BAUMAX, HH_EINKOMMEN_SCORE, KBA13_ANTG4, KBA13_ANTG3, PLZ8_ANTG3"
   ]
  },
  {
   "cell_type": "markdown",
   "metadata": {},
   "source": [
    "Let's take a look on how this features differs for a large or low value of PC # 0"
   ]
  },
  {
   "cell_type": "code",
   "execution_count": 131,
   "metadata": {},
   "outputs": [],
   "source": [
    "columns_pc0 = ['MOBI_REGIO', 'PLZ8_ANTG1', 'KBA13_ANTG1', 'KBA05_ANTG1', 'LP_STATUS_FEIN', 'KBA13_BAUMAX', 'HH_EINKOMMEN_SCORE', 'KBA13_ANTG4', 'KBA13_ANTG3', 'PLZ8_ANTG3']\n",
    "azdias_sub = azdias[columns_pc0]"
   ]
  },
  {
   "cell_type": "code",
   "execution_count": 132,
   "metadata": {},
   "outputs": [
    {
     "name": "stderr",
     "output_type": "stream",
     "text": [
      "/home/caro/anaconda3/lib/python3.7/site-packages/ipykernel_launcher.py:1: SettingWithCopyWarning: \n",
      "A value is trying to be set on a copy of a slice from a DataFrame.\n",
      "Try using .loc[row_indexer,col_indexer] = value instead\n",
      "\n",
      "See the caveats in the documentation: http://pandas.pydata.org/pandas-docs/stable/indexing.html#indexing-view-versus-copy\n",
      "  \"\"\"Entry point for launching an IPython kernel.\n"
     ]
    }
   ],
   "source": [
    "azdias_sub['pc0'] = azdias_red[0]"
   ]
  },
  {
   "cell_type": "code",
   "execution_count": 160,
   "metadata": {},
   "outputs": [
    {
     "name": "stderr",
     "output_type": "stream",
     "text": [
      "/home/caro/anaconda3/lib/python3.7/site-packages/pandas/core/frame.py:3940: SettingWithCopyWarning: \n",
      "A value is trying to be set on a copy of a slice from a DataFrame\n",
      "\n",
      "See the caveats in the documentation: http://pandas.pydata.org/pandas-docs/stable/indexing.html#indexing-view-versus-copy\n",
      "  errors=errors)\n"
     ]
    }
   ],
   "source": [
    "azdias_down = azdias_sub[azdias_sub.pc0 < 1.0]\n",
    "azdias_down.drop('pc0',axis=1,inplace=True)"
   ]
  },
  {
   "cell_type": "code",
   "execution_count": 161,
   "metadata": {},
   "outputs": [],
   "source": [
    "azdias_up = azdias_sub[azdias_sub.pc0 >= 1.0]\n",
    "azdias_up.drop('pc0',axis=1,inplace=True)"
   ]
  },
  {
   "cell_type": "code",
   "execution_count": 201,
   "metadata": {},
   "outputs": [
    {
     "data": {
      "image/png": "[encoded data removed]",
      "text/plain": [
       "<Figure size 720x360 with 2 Axes>"
      ]
     },
     "metadata": {
      "needs_background": "light"
     },
     "output_type": "display_data"
    }
   ],
   "source": [
    "fig, ax = plt.subplots(1,2,figsize=(10,5),sharey=True)\n",
    "ax[0].set_title('no client')\n",
    "ax[0].boxplot(azdias_down.MOBI_REGIO)\n",
    "ax[1].set_title('client')\n",
    "ax[1].boxplot(azdias_up.MOBI_REGIO)\n",
    "fig.suptitle('MOBI_REGIO');"
   ]
  },
  {
   "cell_type": "code",
   "execution_count": 202,
   "metadata": {},
   "outputs": [
    {
     "data": {
      "image/png": "[encoded data removed]",
      "text/plain": [
       "<Figure size 720x360 with 2 Axes>"
      ]
     },
     "metadata": {
      "needs_background": "light"
     },
     "output_type": "display_data"
    }
   ],
   "source": [
    "fig, ax = plt.subplots(1,2,figsize=(10,5),sharey=True)\n",
    "ax[0].set_title('no client')\n",
    "ax[0].boxplot(azdias_down.PLZ8_ANTG1)\n",
    "ax[1].set_title('client')\n",
    "ax[1].boxplot(azdias_up.PLZ8_ANTG1)\n",
    "fig.suptitle('PLZ8_ANTG1');"
   ]
  },
  {
   "cell_type": "code",
   "execution_count": 203,
   "metadata": {},
   "outputs": [
    {
     "data": {
      "image/png": "[encoded data removed]",
      "text/plain": [
       "<Figure size 720x360 with 2 Axes>"
      ]
     },
     "metadata": {
      "needs_background": "light"
     },
     "output_type": "display_data"
    }
   ],
   "source": [
    "fig, ax = plt.subplots(1,2,figsize=(10,5),sharey=True)\n",
    "ax[0].set_title('no client')\n",
    "ax[0].boxplot(azdias_down.KBA13_ANTG1)\n",
    "ax[1].set_title('client')\n",
    "ax[1].boxplot(azdias_up.KBA13_ANTG1)\n",
    "fig.suptitle('KBA13_ANTG1');"
   ]
  },
  {
   "cell_type": "code",
   "execution_count": 204,
   "metadata": {},
   "outputs": [
    {
     "data": {
      "image/png": "[encoded data removed]",
      "text/plain": [
       "<Figure size 720x360 with 2 Axes>"
      ]
     },
     "metadata": {
      "needs_background": "light"
     },
     "output_type": "display_data"
    }
   ],
   "source": [
    "fig, ax = plt.subplots(1,2,figsize=(10,5),sharey=True)\n",
    "ax[0].set_title('no client')\n",
    "ax[0].boxplot(azdias_down.KBA05_ANTG1)\n",
    "ax[1].set_title('client')\n",
    "ax[1].boxplot(azdias_up.KBA05_ANTG1)\n",
    "fig.suptitle('KBA05_ANTG1');"
   ]
  },
  {
   "cell_type": "code",
   "execution_count": 205,
   "metadata": {},
   "outputs": [
    {
     "data": {
      "image/png": "[encoded data removed]",
      "text/plain": [
       "<Figure size 720x360 with 2 Axes>"
      ]
     },
     "metadata": {
      "needs_background": "light"
     },
     "output_type": "display_data"
    }
   ],
   "source": [
    "fig, ax = plt.subplots(1,2,figsize=(10,5),sharey=True)\n",
    "ax[0].set_title('no client')\n",
    "ax[0].boxplot(azdias_down.LP_STATUS_FEIN)\n",
    "ax[1].set_title('client')\n",
    "ax[1].boxplot(azdias_up.LP_STATUS_FEIN)\n",
    "fig.suptitle('LP_STATUS_FEIN');"
   ]
  },
  {
   "cell_type": "markdown",
   "metadata": {},
   "source": [
    "For all the previous features in general we can associate positive values with clients and negative values with no clients. Since all this features are scaled to mean=0 the this means values above and under the mean.\n",
    "\n",
    "- The MOBI_REGIO column is related with the mobility, high values (clients) indicates low mobility.\n",
    "- The PLZ8_ANTG1 column indicates the number of 1-2 family houses in PLZ8 (similar to zipcode), high values (clients) indicates more houses.\n",
    "- The KBA05_ANTG1 column is the same but by cell.\n",
    "- The LP_STATUS_FEIN column is related with social status, high values (clients) indicates better status."
   ]
  },
  {
   "cell_type": "code",
   "execution_count": 212,
   "metadata": {},
   "outputs": [
    {
     "data": {
      "image/png": "[encoded data removed]",
      "text/plain": [
       "<Figure size 720x360 with 2 Axes>"
      ]
     },
     "metadata": {
      "needs_background": "light"
     },
     "output_type": "display_data"
    }
   ],
   "source": [
    "fig, ax = plt.subplots(1,2,figsize=(10,5),sharey=True)\n",
    "ax[0].set_title('no client')\n",
    "ax[0].boxplot(azdias_down.PLZ8_ANTG3)\n",
    "ax[1].set_title('client')\n",
    "ax[1].boxplot(azdias_up.PLZ8_ANTG3)\n",
    "fig.suptitle('PLZ8_ANTG3');"
   ]
  },
  {
   "cell_type": "code",
   "execution_count": 211,
   "metadata": {},
   "outputs": [
    {
     "data": {
      "image/png": "[encoded data removed]",
      "text/plain": [
       "<Figure size 720x360 with 2 Axes>"
      ]
     },
     "metadata": {
      "needs_background": "light"
     },
     "output_type": "display_data"
    }
   ],
   "source": [
    "fig, ax = plt.subplots(1,2,figsize=(10,5),sharey=True)\n",
    "ax[0].set_title('no client')\n",
    "ax[0].boxplot(azdias_down.KBA13_ANTG3)\n",
    "ax[1].set_title('client')\n",
    "ax[1].boxplot(azdias_up.KBA13_ANTG3)\n",
    "fig.suptitle('KBA13_ANTG3');"
   ]
  },
  {
   "cell_type": "code",
   "execution_count": 208,
   "metadata": {},
   "outputs": [
    {
     "data": {
      "image/png": "[encoded data removed]",
      "text/plain": [
       "<Figure size 720x360 with 2 Axes>"
      ]
     },
     "metadata": {
      "needs_background": "light"
     },
     "output_type": "display_data"
    }
   ],
   "source": [
    "fig, ax = plt.subplots(1,2,figsize=(10,5),sharey=True)\n",
    "ax[0].set_title('no client')\n",
    "ax[0].boxplot(azdias_down.HH_EINKOMMEN_SCORE)\n",
    "ax[1].set_title('client')\n",
    "ax[1].boxplot(azdias_up.HH_EINKOMMEN_SCORE)\n",
    "fig.suptitle('HH_EINKOMMEN_SCORE');"
   ]
  },
  {
   "cell_type": "markdown",
   "metadata": {},
   "source": [
    "For this three features the opposity ocurs.\n",
    "\n",
    "- The columns PLZ8_ANTG3 and KBA13_ANTG3 indicates the amount of 6-10 family houses, low values (clients) indicates few houses. \n",
    "- The HH_EINKOMMEN_SCORE indicates income, low values (clients) are the highest incomes."
   ]
  },
  {
   "cell_type": "code",
   "execution_count": 206,
   "metadata": {},
   "outputs": [
    {
     "data": {
      "image/png": "[encoded data removed]",
      "text/plain": [
       "<Figure size 720x360 with 2 Axes>"
      ]
     },
     "metadata": {
      "needs_background": "light"
     },
     "output_type": "display_data"
    }
   ],
   "source": [
    "fig, ax = plt.subplots(1,2,figsize=(10,5),sharey=True)\n",
    "ax[0].set_title('no client')\n",
    "ax[0].boxplot(azdias_down.KBA13_BAUMAX)\n",
    "ax[1].set_title('client')\n",
    "ax[1].boxplot(azdias_up.KBA13_BAUMAX)\n",
    "fig.suptitle('KBA13_BAUMAX');"
   ]
  },
  {
   "cell_type": "code",
   "execution_count": 207,
   "metadata": {},
   "outputs": [
    {
     "data": {
      "text/plain": [
       "count    320153.000000\n",
       "mean         -0.589989\n",
       "std           0.382738\n",
       "min          -0.682538\n",
       "25%          -0.682538\n",
       "50%          -0.682538\n",
       "75%          -0.682538\n",
       "max           1.961795\n",
       "Name: KBA13_BAUMAX, dtype: float64"
      ]
     },
     "execution_count": 207,
     "metadata": {},
     "output_type": "execute_result"
    }
   ],
   "source": [
    "azdias_up.KBA13_BAUMAX.describe()"
   ]
  },
  {
   "cell_type": "code",
   "execution_count": 210,
   "metadata": {},
   "outputs": [
    {
     "data": {
      "image/png": "[encoded data removed]",
      "text/plain": [
       "<Figure size 720x360 with 2 Axes>"
      ]
     },
     "metadata": {
      "needs_background": "light"
     },
     "output_type": "display_data"
    }
   ],
   "source": [
    "fig, ax = plt.subplots(1,2,figsize=(10,5),sharey=True)\n",
    "ax[0].set_title('no client')\n",
    "ax[0].boxplot(azdias_down.KBA13_ANTG4)\n",
    "ax[1].set_title('client')\n",
    "ax[1].boxplot(azdias_up.KBA13_ANTG4)\n",
    "fig.suptitle('KBA13_ANTG4');"
   ]
  },
  {
   "cell_type": "markdown",
   "metadata": {},
   "source": [
    "For this last two features we have a very narrow value for clients. This columns are not in the metadata so I don't know their meanning."
   ]
  },
  {
   "cell_type": "markdown",
   "metadata": {},
   "source": [
    "**Conclusion**\n",
    "\n",
    "We are looking for people with high income, high social status, low mobility and a neighborhood with houses of 1-2 families."
   ]
  },
  {
   "cell_type": "markdown",
   "metadata": {},
   "source": [
    "## Part 2: Supervised Learning Model\n",
    "\n",
    "Now that you've found which parts of the population are more likely to be customers of the mail-order company, it's time to build a prediction model. Each of the rows in the \"MAILOUT\" data files represents an individual that was targeted for a mailout campaign. Ideally, we should be able to use the demographic information from each individual to decide whether or not it will be worth it to include that person in the campaign.\n",
    "\n",
    "The \"MAILOUT\" data has been split into two approximately equal parts, each with almost 43 000 data rows. In this part, you can verify your model with the \"TRAIN\" partition, which includes a column, \"RESPONSE\", that states whether or not a person became a customer of the company following the campaign. In the next part, you'll need to create predictions on the \"TEST\" partition, where the \"RESPONSE\" column has been withheld."
   ]
  },
  {
   "cell_type": "markdown",
   "metadata": {},
   "source": [
    "**Clean data**"
   ]
  },
  {
   "cell_type": "code",
   "execution_count": null,
   "metadata": {},
   "outputs": [],
   "source": [
    "mailout_train = pd.read_csv('../../data/Term2/capstone/arvato_data/Udacity_MAILOUT_052018_TRAIN.csv', sep=';')"
   ]
  },
  {
   "cell_type": "code",
   "execution_count": 5,
   "metadata": {},
   "outputs": [
    {
     "name": "stderr",
     "output_type": "stream",
     "text": [
      "/home/caro/anaconda3/lib/python3.7/site-packages/IPython/core/interactiveshell.py:3049: DtypeWarning: Columns (18,19) have mixed types. Specify dtype option on import or set low_memory=False.\n",
      "  interactivity=interactivity, compiler=compiler, result=result)\n"
     ]
    }
   ],
   "source": [
    "mailout_train = pd.read_csv('mailout_train.csv', sep=';')"
   ]
  },
  {
   "cell_type": "code",
   "execution_count": 6,
   "metadata": {
    "scrolled": true
   },
   "outputs": [
    {
     "name": "stderr",
     "output_type": "stream",
     "text": [
      "/home/caro/anaconda3/lib/python3.7/site-packages/sklearn/utils/deprecation.py:58: DeprecationWarning: Class Imputer is deprecated; Imputer was deprecated in version 0.20 and will be removed in 0.22. Import impute.SimpleImputer from sklearn instead.\n",
      "  warnings.warn(msg, category=DeprecationWarning)\n"
     ]
    }
   ],
   "source": [
    "train_clean = clean_df4(mailout_train)"
   ]
  },
  {
   "cell_type": "code",
   "execution_count": 7,
   "metadata": {},
   "outputs": [
    {
     "data": {
      "text/html": [
       "<div>\n",
       "<style scoped>\n",
       "    .dataframe tbody tr th:only-of-type {\n",
       "        vertical-align: middle;\n",
       "    }\n",
       "\n",
       "    .dataframe tbody tr th {\n",
       "        vertical-align: top;\n",
       "    }\n",
       "\n",
       "    .dataframe thead th {\n",
       "        text-align: right;\n",
       "    }\n",
       "</style>\n",
       "<table border=\"1\" class=\"dataframe\">\n",
       "  <thead>\n",
       "    <tr style=\"text-align: right;\">\n",
       "      <th></th>\n",
       "      <th>AKT_DAT_KL</th>\n",
       "      <th>ALTER_HH</th>\n",
       "      <th>ALTERSKATEGORIE_FEIN</th>\n",
       "      <th>ANZ_HAUSHALTE_AKTIV</th>\n",
       "      <th>ANZ_HH_TITEL</th>\n",
       "      <th>ANZ_KINDER</th>\n",
       "      <th>ANZ_PERSONEN</th>\n",
       "      <th>ANZ_TITEL</th>\n",
       "      <th>ARBEIT</th>\n",
       "      <th>BALLRAUM</th>\n",
       "      <th>...</th>\n",
       "      <th>CAMEO_DEU_2015_7E</th>\n",
       "      <th>CAMEO_DEU_2015_8A</th>\n",
       "      <th>CAMEO_DEU_2015_8B</th>\n",
       "      <th>CAMEO_DEU_2015_8C</th>\n",
       "      <th>CAMEO_DEU_2015_8D</th>\n",
       "      <th>CAMEO_DEU_2015_9A</th>\n",
       "      <th>CAMEO_DEU_2015_9B</th>\n",
       "      <th>CAMEO_DEU_2015_9C</th>\n",
       "      <th>CAMEO_DEU_2015_9D</th>\n",
       "      <th>CAMEO_DEU_2015_9E</th>\n",
       "    </tr>\n",
       "  </thead>\n",
       "  <tbody>\n",
       "    <tr>\n",
       "      <th>0</th>\n",
       "      <td>1.0</td>\n",
       "      <td>8.0</td>\n",
       "      <td>8.0</td>\n",
       "      <td>15.0</td>\n",
       "      <td>0.0</td>\n",
       "      <td>0.0</td>\n",
       "      <td>1.0</td>\n",
       "      <td>0.0</td>\n",
       "      <td>3.0</td>\n",
       "      <td>5.0</td>\n",
       "      <td>...</td>\n",
       "      <td>0.0</td>\n",
       "      <td>0.0</td>\n",
       "      <td>0.0</td>\n",
       "      <td>0.0</td>\n",
       "      <td>0.0</td>\n",
       "      <td>0.0</td>\n",
       "      <td>0.0</td>\n",
       "      <td>0.0</td>\n",
       "      <td>0.0</td>\n",
       "      <td>0.0</td>\n",
       "    </tr>\n",
       "    <tr>\n",
       "      <th>1</th>\n",
       "      <td>4.0</td>\n",
       "      <td>13.0</td>\n",
       "      <td>13.0</td>\n",
       "      <td>1.0</td>\n",
       "      <td>0.0</td>\n",
       "      <td>0.0</td>\n",
       "      <td>2.0</td>\n",
       "      <td>0.0</td>\n",
       "      <td>2.0</td>\n",
       "      <td>5.0</td>\n",
       "      <td>...</td>\n",
       "      <td>0.0</td>\n",
       "      <td>0.0</td>\n",
       "      <td>0.0</td>\n",
       "      <td>0.0</td>\n",
       "      <td>0.0</td>\n",
       "      <td>0.0</td>\n",
       "      <td>0.0</td>\n",
       "      <td>0.0</td>\n",
       "      <td>0.0</td>\n",
       "      <td>0.0</td>\n",
       "    </tr>\n",
       "    <tr>\n",
       "      <th>2</th>\n",
       "      <td>1.0</td>\n",
       "      <td>9.0</td>\n",
       "      <td>7.0</td>\n",
       "      <td>0.0</td>\n",
       "      <td>0.0</td>\n",
       "      <td>0.0</td>\n",
       "      <td>0.0</td>\n",
       "      <td>0.0</td>\n",
       "      <td>4.0</td>\n",
       "      <td>1.0</td>\n",
       "      <td>...</td>\n",
       "      <td>0.0</td>\n",
       "      <td>0.0</td>\n",
       "      <td>0.0</td>\n",
       "      <td>0.0</td>\n",
       "      <td>0.0</td>\n",
       "      <td>0.0</td>\n",
       "      <td>0.0</td>\n",
       "      <td>0.0</td>\n",
       "      <td>0.0</td>\n",
       "      <td>0.0</td>\n",
       "    </tr>\n",
       "    <tr>\n",
       "      <th>3</th>\n",
       "      <td>1.0</td>\n",
       "      <td>6.0</td>\n",
       "      <td>6.0</td>\n",
       "      <td>4.0</td>\n",
       "      <td>0.0</td>\n",
       "      <td>0.0</td>\n",
       "      <td>2.0</td>\n",
       "      <td>0.0</td>\n",
       "      <td>4.0</td>\n",
       "      <td>2.0</td>\n",
       "      <td>...</td>\n",
       "      <td>0.0</td>\n",
       "      <td>0.0</td>\n",
       "      <td>0.0</td>\n",
       "      <td>0.0</td>\n",
       "      <td>0.0</td>\n",
       "      <td>0.0</td>\n",
       "      <td>0.0</td>\n",
       "      <td>0.0</td>\n",
       "      <td>0.0</td>\n",
       "      <td>0.0</td>\n",
       "    </tr>\n",
       "    <tr>\n",
       "      <th>4</th>\n",
       "      <td>1.0</td>\n",
       "      <td>9.0</td>\n",
       "      <td>9.0</td>\n",
       "      <td>53.0</td>\n",
       "      <td>0.0</td>\n",
       "      <td>0.0</td>\n",
       "      <td>1.0</td>\n",
       "      <td>0.0</td>\n",
       "      <td>3.0</td>\n",
       "      <td>4.0</td>\n",
       "      <td>...</td>\n",
       "      <td>0.0</td>\n",
       "      <td>0.0</td>\n",
       "      <td>0.0</td>\n",
       "      <td>0.0</td>\n",
       "      <td>0.0</td>\n",
       "      <td>0.0</td>\n",
       "      <td>0.0</td>\n",
       "      <td>0.0</td>\n",
       "      <td>0.0</td>\n",
       "      <td>0.0</td>\n",
       "    </tr>\n",
       "  </tbody>\n",
       "</table>\n",
       "<p>5 rows × 426 columns</p>\n",
       "</div>"
      ],
      "text/plain": [
       "   AKT_DAT_KL  ALTER_HH  ALTERSKATEGORIE_FEIN  ANZ_HAUSHALTE_AKTIV  \\\n",
       "0         1.0       8.0                   8.0                 15.0   \n",
       "1         4.0      13.0                  13.0                  1.0   \n",
       "2         1.0       9.0                   7.0                  0.0   \n",
       "3         1.0       6.0                   6.0                  4.0   \n",
       "4         1.0       9.0                   9.0                 53.0   \n",
       "\n",
       "   ANZ_HH_TITEL  ANZ_KINDER  ANZ_PERSONEN  ANZ_TITEL  ARBEIT  BALLRAUM  ...  \\\n",
       "0           0.0         0.0           1.0        0.0     3.0       5.0  ...   \n",
       "1           0.0         0.0           2.0        0.0     2.0       5.0  ...   \n",
       "2           0.0         0.0           0.0        0.0     4.0       1.0  ...   \n",
       "3           0.0         0.0           2.0        0.0     4.0       2.0  ...   \n",
       "4           0.0         0.0           1.0        0.0     3.0       4.0  ...   \n",
       "\n",
       "   CAMEO_DEU_2015_7E  CAMEO_DEU_2015_8A  CAMEO_DEU_2015_8B  CAMEO_DEU_2015_8C  \\\n",
       "0                0.0                0.0                0.0                0.0   \n",
       "1                0.0                0.0                0.0                0.0   \n",
       "2                0.0                0.0                0.0                0.0   \n",
       "3                0.0                0.0                0.0                0.0   \n",
       "4                0.0                0.0                0.0                0.0   \n",
       "\n",
       "   CAMEO_DEU_2015_8D  CAMEO_DEU_2015_9A  CAMEO_DEU_2015_9B  CAMEO_DEU_2015_9C  \\\n",
       "0                0.0                0.0                0.0                0.0   \n",
       "1                0.0                0.0                0.0                0.0   \n",
       "2                0.0                0.0                0.0                0.0   \n",
       "3                0.0                0.0                0.0                0.0   \n",
       "4                0.0                0.0                0.0                0.0   \n",
       "\n",
       "   CAMEO_DEU_2015_9D  CAMEO_DEU_2015_9E  \n",
       "0                0.0                0.0  \n",
       "1                0.0                0.0  \n",
       "2                0.0                0.0  \n",
       "3                0.0                0.0  \n",
       "4                0.0                0.0  \n",
       "\n",
       "[5 rows x 426 columns]"
      ]
     },
     "execution_count": 7,
     "metadata": {},
     "output_type": "execute_result"
    }
   ],
   "source": [
    "train_clean.head()"
   ]
  },
  {
   "cell_type": "code",
   "execution_count": 8,
   "metadata": {},
   "outputs": [
    {
     "data": {
      "text/plain": [
       "(33834, 426)"
      ]
     },
     "execution_count": 8,
     "metadata": {},
     "output_type": "execute_result"
    }
   ],
   "source": [
    "train_clean.shape"
   ]
  },
  {
   "cell_type": "markdown",
   "metadata": {},
   "source": [
    "**Separate features from target**"
   ]
  },
  {
   "cell_type": "code",
   "execution_count": 9,
   "metadata": {},
   "outputs": [],
   "source": [
    "y_train = train_clean['RESPONSE']"
   ]
  },
  {
   "cell_type": "code",
   "execution_count": 10,
   "metadata": {},
   "outputs": [],
   "source": [
    "X_train = train_clean.drop('RESPONSE',axis=1)"
   ]
  },
  {
   "cell_type": "code",
   "execution_count": 11,
   "metadata": {},
   "outputs": [
    {
     "data": {
      "image/png": "[encoded data removed]",
      "text/plain": [
       "<Figure size 432x288 with 1 Axes>"
      ]
     },
     "metadata": {
      "needs_background": "light"
     },
     "output_type": "display_data"
    }
   ],
   "source": [
    "y_train.value_counts().plot.bar();"
   ]
  },
  {
   "cell_type": "markdown",
   "metadata": {},
   "source": [
    "Since the data is very imbalanced I will not going to split it in train and validation data. I will work only with train data and then see what happens in Part 3 with test data."
   ]
  },
  {
   "cell_type": "markdown",
   "metadata": {},
   "source": [
    "Also, due to the imbalance, we will not be using accuracy as metric. Insted, we will use roc_auc to evaluate the performance of the models (this is the metric that will be used in the kaggle step)."
   ]
  },
  {
   "cell_type": "markdown",
   "metadata": {},
   "source": [
    "**Scale the data**"
   ]
  },
  {
   "cell_type": "code",
   "execution_count": 12,
   "metadata": {},
   "outputs": [
    {
     "data": {
      "text/html": [
       "<div>\n",
       "<style scoped>\n",
       "    .dataframe tbody tr th:only-of-type {\n",
       "        vertical-align: middle;\n",
       "    }\n",
       "\n",
       "    .dataframe tbody tr th {\n",
       "        vertical-align: top;\n",
       "    }\n",
       "\n",
       "    .dataframe thead th {\n",
       "        text-align: right;\n",
       "    }\n",
       "</style>\n",
       "<table border=\"1\" class=\"dataframe\">\n",
       "  <thead>\n",
       "    <tr style=\"text-align: right;\">\n",
       "      <th></th>\n",
       "      <th>AKT_DAT_KL</th>\n",
       "      <th>ALTER_HH</th>\n",
       "      <th>ALTERSKATEGORIE_FEIN</th>\n",
       "      <th>ANZ_HAUSHALTE_AKTIV</th>\n",
       "      <th>ANZ_HH_TITEL</th>\n",
       "      <th>ANZ_KINDER</th>\n",
       "      <th>ANZ_PERSONEN</th>\n",
       "      <th>ANZ_TITEL</th>\n",
       "      <th>ARBEIT</th>\n",
       "      <th>BALLRAUM</th>\n",
       "      <th>...</th>\n",
       "      <th>CAMEO_DEU_2015_7E</th>\n",
       "      <th>CAMEO_DEU_2015_8A</th>\n",
       "      <th>CAMEO_DEU_2015_8B</th>\n",
       "      <th>CAMEO_DEU_2015_8C</th>\n",
       "      <th>CAMEO_DEU_2015_8D</th>\n",
       "      <th>CAMEO_DEU_2015_9A</th>\n",
       "      <th>CAMEO_DEU_2015_9B</th>\n",
       "      <th>CAMEO_DEU_2015_9C</th>\n",
       "      <th>CAMEO_DEU_2015_9D</th>\n",
       "      <th>CAMEO_DEU_2015_9E</th>\n",
       "    </tr>\n",
       "  </thead>\n",
       "  <tbody>\n",
       "    <tr>\n",
       "      <th>0</th>\n",
       "      <td>-0.291009</td>\n",
       "      <td>-0.942955</td>\n",
       "      <td>-0.420558</td>\n",
       "      <td>0.570479</td>\n",
       "      <td>-0.128464</td>\n",
       "      <td>-0.221426</td>\n",
       "      <td>-0.757382</td>\n",
       "      <td>-0.091173</td>\n",
       "      <td>-0.045285</td>\n",
       "      <td>0.336489</td>\n",
       "      <td>...</td>\n",
       "      <td>-0.104285</td>\n",
       "      <td>-0.220002</td>\n",
       "      <td>-0.169785</td>\n",
       "      <td>-0.1957</td>\n",
       "      <td>-0.185712</td>\n",
       "      <td>-0.117402</td>\n",
       "      <td>-0.123217</td>\n",
       "      <td>-0.111028</td>\n",
       "      <td>-0.138744</td>\n",
       "      <td>-0.087144</td>\n",
       "    </tr>\n",
       "    <tr>\n",
       "      <th>1</th>\n",
       "      <td>1.489248</td>\n",
       "      <td>0.281558</td>\n",
       "      <td>0.739963</td>\n",
       "      <td>-0.372537</td>\n",
       "      <td>-0.128464</td>\n",
       "      <td>-0.221426</td>\n",
       "      <td>-0.024918</td>\n",
       "      <td>-0.091173</td>\n",
       "      <td>-1.011964</td>\n",
       "      <td>0.336489</td>\n",
       "      <td>...</td>\n",
       "      <td>-0.104285</td>\n",
       "      <td>-0.220002</td>\n",
       "      <td>-0.169785</td>\n",
       "      <td>-0.1957</td>\n",
       "      <td>-0.185712</td>\n",
       "      <td>-0.117402</td>\n",
       "      <td>-0.123217</td>\n",
       "      <td>-0.111028</td>\n",
       "      <td>-0.138744</td>\n",
       "      <td>-0.087144</td>\n",
       "    </tr>\n",
       "    <tr>\n",
       "      <th>2</th>\n",
       "      <td>-0.291009</td>\n",
       "      <td>-0.698052</td>\n",
       "      <td>-0.652662</td>\n",
       "      <td>-0.439895</td>\n",
       "      <td>-0.128464</td>\n",
       "      <td>-0.221426</td>\n",
       "      <td>-1.489846</td>\n",
       "      <td>-0.091173</td>\n",
       "      <td>0.921393</td>\n",
       "      <td>-1.487555</td>\n",
       "      <td>...</td>\n",
       "      <td>-0.104285</td>\n",
       "      <td>-0.220002</td>\n",
       "      <td>-0.169785</td>\n",
       "      <td>-0.1957</td>\n",
       "      <td>-0.185712</td>\n",
       "      <td>-0.117402</td>\n",
       "      <td>-0.123217</td>\n",
       "      <td>-0.111028</td>\n",
       "      <td>-0.138744</td>\n",
       "      <td>-0.087144</td>\n",
       "    </tr>\n",
       "    <tr>\n",
       "      <th>3</th>\n",
       "      <td>-0.291009</td>\n",
       "      <td>-1.432760</td>\n",
       "      <td>-0.884766</td>\n",
       "      <td>-0.170462</td>\n",
       "      <td>-0.128464</td>\n",
       "      <td>-0.221426</td>\n",
       "      <td>-0.024918</td>\n",
       "      <td>-0.091173</td>\n",
       "      <td>0.921393</td>\n",
       "      <td>-1.031544</td>\n",
       "      <td>...</td>\n",
       "      <td>-0.104285</td>\n",
       "      <td>-0.220002</td>\n",
       "      <td>-0.169785</td>\n",
       "      <td>-0.1957</td>\n",
       "      <td>-0.185712</td>\n",
       "      <td>-0.117402</td>\n",
       "      <td>-0.123217</td>\n",
       "      <td>-0.111028</td>\n",
       "      <td>-0.138744</td>\n",
       "      <td>-0.087144</td>\n",
       "    </tr>\n",
       "    <tr>\n",
       "      <th>4</th>\n",
       "      <td>-0.291009</td>\n",
       "      <td>-0.698052</td>\n",
       "      <td>-0.188453</td>\n",
       "      <td>3.130094</td>\n",
       "      <td>-0.128464</td>\n",
       "      <td>-0.221426</td>\n",
       "      <td>-0.757382</td>\n",
       "      <td>-0.091173</td>\n",
       "      <td>-0.045285</td>\n",
       "      <td>-0.119522</td>\n",
       "      <td>...</td>\n",
       "      <td>-0.104285</td>\n",
       "      <td>-0.220002</td>\n",
       "      <td>-0.169785</td>\n",
       "      <td>-0.1957</td>\n",
       "      <td>-0.185712</td>\n",
       "      <td>-0.117402</td>\n",
       "      <td>-0.123217</td>\n",
       "      <td>-0.111028</td>\n",
       "      <td>-0.138744</td>\n",
       "      <td>-0.087144</td>\n",
       "    </tr>\n",
       "  </tbody>\n",
       "</table>\n",
       "<p>5 rows × 425 columns</p>\n",
       "</div>"
      ],
      "text/plain": [
       "   AKT_DAT_KL  ALTER_HH  ALTERSKATEGORIE_FEIN  ANZ_HAUSHALTE_AKTIV  \\\n",
       "0   -0.291009 -0.942955             -0.420558             0.570479   \n",
       "1    1.489248  0.281558              0.739963            -0.372537   \n",
       "2   -0.291009 -0.698052             -0.652662            -0.439895   \n",
       "3   -0.291009 -1.432760             -0.884766            -0.170462   \n",
       "4   -0.291009 -0.698052             -0.188453             3.130094   \n",
       "\n",
       "   ANZ_HH_TITEL  ANZ_KINDER  ANZ_PERSONEN  ANZ_TITEL    ARBEIT  BALLRAUM  ...  \\\n",
       "0     -0.128464   -0.221426     -0.757382  -0.091173 -0.045285  0.336489  ...   \n",
       "1     -0.128464   -0.221426     -0.024918  -0.091173 -1.011964  0.336489  ...   \n",
       "2     -0.128464   -0.221426     -1.489846  -0.091173  0.921393 -1.487555  ...   \n",
       "3     -0.128464   -0.221426     -0.024918  -0.091173  0.921393 -1.031544  ...   \n",
       "4     -0.128464   -0.221426     -0.757382  -0.091173 -0.045285 -0.119522  ...   \n",
       "\n",
       "   CAMEO_DEU_2015_7E  CAMEO_DEU_2015_8A  CAMEO_DEU_2015_8B  CAMEO_DEU_2015_8C  \\\n",
       "0          -0.104285          -0.220002          -0.169785            -0.1957   \n",
       "1          -0.104285          -0.220002          -0.169785            -0.1957   \n",
       "2          -0.104285          -0.220002          -0.169785            -0.1957   \n",
       "3          -0.104285          -0.220002          -0.169785            -0.1957   \n",
       "4          -0.104285          -0.220002          -0.169785            -0.1957   \n",
       "\n",
       "   CAMEO_DEU_2015_8D  CAMEO_DEU_2015_9A  CAMEO_DEU_2015_9B  CAMEO_DEU_2015_9C  \\\n",
       "0          -0.185712          -0.117402          -0.123217          -0.111028   \n",
       "1          -0.185712          -0.117402          -0.123217          -0.111028   \n",
       "2          -0.185712          -0.117402          -0.123217          -0.111028   \n",
       "3          -0.185712          -0.117402          -0.123217          -0.111028   \n",
       "4          -0.185712          -0.117402          -0.123217          -0.111028   \n",
       "\n",
       "   CAMEO_DEU_2015_9D  CAMEO_DEU_2015_9E  \n",
       "0          -0.138744          -0.087144  \n",
       "1          -0.138744          -0.087144  \n",
       "2          -0.138744          -0.087144  \n",
       "3          -0.138744          -0.087144  \n",
       "4          -0.138744          -0.087144  \n",
       "\n",
       "[5 rows x 425 columns]"
      ]
     },
     "execution_count": 12,
     "metadata": {},
     "output_type": "execute_result"
    }
   ],
   "source": [
    "X_cols = list(X_train.columns.values)\n",
    "scaler = StandardScaler()\n",
    "X_train = scaler.fit_transform(X_train)\n",
    "X_train = pd.DataFrame(X_train,columns=X_cols)\n",
    "X_train.head()"
   ]
  },
  {
   "cell_type": "markdown",
   "metadata": {},
   "source": [
    "**Different models**"
   ]
  },
  {
   "cell_type": "markdown",
   "metadata": {},
   "source": [
    "First, I will test a few simple different models"
   ]
  },
  {
   "cell_type": "code",
   "execution_count": 14,
   "metadata": {},
   "outputs": [],
   "source": [
    "logreg = LogisticRegression(n_jobs=-1)\n",
    "svc = SVC()\n",
    "random = RandomForestClassifier(n_jobs=-1)\n",
    "gbc = GradientBoostingClassifier()\n",
    "mlp = MLPClassifier()"
   ]
  },
  {
   "cell_type": "code",
   "execution_count": 15,
   "metadata": {
    "scrolled": true
   },
   "outputs": [
    {
     "name": "stderr",
     "output_type": "stream",
     "text": [
      "/home/caro/anaconda3/lib/python3.7/site-packages/sklearn/linear_model/logistic.py:433: FutureWarning: Default solver will be changed to 'lbfgs' in 0.22. Specify a solver to silence this warning.\n",
      "  FutureWarning)\n",
      "/home/caro/anaconda3/lib/python3.7/site-packages/sklearn/linear_model/logistic.py:1300: UserWarning: 'n_jobs' > 1 does not have any effect when 'solver' is set to 'liblinear'. Got 'n_jobs' = 8.\n",
      "  \" = {}.\".format(effective_n_jobs(self.n_jobs)))\n"
     ]
    },
    {
     "name": "stdout",
     "output_type": "stream",
     "text": [
      "LogisticRegression(C=1.0, class_weight=None, dual=False, fit_intercept=True,\n",
      "          intercept_scaling=1, max_iter=100, multi_class='warn', n_jobs=-1,\n",
      "          penalty='l2', random_state=None, solver='warn', tol=0.0001,\n",
      "          verbose=0, warm_start=False) 0.6680441897512686 49\n",
      "SVC(C=1.0, cache_size=200, class_weight=None, coef0=0.0,\n",
      "  decision_function_shape='ovr', degree=3, gamma='auto_deprecated',\n",
      "  kernel='rbf', max_iter=-1, probability=False, random_state=None,\n",
      "  shrinking=True, tol=0.001, verbose=False) 0.6400150780139727 1590\n"
     ]
    },
    {
     "name": "stderr",
     "output_type": "stream",
     "text": [
      "/home/caro/anaconda3/lib/python3.7/site-packages/sklearn/ensemble/forest.py:246: FutureWarning: The default value of n_estimators will change from 10 in version 0.20 to 100 in 0.22.\n",
      "  \"10 in version 0.20 to 100 in 0.22.\", FutureWarning)\n"
     ]
    },
    {
     "name": "stdout",
     "output_type": "stream",
     "text": [
      "RandomForestClassifier(bootstrap=True, class_weight=None, criterion='gini',\n",
      "            max_depth=None, max_features='auto', max_leaf_nodes=None,\n",
      "            min_impurity_decrease=0.0, min_impurity_split=None,\n",
      "            min_samples_leaf=1, min_samples_split=2,\n",
      "            min_weight_fraction_leaf=0.0, n_estimators='warn', n_jobs=-1,\n",
      "            oob_score=False, random_state=None, verbose=0,\n",
      "            warm_start=False) 0.5146161093061391 4\n",
      "GradientBoostingClassifier(criterion='friedman_mse', init=None,\n",
      "              learning_rate=0.1, loss='deviance', max_depth=3,\n",
      "              max_features=None, max_leaf_nodes=None,\n",
      "              min_impurity_decrease=0.0, min_impurity_split=None,\n",
      "              min_samples_leaf=1, min_samples_split=2,\n",
      "              min_weight_fraction_leaf=0.0, n_estimators=100,\n",
      "              n_iter_no_change=None, presort='auto', random_state=None,\n",
      "              subsample=1.0, tol=0.0001, validation_fraction=0.1,\n",
      "              verbose=0, warm_start=False) 0.7705253460015054 130\n",
      "MLPClassifier(activation='relu', alpha=0.0001, batch_size='auto', beta_1=0.9,\n",
      "       beta_2=0.999, early_stopping=False, epsilon=1e-08,\n",
      "       hidden_layer_sizes=(100,), learning_rate='constant',\n",
      "       learning_rate_init=0.001, max_iter=200, momentum=0.9,\n",
      "       n_iter_no_change=10, nesterovs_momentum=True, power_t=0.5,\n",
      "       random_state=None, shuffle=True, solver='adam', tol=0.0001,\n",
      "       validation_fraction=0.1, verbose=False, warm_start=False) 0.6542358581857667 52\n"
     ]
    }
   ],
   "source": [
    "class_list = [logreg,svc,random,gbc,mlp]\n",
    "for model in class_list:\n",
    "        time_0 = time.time()\n",
    "        grid = GridSearchCV(estimator=model, param_grid={}, scoring='roc_auc', cv=5, n_jobs=-1)\n",
    "        grid.fit(X_train, y_train)\n",
    "        time_1 = time.time()\n",
    "        print(model, grid.best_score_, round(time_1-time_0))\n",
    "        #print(grid.best_estimator_)"
   ]
  },
  {
   "cell_type": "markdown",
   "metadata": {},
   "source": [
    "The best metric corresponds to the GradientBoostingClassifier and the time that takes is reasonable."
   ]
  },
  {
   "cell_type": "markdown",
   "metadata": {},
   "source": [
    "**Improve the best model**"
   ]
  },
  {
   "cell_type": "code",
   "execution_count": 17,
   "metadata": {},
   "outputs": [
    {
     "name": "stdout",
     "output_type": "stream",
     "text": [
      "0.7790022316247631 GradientBoostingClassifier(criterion='friedman_mse', init=None,\n",
      "              learning_rate=0.1, loss='deviance', max_depth=4,\n",
      "              max_features=None, max_leaf_nodes=None,\n",
      "              min_impurity_decrease=0.0, min_impurity_split=None,\n",
      "              min_samples_leaf=1, min_samples_split=2,\n",
      "              min_weight_fraction_leaf=0.0, n_estimators=100,\n",
      "              n_iter_no_change=None, presort='auto', random_state=None,\n",
      "              subsample=1.0, tol=0.0001, validation_fraction=0.1,\n",
      "              verbose=0, warm_start=False)\n"
     ]
    }
   ],
   "source": [
    "param_grid = {'max_depth': [3,4,5],\n",
    "             'loss':['deviance', 'exponential'],\n",
    "             'n_estimators': [100, 150, 200]}\n",
    "\n",
    "best = GridSearchCV(estimator=GradientBoostingClassifier(), param_grid=param_grid, scoring='roc_auc', cv=3, n_jobs=-1)\n",
    "best.fit(X_train, y_train)\n",
    "\n",
    "print(best.best_score_,best.best_estimator_)"
   ]
  },
  {
   "cell_type": "markdown",
   "metadata": {},
   "source": [
    "The model improves a little when we choose max_depth=4, loss='deviance' and n_estimators = 100"
   ]
  },
  {
   "cell_type": "markdown",
   "metadata": {},
   "source": [
    "## Part 3: Kaggle Competition\n",
    "\n",
    "Now that you've created a model to predict which individuals are most likely to respond to a mailout campaign, it's time to test that model in competition through Kaggle. If you click on the link [here](http://www.kaggle.com/t/21e6d45d4c574c7fa2d868f0e8c83140), you'll be taken to the competition page where, if you have a Kaggle account, you can enter. If you're one of the top performers, you may have the chance to be contacted by a hiring manager from Arvato or Bertelsmann for an interview!\n",
    "\n",
    "Your entry to the competition should be a CSV file with two columns. The first column should be a copy of \"LNR\", which acts as an ID number for each individual in the \"TEST\" partition. The second column, \"RESPONSE\", should be some measure of how likely each individual became a customer – this might not be a straightforward probability. As you should have found in Part 2, there is a large output class imbalance, where most individuals did not respond to the mailout. Thus, predicting individual classes and using accuracy does not seem to be an appropriate performance evaluation method. Instead, the competition will be using AUC to evaluate performance. The exact values of the \"RESPONSE\" column do not matter as much: only that the higher values try to capture as many of the actual customers as possible, early in the ROC curve sweep."
   ]
  },
  {
   "cell_type": "code",
   "execution_count": null,
   "metadata": {},
   "outputs": [],
   "source": [
    "mailout_test = pd.read_csv('../../data/Term2/capstone/arvato_data/Udacity_MAILOUT_052018_TEST.csv', sep=';')"
   ]
  },
  {
   "cell_type": "code",
   "execution_count": null,
   "metadata": {},
   "outputs": [],
   "source": [
    "mailout_test = pd.read_csv('mailout_test.csv', sep=';')"
   ]
  },
  {
   "cell_type": "code",
   "execution_count": null,
   "metadata": {},
   "outputs": [],
   "source": [
    "LNR_test = mailout_test['LNR']"
   ]
  },
  {
   "cell_type": "code",
   "execution_count": null,
   "metadata": {},
   "outputs": [],
   "source": [
    "test_clean = clean_df4(mailout_test, del_rows=False)\n",
    "test_cols = list(test_clean.columns.values)"
   ]
  },
  {
   "cell_type": "code",
   "execution_count": null,
   "metadata": {},
   "outputs": [],
   "source": [
    "X_test = scaler.transform(test_clean)\n",
    "X_test = pd.DataFrame(X_test, columns = test_cols)"
   ]
  }
 ],
 "metadata": {
  "kernelspec": {
   "display_name": "Python 3",
   "language": "python",
   "name": "python3"
  },
  "language_info": {
   "codemirror_mode": {
    "name": "ipython",
    "version": 3
   },
   "file_extension": ".py",
   "mimetype": "text/x-python",
   "name": "python",
   "nbconvert_exporter": "python",
   "pygments_lexer": "ipython3",
   "version": "3.7.3"
  }
 },
 "nbformat": 4,
 "nbformat_minor": 2
}
